{
 "cells": [
  {
   "cell_type": "markdown",
   "metadata": {},
   "source": [
    "Read only stvari"
   ]
  },
  {
   "cell_type": "code",
   "execution_count": 1,
   "metadata": {},
   "outputs": [],
   "source": [
    "import os\n",
    "states=[\n",
    "    'Alabama', 'Alaska', 'Arizona', 'Arkansas', 'California', 'Colorado', 'Connecticut',\n",
    "    'Delaware', 'Florida', 'Georgia', 'Hawaii', 'Idaho', 'Illinois', 'Indiana', 'Iowa',\n",
    "    'Kansas', 'Kentucky', 'Louisiana', 'Maine', 'Maryland', 'Massachusetts', 'Michigan',\n",
    "    'Minnesota', 'Mississippi', 'Missouri', 'Montana', 'Nebraska', 'Nevada', 'New Hampshire',\n",
    "    'New Jersey', 'New Mexico', 'New York', 'North Carolina', 'North Dakota', 'Ohio',\n",
    "    'Oklahoma', 'Oregon', 'Pennsylvania', 'Rhode Island', 'South Carolina', 'South Dakota',\n",
    "    'Tennessee', 'Texas', 'Utah', 'Vermont', 'Virginia', 'Washington', 'West Virginia',\n",
    "    'Wisconsin', 'Wyoming'\n",
    "]\n",
    "main_folder=\"..\"\n",
    "trainset=os.path.join(main_folder,'d50States10k')\n",
    "valset=os.path.join(main_folder,'d50States2K_test\\\\test_data')"
   ]
  },
  {
   "cell_type": "markdown",
   "metadata": {},
   "source": [
    "Definisemo dataset"
   ]
  },
  {
   "cell_type": "code",
   "execution_count": 2,
   "metadata": {},
   "outputs": [],
   "source": [
    "import torch\n",
    "import torchvision\n",
    "import numpy as np\n",
    "import os \n",
    "import cv2\n",
    "from torch.utils.data import Dataset,TensorDataset\n",
    "\n",
    "def obradi(slika):\n",
    "    r=slika[:,:,0]\n",
    "    g=slika[:,:,1]\n",
    "    b=slika[:,:,2]\n",
    "    slika = np.stack([r, g, b], axis=0)\n",
    "    slika=slika.astype(float)\n",
    "    slika/=255\n",
    "    slika=torch.from_numpy(slika)\n",
    "    return slika"
   ]
  },
  {
   "cell_type": "markdown",
   "metadata": {},
   "source": [
    "Klasa i inicijalizacija seta "
   ]
  },
  {
   "cell_type": "code",
   "execution_count": 3,
   "metadata": {},
   "outputs": [],
   "source": [
    "class LokacijeDataset(Dataset):\n",
    "    def __init__(self,tip):\n",
    "        imena=[] #Ime slike\n",
    "        klase=[] #Broj klase\n",
    "        for i in range(0,50):\n",
    "            \n",
    "            \n",
    "            if tip==\"train\":\n",
    "                put=os.path.join(trainset,states[i])\n",
    "            else:\n",
    "                put=os.path.join(valset,states[i])\n",
    "            slike=os.listdir(put)\n",
    "            N=len(slike)\n",
    "            for j in range(0,N,4):\n",
    "               # print(j,tip)\n",
    "                #print(states[i],slike[j],slike[j][:-7])\n",
    "                imena.append(slike[j][:-6])\n",
    "                klase.append(i)\n",
    "        self.klase=klase\n",
    "        self.imena=imena\n",
    "    def __len__(self):\n",
    "        return len(self.klase)\n",
    "    def __getitem__(self,idx):\n",
    "        ime = self.imena[idx]\n",
    "        klasa = self.klase[idx]\n",
    "        #print(klasa,ime)\n",
    "        ret=[]\n",
    "        for i in range(0,360,90):\n",
    "            #print(ime)\n",
    "            trenime=ime+\"_\"+str(i)+\".jpg\"\n",
    "            put=os.path.join(trainset,states[klasa])\n",
    "            if not os.path.exists(os.path.join(put,trenime)):\n",
    "                put=os.path.join(valset,states[klasa])\n",
    "            put=os.path.join(put,trenime)\n",
    "           # print(put)\n",
    "            slika=cv2.imread(put)\n",
    "            slika=obradi(slika)\n",
    "            ret.append(slika)\n",
    "        del slika\n",
    "        return { \n",
    "            'data':torch.stack(ret),\n",
    "            'label':self.klase[idx]\n",
    "        }\n",
    "\n",
    "train_set = LokacijeDataset(\"train\")\n",
    "train_set,val_set=torch.utils.data.random_split(train_set,[0.9,0.1])\n",
    "test_set= LokacijeDataset(\"test\")"
   ]
  },
  {
   "cell_type": "code",
   "execution_count": 4,
   "metadata": {},
   "outputs": [
    {
     "name": "stdout",
     "output_type": "stream",
     "text": [
      "112500\n",
      "12499\n",
      "24998\n"
     ]
    }
   ],
   "source": [
    "print(len(train_set))\n",
    "print(len(val_set))\n",
    "print(len(test_set))"
   ]
  },
  {
   "cell_type": "code",
   "execution_count": 5,
   "metadata": {},
   "outputs": [],
   "source": [
    "if torch.cuda.is_available():\n",
    "    device=\"cuda\"\n",
    "else:\n",
    "    device=\"cpu\"\n",
    "    print(\"NE RADI CUDA!\")"
   ]
  },
  {
   "cell_type": "markdown",
   "metadata": {},
   "source": [
    "Inicijalizacija mreze"
   ]
  },
  {
   "cell_type": "code",
   "execution_count": 6,
   "metadata": {},
   "outputs": [
    {
     "name": "stderr",
     "output_type": "stream",
     "text": [
      "c:\\Users\\psiml\\AppData\\Local\\Programs\\Python\\Python311\\Lib\\site-packages\\torchvision\\models\\_utils.py:208: UserWarning: The parameter 'pretrained' is deprecated since 0.13 and may be removed in the future, please use 'weights' instead.\n",
      "  warnings.warn(\n",
      "c:\\Users\\psiml\\AppData\\Local\\Programs\\Python\\Python311\\Lib\\site-packages\\torchvision\\models\\_utils.py:223: UserWarning: Arguments other than a weight enum or `None` for 'weights' are deprecated since 0.13 and may be removed in the future. The current behavior is equivalent to passing `weights=VGG16_BN_Weights.IMAGENET1K_V1`. You can also use `weights=VGG16_BN_Weights.DEFAULT` to get the most up-to-date weights.\n",
      "  warnings.warn(msg)\n"
     ]
    }
   ],
   "source": [
    "from copy import deepcopy\n",
    "import torch.nn as nn\n",
    "from torchvision import models\n",
    "import torch.nn as nn\n",
    "import torch\n",
    "\n",
    "vgg = models.vgg16_bn(pretrained=True)\n",
    "for param in vgg.parameters():\n",
    "    param.requires_grad = False\n",
    "\n",
    "class Mreza (nn.Module):\n",
    "    def __init__ (self):\n",
    "        super().__init__()\n",
    "        self.features = deepcopy(vgg.features)\n",
    "        self.avgpool = deepcopy(vgg.avgpool)\n",
    "        self.konvolucija=nn.Sequential(\n",
    "            self.features,\n",
    "            self.avgpool,\n",
    "            nn.Flatten()\n",
    "        )\n",
    "\n",
    "        self.povezan=nn.Sequential(\n",
    "            nn.Linear (100352, 1000),\n",
    "            nn.BatchNorm1d(1000),\n",
    "            nn.ReLU(),\n",
    "            nn.Dropout(0.5),\n",
    "            nn.Linear(1000, 450),\n",
    "            nn.BatchNorm1d(450),\n",
    "            nn.ReLU(),\n",
    "            nn.Dropout(0.5),\n",
    "            nn.Linear(450, 50),\n",
    "        )\n",
    "        self.povezan.to(device)\n",
    "        self.konvolucija.to(device)\n",
    "\n",
    "    def forward (self, x):\n",
    "       # print(x.size())\n",
    "        x=x.type(torch.float)  \n",
    "        a=self.konvolucija(x[:,0,:,:,:])\n",
    "        b=self.konvolucija(x[:,1,:,:,:])\n",
    "        c=self.konvolucija(x[:,2,:,:,:])\n",
    "        d=self.konvolucija(x[:,3,:,:,:])\n",
    "       # print(a,b,c,d)\n",
    "        tens=torch.cat([a,b,c,d],1)\n",
    "        del a,b,c,d\n",
    "        #print(tens)\n",
    "        return self.povezan(tens)\n",
    "model = Mreza()"
   ]
  },
  {
   "cell_type": "markdown",
   "metadata": {},
   "source": [
    "Inicijalizacija parametara"
   ]
  },
  {
   "cell_type": "code",
   "execution_count": 7,
   "metadata": {},
   "outputs": [],
   "source": [
    "broj_epoha = 50\n",
    "batch_velicina=100\n",
    "loss_funk = nn.CrossEntropyLoss()\n",
    "optimizer = torch.optim.Adam(model.parameters(),lr=0.001)\n",
    "loader = torch.utils.data.DataLoader(dataset=train_set,batch_size=batch_velicina,shuffle=True,num_workers=0,drop_last=True,pin_memory=True)\n",
    "val_loader = torch.utils.data.DataLoader(dataset=val_set,batch_size=batch_velicina,shuffle=False,num_workers=0,drop_last=False,pin_memory=True)"
   ]
  },
  {
   "cell_type": "markdown",
   "metadata": {},
   "source": [
    "Testiranje"
   ]
  },
  {
   "cell_type": "code",
   "execution_count": 8,
   "metadata": {},
   "outputs": [],
   "source": [
    "def totensor(y):\n",
    "    ret=np.zeros((len(y),50))\n",
    "    for i in range(0,len(y)):\n",
    "        ret[i][round(y[i].item())]=1\n",
    "    ret= torch.Tensor(ret)\n",
    "    ret=ret.to(device)\n",
    "    return ret\n",
    "\n",
    "def test(model,sample):\n",
    "    #print(sample)\n",
    "    sample=sample.to(device)\n",
    "    rez=model(sample.reshape(1,4,3,256,256))\n",
    "    #print(rez)\n",
    "    _,b=torch.max(rez,dim=1)\n",
    "    #print(rez,b)\n",
    "    return b\n",
    "\n",
    "def get_accuracy(y_hat,y):\n",
    "    y_hat = y_hat.cpu().detach().numpy()\n",
    "    y=y.cpu().numpy()\n",
    "    #print(y_hat)\n",
    "    y_hat=np.argmax(y_hat,axis=1)\n",
    "    #print(y_hat)\n",
    "    corrects=(y_hat==y).sum()\n",
    "    #print(y_hat,y,corrects)\n",
    "    return corrects.item()\n",
    "\n",
    "def validation(model):\n",
    "    with torch.no_grad():\n",
    "        model.eval()\n",
    "        kol=0\n",
    "        total_loss=0\n",
    "        for batch_num, lokacije in enumerate(val_loader):\n",
    "            x=lokacije['data']\n",
    "            y=lokacije['label']\n",
    "            x = x.to(device)\n",
    "            y = y.to(device)\n",
    "                #print(y)\n",
    "            y_hat = model(x)\n",
    "            loss=loss_funk(y_hat,totensor(y))\n",
    "            total_loss+=loss.detach().item()\n",
    "           # print(np.argmax(y_hat.cpu().detach().numpy(),axis=1),y)\n",
    "            kol+=get_accuracy(y_hat=y_hat, y=y)\n",
    "            #print(kol)\n",
    "            del y_hat\n",
    "        kol=kol*100/len(val_set)\n",
    "        total_loss/=(batch_num+1)\n",
    "    return total_loss,kol\n",
    "\n",
    "def test_weights(net):\n",
    "    print(list(net.parameters())[-6])\n",
    "\n",
    "def test_out():\n",
    "    with torch.no_grad():\n",
    "        a = val_set[100]['data'].reshape(1,4,3,256,256).to(device)\n",
    "        tmp = model(a)\n",
    "    print(tmp)"
   ]
  },
  {
   "cell_type": "markdown",
   "metadata": {},
   "source": [
    "Treniranje"
   ]
  },
  {
   "cell_type": "code",
   "execution_count": 9,
   "metadata": {},
   "outputs": [
    {
     "name": "stdout",
     "output_type": "stream",
     "text": [
      "Epoch: 1\t100.00% complete. 3211.04 seconds elapsed in epoch. Time until completion 0.00 seconds...\n",
      "NEW BEST MODEL: Epoch: 1 | Train Loss: 2.8684 | Train Accuracy: 21.26 | Validation Loss: 2.4053 | Validation Accuracy: 32.26\n",
      "Epoch: 2\t100.00% complete. 2413.75 seconds elapsed in epoch. Time until completion 0.00 seconds...\n",
      "NEW BEST MODEL: Epoch: 2 | Train Loss: 2.2351 | Train Accuracy: 35.82 | Validation Loss: 2.2493 | Validation Accuracy: 36.52\n",
      "Epoch: 3\t100.00% complete. 2493.48 seconds elapsed in epoch. Time until completion 0.00 seconds...\n",
      "NEW BEST MODEL: Epoch: 3 | Train Loss: 1.8175 | Train Accuracy: 46.60 | Validation Loss: 2.2384 | Validation Accuracy: 37.14\n",
      "Epoch: 4\t100.00% complete. 2453.31 seconds elapsed in epoch. Time until completion 0.00 seconds...\n",
      "NEW BEST MODEL: Epoch: 4 | Train Loss: 1.4418 | Train Accuracy: 56.39 | Validation Loss: 2.2778 | Validation Accuracy: 37.42\n",
      "Epoch: 5\t100.00% complete. 2528.42 seconds elapsed in epoch. Time until completion 0.00 seconds...\n",
      "Epoch: 5 | Train Loss: 1.1092 | Train Accuracy: 65.76 | Validation Loss: 2.4195 | Validation Accuracy: 36.81\n",
      "Epoch: 6\t100.00% complete. 2446.15 seconds elapsed in epoch. Time until completion 0.00 seconds...\n",
      "Epoch: 6 | Train Loss: 0.8443 | Train Accuracy: 73.40 | Validation Loss: 2.5908 | Validation Accuracy: 36.42\n",
      "Epoch: 7\t100.00% complete. 2472.56 seconds elapsed in epoch. Time until completion 0.00 seconds...\n",
      "Epoch: 7 | Train Loss: 0.6600 | Train Accuracy: 78.99 | Validation Loss: 2.6970 | Validation Accuracy: 36.34\n",
      "Epoch: 8\t32.62% complete. 794.86 seconds elapsed in epoch. Time until completion 1641.69 seconds.\r"
     ]
    },
    {
     "ename": "KeyboardInterrupt",
     "evalue": "",
     "output_type": "error",
     "traceback": [
      "\u001b[1;31m---------------------------------------------------------------------------\u001b[0m",
      "\u001b[1;31mKeyboardInterrupt\u001b[0m                         Traceback (most recent call last)",
      "Cell \u001b[1;32mIn[9], line 19\u001b[0m\n\u001b[0;32m     16\u001b[0m model \u001b[39m=\u001b[39m model\u001b[39m.\u001b[39mtrain()\n\u001b[0;32m     18\u001b[0m start \u001b[39m=\u001b[39m time\u001b[39m.\u001b[39mtime()\n\u001b[1;32m---> 19\u001b[0m \u001b[39mfor\u001b[39;00m batch_num, lokacije \u001b[39min\u001b[39;00m \u001b[39menumerate\u001b[39m(loader):\n\u001b[0;32m     20\u001b[0m         \u001b[39m#test_out()\u001b[39;00m\n\u001b[0;32m     21\u001b[0m        \u001b[39m# print(\"RADI\")\u001b[39;00m\n\u001b[0;32m     22\u001b[0m         x\u001b[39m=\u001b[39mlokacije[\u001b[39m'\u001b[39m\u001b[39mdata\u001b[39m\u001b[39m'\u001b[39m]\n\u001b[0;32m     23\u001b[0m         y\u001b[39m=\u001b[39mlokacije[\u001b[39m'\u001b[39m\u001b[39mlabel\u001b[39m\u001b[39m'\u001b[39m]\n",
      "File \u001b[1;32mc:\\Users\\psiml\\AppData\\Local\\Programs\\Python\\Python311\\Lib\\site-packages\\torch\\utils\\data\\dataloader.py:633\u001b[0m, in \u001b[0;36m_BaseDataLoaderIter.__next__\u001b[1;34m(self)\u001b[0m\n\u001b[0;32m    630\u001b[0m \u001b[39mif\u001b[39;00m \u001b[39mself\u001b[39m\u001b[39m.\u001b[39m_sampler_iter \u001b[39mis\u001b[39;00m \u001b[39mNone\u001b[39;00m:\n\u001b[0;32m    631\u001b[0m     \u001b[39m# TODO(https://github.com/pytorch/pytorch/issues/76750)\u001b[39;00m\n\u001b[0;32m    632\u001b[0m     \u001b[39mself\u001b[39m\u001b[39m.\u001b[39m_reset()  \u001b[39m# type: ignore[call-arg]\u001b[39;00m\n\u001b[1;32m--> 633\u001b[0m data \u001b[39m=\u001b[39m \u001b[39mself\u001b[39;49m\u001b[39m.\u001b[39;49m_next_data()\n\u001b[0;32m    634\u001b[0m \u001b[39mself\u001b[39m\u001b[39m.\u001b[39m_num_yielded \u001b[39m+\u001b[39m\u001b[39m=\u001b[39m \u001b[39m1\u001b[39m\n\u001b[0;32m    635\u001b[0m \u001b[39mif\u001b[39;00m \u001b[39mself\u001b[39m\u001b[39m.\u001b[39m_dataset_kind \u001b[39m==\u001b[39m _DatasetKind\u001b[39m.\u001b[39mIterable \u001b[39mand\u001b[39;00m \\\n\u001b[0;32m    636\u001b[0m         \u001b[39mself\u001b[39m\u001b[39m.\u001b[39m_IterableDataset_len_called \u001b[39mis\u001b[39;00m \u001b[39mnot\u001b[39;00m \u001b[39mNone\u001b[39;00m \u001b[39mand\u001b[39;00m \\\n\u001b[0;32m    637\u001b[0m         \u001b[39mself\u001b[39m\u001b[39m.\u001b[39m_num_yielded \u001b[39m>\u001b[39m \u001b[39mself\u001b[39m\u001b[39m.\u001b[39m_IterableDataset_len_called:\n",
      "File \u001b[1;32mc:\\Users\\psiml\\AppData\\Local\\Programs\\Python\\Python311\\Lib\\site-packages\\torch\\utils\\data\\dataloader.py:677\u001b[0m, in \u001b[0;36m_SingleProcessDataLoaderIter._next_data\u001b[1;34m(self)\u001b[0m\n\u001b[0;32m    675\u001b[0m \u001b[39mdef\u001b[39;00m \u001b[39m_next_data\u001b[39m(\u001b[39mself\u001b[39m):\n\u001b[0;32m    676\u001b[0m     index \u001b[39m=\u001b[39m \u001b[39mself\u001b[39m\u001b[39m.\u001b[39m_next_index()  \u001b[39m# may raise StopIteration\u001b[39;00m\n\u001b[1;32m--> 677\u001b[0m     data \u001b[39m=\u001b[39m \u001b[39mself\u001b[39;49m\u001b[39m.\u001b[39;49m_dataset_fetcher\u001b[39m.\u001b[39;49mfetch(index)  \u001b[39m# may raise StopIteration\u001b[39;00m\n\u001b[0;32m    678\u001b[0m     \u001b[39mif\u001b[39;00m \u001b[39mself\u001b[39m\u001b[39m.\u001b[39m_pin_memory:\n\u001b[0;32m    679\u001b[0m         data \u001b[39m=\u001b[39m _utils\u001b[39m.\u001b[39mpin_memory\u001b[39m.\u001b[39mpin_memory(data, \u001b[39mself\u001b[39m\u001b[39m.\u001b[39m_pin_memory_device)\n",
      "File \u001b[1;32mc:\\Users\\psiml\\AppData\\Local\\Programs\\Python\\Python311\\Lib\\site-packages\\torch\\utils\\data\\_utils\\fetch.py:51\u001b[0m, in \u001b[0;36m_MapDatasetFetcher.fetch\u001b[1;34m(self, possibly_batched_index)\u001b[0m\n\u001b[0;32m     49\u001b[0m         data \u001b[39m=\u001b[39m \u001b[39mself\u001b[39m\u001b[39m.\u001b[39mdataset\u001b[39m.\u001b[39m__getitems__(possibly_batched_index)\n\u001b[0;32m     50\u001b[0m     \u001b[39melse\u001b[39;00m:\n\u001b[1;32m---> 51\u001b[0m         data \u001b[39m=\u001b[39m [\u001b[39mself\u001b[39;49m\u001b[39m.\u001b[39;49mdataset[idx] \u001b[39mfor\u001b[39;49;00m idx \u001b[39min\u001b[39;49;00m possibly_batched_index]\n\u001b[0;32m     52\u001b[0m \u001b[39melse\u001b[39;00m:\n\u001b[0;32m     53\u001b[0m     data \u001b[39m=\u001b[39m \u001b[39mself\u001b[39m\u001b[39m.\u001b[39mdataset[possibly_batched_index]\n",
      "File \u001b[1;32mc:\\Users\\psiml\\AppData\\Local\\Programs\\Python\\Python311\\Lib\\site-packages\\torch\\utils\\data\\_utils\\fetch.py:51\u001b[0m, in \u001b[0;36m<listcomp>\u001b[1;34m(.0)\u001b[0m\n\u001b[0;32m     49\u001b[0m         data \u001b[39m=\u001b[39m \u001b[39mself\u001b[39m\u001b[39m.\u001b[39mdataset\u001b[39m.\u001b[39m__getitems__(possibly_batched_index)\n\u001b[0;32m     50\u001b[0m     \u001b[39melse\u001b[39;00m:\n\u001b[1;32m---> 51\u001b[0m         data \u001b[39m=\u001b[39m [\u001b[39mself\u001b[39;49m\u001b[39m.\u001b[39;49mdataset[idx] \u001b[39mfor\u001b[39;00m idx \u001b[39min\u001b[39;00m possibly_batched_index]\n\u001b[0;32m     52\u001b[0m \u001b[39melse\u001b[39;00m:\n\u001b[0;32m     53\u001b[0m     data \u001b[39m=\u001b[39m \u001b[39mself\u001b[39m\u001b[39m.\u001b[39mdataset[possibly_batched_index]\n",
      "File \u001b[1;32mc:\\Users\\psiml\\AppData\\Local\\Programs\\Python\\Python311\\Lib\\site-packages\\torch\\utils\\data\\dataset.py:298\u001b[0m, in \u001b[0;36mSubset.__getitem__\u001b[1;34m(self, idx)\u001b[0m\n\u001b[0;32m    296\u001b[0m \u001b[39mif\u001b[39;00m \u001b[39misinstance\u001b[39m(idx, \u001b[39mlist\u001b[39m):\n\u001b[0;32m    297\u001b[0m     \u001b[39mreturn\u001b[39;00m \u001b[39mself\u001b[39m\u001b[39m.\u001b[39mdataset[[\u001b[39mself\u001b[39m\u001b[39m.\u001b[39mindices[i] \u001b[39mfor\u001b[39;00m i \u001b[39min\u001b[39;00m idx]]\n\u001b[1;32m--> 298\u001b[0m \u001b[39mreturn\u001b[39;00m \u001b[39mself\u001b[39;49m\u001b[39m.\u001b[39;49mdataset[\u001b[39mself\u001b[39;49m\u001b[39m.\u001b[39;49mindices[idx]]\n",
      "Cell \u001b[1;32mIn[3], line 36\u001b[0m, in \u001b[0;36mLokacijeDataset.__getitem__\u001b[1;34m(self, idx)\u001b[0m\n\u001b[0;32m     34\u001b[0m  put\u001b[39m=\u001b[39mos\u001b[39m.\u001b[39mpath\u001b[39m.\u001b[39mjoin(put,trenime)\n\u001b[0;32m     35\u001b[0m \u001b[39m# print(put)\u001b[39;00m\n\u001b[1;32m---> 36\u001b[0m  slika\u001b[39m=\u001b[39mcv2\u001b[39m.\u001b[39;49mimread(put)\n\u001b[0;32m     37\u001b[0m  slika\u001b[39m=\u001b[39mobradi(slika)\n\u001b[0;32m     38\u001b[0m  ret\u001b[39m.\u001b[39mappend(slika)\n",
      "\u001b[1;31mKeyboardInterrupt\u001b[0m: "
     ]
    }
   ],
   "source": [
    "best_model = model\n",
    "best_acc=0\n",
    "\n",
    "import copy\n",
    "import time\n",
    "\n",
    "import datetime\n",
    "ime=\"TrainingLogs\\\\VGG_TRAINING_\"\n",
    "ime+=datetime.datetime.now().strftime(\"%d_%m_%Y_%H_%M_%S\")\n",
    "ime+=\".txt\"\n",
    "#print(ime)\n",
    "ouf = open(ime,\"w\")  \n",
    "for epoha in range(1,broj_epoha+1):\n",
    "    train_running_loss =0.0\n",
    "    train_acc=0.0\n",
    "    model = model.train()\n",
    "    \n",
    "    start = time.time()\n",
    "    for batch_num, lokacije in enumerate(loader):\n",
    "            #test_out()\n",
    "           # print(\"RADI\")\n",
    "            x=lokacije['data']\n",
    "            y=lokacije['label']\n",
    "            x = x.to(device)\n",
    "            y = y.to(device)\n",
    "           # print(x)\n",
    "            optimizer.zero_grad()\n",
    "            y_hat = model(x)\n",
    "            #print(y_hat.get_device())\n",
    "            #print(y.get_device())\n",
    "           # print(y_hat,totensor(y))\n",
    "            loss = loss_funk(y_hat, totensor(y))\n",
    "            \n",
    "            loss.backward()\n",
    "            optimizer.step()\n",
    "\n",
    "\n",
    "            train_running_loss += loss.detach().item()\n",
    "            train_acc += get_accuracy(y_hat=y_hat, y=y)\n",
    "            del y_hat\n",
    "            del x\n",
    "            del y \n",
    "            del loss\n",
    "\n",
    "            print(f'Epoch: {epoha}\\t{100 * (batch_num + 1) / len(loader):.2f}% complete. {time.time() - start:.2f} seconds elapsed in epoch. Time until completion {(time.time()-start)/((batch_num + 1) / len(loader)) - time.time()+start:.2f} seconds.',\n",
    "                end='\\r')\n",
    "\n",
    "    print(f'',end='\\n')    \n",
    "    epoch_loss = train_running_loss / (batch_num+1)\n",
    "    epoch_acc = 100*train_acc / ((batch_num+1)*batch_velicina)\n",
    "    val_loss,val_acc = validation(model)\n",
    "    if val_acc>best_acc:\n",
    "        best_acc=val_acc\n",
    "        best_model=copy.deepcopy(model)\n",
    "        torch.save(best_model,'VGGBestModel.pt')\n",
    "        ouf.write(\"NEW BEST MODEL: \")\n",
    "        print(\"NEW BEST MODEL: \",end='')\n",
    "\n",
    "    ouf.write('Epoch: %d | Train Loss: %.4f | Train Accuracy: %.2f | Validation Loss: %.4f | Validation Accuracy: %.2f' \\\n",
    "          %(epoha, epoch_loss, epoch_acc,val_loss,val_acc))\n",
    "    ouf.write(\"\\n\")\n",
    "    print('Epoch: %d | Train Loss: %.4f | Train Accuracy: %.2f | Validation Loss: %.4f | Validation Accuracy: %.2f' \\\n",
    "          %(epoha, epoch_loss, epoch_acc,val_loss,val_acc))"
   ]
  },
  {
   "cell_type": "code",
   "execution_count": null,
   "metadata": {},
   "outputs": [],
   "source": [
    "for i in range(0,len(val_set)):\n",
    "    a=val_set[i]['data']\n",
    "    if(test(model,a)==val_set[i]['label']):\n",
    "        print(i)"
   ]
  },
  {
   "cell_type": "code",
   "execution_count": null,
   "metadata": {},
   "outputs": [],
   "source": [
    "def validation(model):\n",
    "    with torch.no_grad():\n",
    "        model.eval()\n",
    "        kol=0\n",
    "        total_loss=0\n",
    "        for batch_num, lokacije in enumerate(val_loader):\n",
    "            x=lokacije['data']\n",
    "            y=lokacije['label']\n",
    "            x = x.to(device)\n",
    "            y = y.to(device)\n",
    "                #print(y)\n",
    "            y_hat = model(x)\n",
    "            loss=loss_funk(y_hat,totensor(y))\n",
    "            total_loss+=loss.detach().item()\n",
    "           # print(np.argmax(y_hat.cpu().detach().numpy(),axis=1),y)\n",
    "            kol+=get_accuracy(y_hat=y_hat, y=y)/len(y)\n",
    "            #print(kol)\n",
    "            del y_hat\n",
    "        print(batch_num)\n",
    "        kol=kol*100/(batch_num+1)\n",
    "        #total_loss/=(batch_num+1)\n",
    "    return total_loss,kol\n",
    "\n",
    "validation(model)"
   ]
  },
  {
   "cell_type": "code",
   "execution_count": null,
   "metadata": {},
   "outputs": [],
   "source": [
    "val_loader = torch.utils.data.DataLoader(dataset=val_set,batch_size=500,shuffle=False,num_workers=0,drop_last=False,pin_memory=True)\n",
    "\n",
    "def get_accuracy(y_hat,y):\n",
    "    y_hat = y_hat.cpu().detach().numpy()\n",
    "    y=y.cpu().numpy()\n",
    "    #print(y_hat)\n",
    "    y_hat=np.argmax(y_hat,axis=1)\n",
    "    #print(y_hat)\n",
    "    corrects=(y_hat==y).sum()\n",
    "    #print(y_hat,y,corrects)\n",
    "    return corrects.item()\n",
    "\n",
    "def vall(model):\n",
    "    with torch.no_grad():\n",
    "        model.eval()\n",
    "        kol=0\n",
    "        for batch_num, lokacije in enumerate(val_loader):\n",
    "            x=lokacije['data']\n",
    "            y=lokacije['label']\n",
    "            x = x.to(device)\n",
    "            y = y.to(device)\n",
    "                #print(y)\n",
    "            #print(x.size())\n",
    "            y_hat = model(x)\n",
    "            #print(y_hat)\n",
    "            #print(y_hat,y)\n",
    "            kol+=get_accuracy(y_hat=y_hat, y=y)\n",
    "            del y_hat\n",
    "    return kol\n",
    "\n",
    "vall(m2)"
   ]
  },
  {
   "cell_type": "code",
   "execution_count": 10,
   "metadata": {},
   "outputs": [
    {
     "name": "stdout",
     "output_type": "stream",
     "text": [
      "(2.277770133972168, 37.41899351948156)\n"
     ]
    }
   ],
   "source": [
    "print(validation(best_model))"
   ]
  },
  {
   "cell_type": "code",
   "execution_count": null,
   "metadata": {},
   "outputs": [],
   "source": [
    "torch.save(best_model,'VGGBestModel.pt')"
   ]
  },
  {
   "cell_type": "code",
   "execution_count": 9,
   "metadata": {},
   "outputs": [],
   "source": [
    "best_model = torch.load('VGGBestModel.pt')\n",
    "best_model=best_model.to(device)"
   ]
  },
  {
   "cell_type": "code",
   "execution_count": null,
   "metadata": {},
   "outputs": [],
   "source": [
    "validation(m2)"
   ]
  },
  {
   "cell_type": "code",
   "execution_count": 10,
   "metadata": {},
   "outputs": [
    {
     "name": "stdout",
     "output_type": "stream",
     "text": [
      "[3, 4, 2, 1, 11, 20, 5, 5, 8, 3, 1, 1, 3, 6, 3, 2, 12, 3, 10, 7, 2, 31, 13, 8, 7, 2, 4, 18, 4, 7, 4, 3, 20, 25, 4, 7, 12, 2, 9, 6, 2, 6, 14, 13, 16, 5, 2, 2, 15, 1, 30, 4, 3, 10, 3, 11, 11, 3, 3, 8, 16, 16, 3, 3, 2, 17, 3, 21, 7, 8, 5, 6, 2, 9, 6, 2, 14, 6, 9, 1, 10, 2, 8, 5, 4, 4, 1, 1, 7, 4, 2, 1, 3, 6, 1, 1, 7, 2, 1, 1, 13, 1, 5, 4, 1, 3, 1, 8, 2, 5, 3, 1, 3, 4, 1, 4, 6, 1, 6, 4, 2, 1, 2, 1, 4, 3, 1, 3, 4, 4, 6, 2, 2, 2, 3, 1, 18, 1, 3, 1, 6, 2, 8, 4, 8, 1, 4, 2, 5, 2, 4, 7, 2, 4, 2, 4, 2, 2, 13, 4, 3, 4, 3, 4, 2, 1, 1, 10, 5, 6, 2, 8, 1, 2, 3, 14, 3, 1, 1, 2, 37, 3, 11, 3, 10, 1, 6, 3, 3, 3, 3, 1, 4, 2, 1, 8, 1, 13, 4, 2, 1, 1, 3, 7, 17, 2, 1, 1, 11, 5, 1, 2, 16, 1, 2, 1, 1, 2, 8, 1, 3, 2, 2, 9, 1, 1, 1, 1, 1, 1, 3, 1, 2, 3, 2, 1, 2, 3, 3, 2, 1, 3, 4, 14, 3, 4, 2, 3, 3, 2, 1, 19, 5, 12, 3, 1, 12, 2, 4, 16, 2, 2, 1, 5, 1, 3, 2, 4, 3, 2, 1, 6, 2, 19, 3, 1, 7, 1, 4, 6, 4, 1, 16, 1, 18, 1, 1, 7, 2, 1, 2, 2, 2, 2, 4, 1, 2, 3, 6, 1, 3, 15, 1, 3, 4, 1, 1, 1, 1, 1, 2, 1, 5, 2, 4, 5, 4, 8, 3, 1, 1, 2, 4, 4, 9, 10, 1, 1, 3, 1, 9, 2, 4, 1, 2, 3, 2, 6, 1, 1, 4, 2, 9, 1, 2, 2, 2, 1, 1, 1, 2, 2, 8, 1, 13, 6, 2, 15, 1, 11, 2, 2, 13, 12, 13, 4, 3, 36, 8, 16, 3, 8, 3, 4, 4, 8, 3, 5, 2, 1, 1, 3, 8, 13, 4, 1, 1, 2, 6, 8, 13, 3, 6, 29, 14, 22, 14, 2, 3, 4, 4, 16, 10, 4, 2, 1, 2, 2, 39, 3, 10, 28, 9, 4, 6, 6, 11, 4, 8, 2, 12, 4, 10, 9, 9, 16, 2, 1, 2, 1, 1, 5, 2, 9, 3, 20, 8, 27, 5, 6, 21, 2, 1, 47, 5, 9, 26, 11, 1, 3, 4, 4, 4, 6, 45, 5, 2, 38, 2, 1, 8, 3, 4, 2, 4, 6, 4, 18, 1, 3, 5, 1, 10, 4, 4, 2, 1, 35, 3, 5, 3, 8, 8, 1, 12, 7, 2, 7, 2, 11, 2, 3, 4, 16, 5, 4, 13, 48, 5, 4, 1, 1, 3, 1, 1, 1, 1, 1, 2, 1, 3, 1, 1, 1, 1, 1, 1, 1, 1, 18, 1, 1, 1, 1, 1, 1, 1, 49, 1, 1, 1, 2, 1, 30, 1, 1, 1, 1, 1, 1, 1, 1, 1, 1, 1, 1, 6, 1, 2, 5, 1, 1, 1, 1, 1, 1, 1, 2, 1, 1, 1, 2, 1, 29, 2, 1, 1, 1, 1, 1, 1, 1, 2, 1, 1, 1, 1, 3, 1, 1, 1, 1, 1, 1, 1, 1, 1, 1, 1, 1, 1, 1, 2, 1, 1, 1, 1, 1, 1, 1, 1, 1, 1, 1, 1, 1, 1, 1, 1, 1, 1, 1, 1, 3, 1, 1, 1, 1, 1, 1, 38, 1, 1, 1, 5, 1, 1, 1, 1, 1, 1, 5, 6, 1, 1, 1, 1, 1, 1, 1, 1, 1, 1, 1, 4, 2, 1, 3, 1, 1, 1, 4, 1, 1, 2, 1, 1, 12, 1, 1, 1, 1, 1, 8, 1, 1, 3, 17, 1, 1, 1, 7, 1, 1, 1, 2, 1, 1, 5, 1, 1, 1, 1, 1, 1, 1, 1, 1, 1, 1, 1, 1, 2, 1, 1, 1, 1, 1, 1, 1, 1, 1, 1, 1, 1, 1, 1, 1, 1, 1, 1, 1, 1, 1, 1, 1, 1, 1, 1, 1, 1, 1, 1, 1, 1, 1, 1, 1, 1, 1, 1, 1, 1, 1, 1, 1, 1, 1, 1, 1, 1, 1, 1, 1, 1, 1, 1, 1, 1, 1, 1, 1, 1, 1, 1, 1, 1, 1, 1, 1, 1, 1, 1, 1, 2, 1, 1, 1, 1, 1, 1, 1, 1, 1, 1, 1, 4, 1, 1, 1, 1, 1, 1, 1, 1, 1, 1, 1, 1, 1, 1, 1, 1, 1, 1, 1, 1, 1, 1, 1, 1, 1, 1, 1, 1, 1, 1, 1, 1, 1, 1, 1, 1, 1, 1, 1, 1, 1, 1, 1, 1, 1, 1, 1, 1, 1, 1, 1, 1, 1, 1, 1, 1, 3, 1, 1, 2, 1, 1, 1, 1, 6, 2, 1, 1, 1, 1, 1, 1, 1, 1, 1, 1, 1, 4, 1, 1, 1, 1, 1, 1, 1, 1, 1, 1, 1, 1, 1, 12, 1, 1, 1, 1, 1, 1, 1, 1, 1, 1, 1, 1, 3, 1, 2, 1, 1, 1, 1, 1, 1, 1, 1, 1, 1, 1, 1, 1, 1, 1, 1, 1, 1, 1, 1, 2, 1, 20, 1, 1, 1, 1, 1, 1, 1, 1, 1, 1, 1, 1, 1, 1, 1, 1, 1, 1, 1, 1, 1, 1, 1, 1, 1, 1, 1, 1, 1, 1, 1, 2, 1, 1, 1, 1, 1, 1, 1, 6, 1, 1, 1, 1, 6, 1, 1, 1, 1, 1, 1, 1, 1, 1, 1, 2, 1, 1, 1, 1, 1, 1, 1, 1, 1, 1, 1, 1, 1, 1, 1, 1, 1, 1, 1, 1, 1, 1, 1, 1, 1, 1, 1, 1, 1, 1, 1, 1, 1, 1, 1, 2, 1, 2, 7, 3, 5, 2, 2, 33, 6, 1, 2, 1, 1, 1, 1, 1, 46, 10, 6, 3, 8, 3, 1, 7, 3, 10, 2, 1, 4, 1, 1, 2, 1, 1, 1, 4, 1, 2, 1, 1, 1, 1, 1, 7, 4, 1, 1, 12, 2, 1, 1, 1, 1, 25, 3, 1, 1, 1, 1, 4, 3, 4, 1, 1, 36, 1, 5, 1, 1, 45, 2, 3, 1, 25, 1, 1, 1, 1, 5, 1, 1, 2, 2, 1, 4, 1, 5, 1, 1, 41, 1, 1, 1, 1, 1, 2, 1, 2, 2, 3, 1, 1, 1, 1, 1, 1, 1, 1, 1, 1, 1, 1, 1, 1, 1, 3, 1, 1, 2, 1, 3, 2, 18, 1, 2, 2, 1, 1, 11, 2, 3, 1, 2, 2, 1, 1, 1, 1, 1, 1, 21, 1, 1, 1, 1, 8, 27, 1, 2, 5, 1, 1, 1, 36, 1, 1, 1, 1, 1, 1, 1, 1, 12, 1, 1, 1, 1, 1, 3, 1, 1, 1, 1, 20, 1, 1, 1, 1, 1, 2, 1, 5, 3, 1, 1, 1, 3, 1, 19, 1, 1, 6, 2, 10, 1, 1, 1, 1, 1, 1, 1, 1, 1, 1, 1, 1, 40, 1, 4, 2, 3, 1, 2, 3, 1, 1, 3, 2, 15, 4, 3, 2, 2, 1, 1, 2, 1, 1, 2, 4, 1, 1, 5, 1, 3, 1, 1, 1, 1, 2, 1, 2, 2, 3, 1, 1, 1, 3, 2, 1, 1, 1, 1, 1, 1, 1, 1, 1, 1, 1, 1, 1, 1, 2, 1, 1, 1, 6, 1, 1, 1, 1, 2, 1, 5, 1, 1, 1, 1, 2, 2, 1, 1, 5, 2, 1, 2, 1, 1, 1, 3, 1, 1, 1, 10, 1, 1, 1, 2, 1, 2, 1, 2, 1, 1, 1, 1, 3, 1, 1, 1, 1, 3, 1, 1, 1, 1, 1, 1, 2, 1, 1, 2, 1, 1, 1, 1, 1, 1, 1, 1, 1, 3, 2, 1, 2, 1, 1, 2, 1, 2, 1, 1, 1, 1, 1, 1, 1, 36, 1, 1, 1, 2, 2, 2, 1, 2, 1, 1, 1, 3, 2, 1, 2, 1, 1, 1, 1, 1, 1, 1, 1, 1, 1, 1, 2, 1, 1, 1, 1, 1, 1, 1, 1, 1, 1, 1, 1, 1, 3, 1, 1, 1, 3, 1, 1, 1, 4, 1, 1, 3, 3, 1, 5, 2, 1, 1, 1, 1, 1, 1, 1, 8, 3, 1, 1, 1, 2, 3, 3, 1, 2, 1, 1, 1, 1, 1, 1, 1, 2, 4, 1, 2, 4, 1, 1, 2, 1, 1, 1, 1, 2, 1, 1, 2, 8, 1, 2, 1, 6, 1, 2, 1, 1, 1, 1, 2, 1, 1, 1, 3, 2, 1, 1, 1, 1, 2, 5, 1, 1, 2, 1, 1, 1, 1, 2, 1, 1, 1, 1, 2, 1, 1, 1, 24, 4, 5, 1, 2, 1, 5, 6, 1, 3, 1, 1, 1, 1, 4, 1, 45, 4, 4, 3, 8, 7, 1, 4, 1, 2, 5, 6, 3, 6, 30, 4, 2, 3, 1, 3, 11, 3, 1, 18, 9, 4, 4, 7, 17, 1, 9, 5, 10, 28, 1, 6, 1, 6, 6, 2, 11, 1, 1, 4, 3, 1, 4, 1, 4, 1, 1, 4, 2, 2, 15, 12, 5, 1, 11, 6, 18, 6, 1, 24, 1, 5, 3, 6, 10, 4, 7, 3, 2, 2, 16, 4, 7, 20, 1, 5, 7, 2, 3, 1, 15, 3, 1, 1, 7, 7, 1, 6, 5, 1, 1, 15, 29, 1, 3, 2, 2, 4, 2, 4, 2, 7, 16, 15, 2, 4, 1, 14, 18, 1, 24, 40, 3, 24, 1, 4, 11, 1, 5, 20, 2, 10, 4, 2, 4, 5, 3, 1, 24, 3, 2, 20, 2, 11, 1, 5, 5, 1, 1, 1, 15, 18, 6, 2, 3, 16, 19, 25, 4, 2, 1, 11, 1, 1, 4, 1, 1, 9, 3, 1, 4, 2, 12, 1, 1, 1, 10, 9, 4, 2, 15, 3, 2, 5, 1, 9, 1, 2, 16, 3, 1, 5, 9, 5, 1, 2, 5, 9, 4, 4, 6, 1, 12, 6, 5, 2, 5, 2, 27, 21, 1, 4, 6, 2, 4, 21, 2, 3, 3, 3, 5, 2, 9, 10, 15, 4, 5, 2, 2, 6, 1, 3, 6, 1, 1, 2, 12, 3, 14, 5, 7, 1, 1, 2, 17, 2, 1, 5, 4, 5, 15, 1, 5, 1, 2, 9, 7, 1, 8, 8, 4, 6, 1, 4, 12, 4, 6, 1, 3, 2, 1, 3, 9, 4, 2, 1, 16, 7, 6, 1, 11, 3, 2, 5, 1, 3, 3, 1, 1, 4, 2, 5, 4, 7, 2, 16, 5, 3, 4, 7, 13, 8, 4, 3, 8, 4, 7, 5, 12, 1, 2, 2, 9, 7, 3, 1, 1, 5, 2, 5, 20, 13, 3, 5, 4, 1, 2, 1, 1, 6, 18, 7, 4, 2, 2, 12, 3, 2, 3, 3, 7, 22, 4, 8, 12, 3, 16, 14, 5, 9, 17, 2, 16, 4, 6, 2, 6, 1, 9, 7, 2, 14, 3, 1, 4, 3, 8, 1, 6, 1, 11, 1, 4, 19, 2, 29, 3, 4, 1, 2, 3, 1, 2, 18, 13, 1, 4, 7, 1, 11, 10, 17, 11, 6, 9, 1, 14, 4, 1, 15, 3, 4, 8, 18, 5, 11, 10, 6, 5, 6, 1, 12, 10, 13, 4, 2, 1, 4, 9, 5, 4, 3, 6, 15, 11, 12, 4, 12, 17, 1, 8, 8, 12, 3, 8, 19, 4, 1, 2, 8, 4, 23, 5, 1, 14, 2, 3, 17, 3, 11, 3, 2, 6, 5, 11, 2, 3, 6, 13, 4, 6, 17, 1, 24, 1, 20, 1, 1, 6, 5, 14, 1, 22, 4, 2, 8, 6, 7, 3, 1, 28, 1, 2, 2, 17, 6, 3, 2, 1, 5, 13, 2, 1, 18, 4, 3, 1, 4, 1, 6, 2, 6, 11, 9, 7, 12, 3, 6, 7, 1, 7, 5, 1, 1, 1, 20, 1, 2, 1, 1, 1, 1, 5, 3, 2, 3, 1, 4, 1, 1, 4, 3, 2, 10, 1, 1, 1, 6, 1, 4, 1, 1, 13, 2, 2, 6, 4, 5, 1, 1, 20, 1, 9, 1, 2, 1, 2, 1, 1, 13, 5, 3, 1, 5, 1, 1, 1, 7, 1, 1, 1, 1, 3, 28, 8, 1, 4, 1, 8, 11, 1, 3, 1, 3, 2, 3, 2, 1, 1, 5, 1, 3, 1, 5, 2, 4, 1, 13, 28, 3, 18, 1, 10, 38, 1, 1, 1, 1, 3, 1, 2, 1, 1, 1, 1, 3, 4, 1, 1, 2, 1, 7, 1, 1, 2, 2, 18, 1, 6, 3, 1, 5, 1, 1, 2, 5, 2, 4, 7, 8, 2, 5, 1, 1, 1, 9, 2, 1, 2, 1, 2, 1, 3, 1, 1, 3, 3, 8, 3, 6, 1, 26, 1, 1, 9, 1, 1, 3, 2, 1, 2, 6, 13, 2, 3, 2, 1, 2, 1, 1, 3, 9, 6, 6, 2, 1, 1, 5, 1, 5, 1, 3, 1, 3, 1, 27, 24, 2, 1, 1, 1, 3, 1, 1, 1, 1, 5, 1, 1, 1, 2, 2, 34, 4, 1, 1, 1, 1, 1, 1, 1, 19, 2, 3, 1, 17, 2, 1, 25, 10, 1, 2, 2, 4, 1, 2, 10, 2, 30, 7, 1, 1, 1, 4, 5, 15, 2, 1, 4, 8, 2, 1, 1, 3, 1, 2, 1, 2, 7, 4, 11, 1, 6, 22, 4, 1, 6, 4, 1, 6, 12, 5, 14, 1, 4, 1, 1, 1, 1, 1, 1, 11, 12, 1, 6, 3, 8, 2, 1, 2, 7, 1, 4, 1, 9, 4, 5, 2, 18, 3, 1, 1, 1, 22, 7, 4, 4, 1, 1, 1, 8, 1, 1, 1, 5, 4, 2, 1, 19, 2, 1, 1, 3, 3, 1, 2, 6, 2, 16, 1, 6, 4, 4, 1, 1, 21, 36, 1, 2, 1, 4, 7, 2, 1, 1, 9, 15, 2, 3, 1, 29, 4, 4, 2, 5, 3, 2, 2, 1, 29, 2, 4, 6, 17, 2, 3, 6, 8, 3, 1, 1, 11, 10, 1, 6, 9, 1, 1, 1, 1, 2, 3, 1, 1, 3, 2, 1, 3, 1, 1, 1, 10, 31, 5, 5, 4, 2, 1, 1, 14, 1, 1, 3, 7, 1, 1, 16, 8, 7, 3, 1, 9, 1, 2, 20, 13, 8, 5, 3, 1, 5, 1, 3, 1, 2, 1, 4, 2, 4, 18, 32, 1, 36, 2, 3, 1, 1, 3, 2, 7, 5, 22, 2, 5, 3, 5, 2, 2, 20, 13, 6, 3, 29, 1, 4, 2, 3, 22, 4, 6, 5, 1, 3, 1, 1, 3, 1, 7, 13, 1, 2, 1, 4, 1, 2, 22, 1, 2, 27, 1, 3, 1, 9, 1, 4, 1, 1, 2, 31, 26, 2, 5, 30, 1, 2, 3, 6, 3, 10, 5, 2, 17, 1, 2, 2, 1, 1, 6, 5, 1, 2, 2, 3, 2, 2, 1, 1, 3, 1, 1, 1, 1, 1, 9, 1, 1, 3, 1, 2, 2, 15, 2, 1, 8, 3, 2, 17, 5, 10, 2, 1, 2, 12, 5, 1, 2, 1, 1, 3, 2, 1, 5, 11, 2, 1, 6, 1, 4, 2, 1, 8, 1, 2, 1, 13, 3, 4, 1, 7, 15, 1, 1, 2, 20, 7, 1, 1, 1, 2, 1, 1, 9, 1, 4, 3, 4, 3, 1, 1, 2, 3, 4, 1, 7, 2, 1, 9, 2, 1, 2, 7, 1, 2, 5, 1, 5, 12, 4, 3, 18, 1, 1, 2, 1, 6, 3, 1, 2, 1, 2, 1, 5, 3, 2, 3, 1, 10, 2, 1, 16, 2, 6, 8, 1, 5, 34, 2, 1, 1, 26, 5, 4, 1, 7, 6, 8, 37, 2, 1, 2, 2, 2, 2, 1, 1, 1, 2, 2, 6, 4, 2, 1, 1, 1, 6, 1, 6, 3, 1, 5, 23, 3, 1, 3, 4, 1, 1, 2, 15, 1, 7, 3, 3, 1, 19, 2, 1, 1, 4, 2, 2, 7, 1, 3, 1, 1, 3, 7, 6, 1, 2, 29, 1, 2, 1, 2, 13, 11, 4, 2, 2, 3, 1, 6, 3, 2, 1, 4, 2, 1, 1, 1, 28, 3, 4, 1, 3, 2, 9, 7, 3, 3, 2, 2, 1, 1, 2, 1, 2, 7, 2, 4, 8, 1, 2, 4, 2, 1, 4, 3, 4, 2, 11, 18, 1, 3, 1, 1, 20, 11, 12, 20, 3, 2, 3, 27, 2, 1, 1, 16, 1, 1, 7, 5, 5, 2, 25, 3, 1, 3, 3, 23, 1, 1, 4, 10, 4, 2, 1, 1, 8, 3, 1, 1, 3, 3, 3, 2, 2, 2, 1, 1, 2, 4, 1, 6, 1, 1, 8, 9, 4, 7, 1, 4, 2, 4, 1, 5, 6, 16, 13, 4, 1, 2, 3, 4, 1, 1, 1, 6, 6, 6, 11, 5, 3, 2, 10, 34, 4, 13, 18, 2, 14, 4, 3, 12, 5, 4, 1, 19, 3, 24, 1, 12, 7, 2, 1, 2, 7, 1, 15, 5, 14, 4, 6, 3, 2, 1, 3, 3, 3, 8, 3, 1, 7, 3, 1, 2, 1, 1, 2, 4, 1, 1, 3, 5, 8, 4, 9, 5, 1, 1, 2, 1, 5, 1, 10, 22, 3, 32, 1, 3, 2, 2, 3, 2, 31, 4, 4, 2, 3, 1, 1, 4, 6, 2, 2, 1, 10, 1, 3, 2, 10, 1, 2, 16, 1, 2, 1, 2, 3, 1, 27, 8, 4, 6, 22, 2, 1, 3, 4, 5, 6, 3, 1, 11, 3, 31, 5, 2, 6, 6, 3, 5, 5, 25, 7, 2, 2, 2, 12, 2, 2, 5, 2, 38, 1, 4, 1, 5, 1, 1, 9, 33, 5, 6, 6, 1, 10, 1, 16, 1, 8, 3, 4, 34, 2, 34, 1, 1, 2, 2, 1, 2, 1, 9, 5, 4, 28, 7, 1, 32, 2, 3, 1, 1, 1, 3, 11, 13, 2, 1, 6, 6, 1, 46, 2, 3, 3, 5, 6, 1, 1, 4, 21, 6, 2, 2, 1, 2, 2, 2, 19, 3, 6, 2, 4, 7, 11, 1, 3, 4, 1, 3, 13, 12, 1, 20, 3, 5, 1, 1, 7, 3, 1, 3, 2, 20, 38, 5, 2, 20, 2, 4, 3, 6, 1, 1, 1, 3, 1, 5, 1, 1, 1, 5, 3, 1, 1, 12, 1, 1, 2, 20, 3, 1, 3, 1, 4, 3, 5, 11, 1, 17, 14, 1, 15, 16, 1, 3, 1, 2, 6, 1, 9, 2, 1, 1, 1, 2, 2, 5, 1, 2, 3, 10, 6, 12, 6, 2, 1, 8, 1, 5, 2, 16, 1, 1, 3, 1, 3, 1, 4, 9, 1, 8, 5, 1, 1, 9, 2, 3, 1, 2, 1, 1, 1, 2, 4, 3, 1, 1, 1, 14, 2, 7, 1, 1, 1, 1, 1, 1, 8, 4, 41, 33, 6, 16, 6, 3, 4, 1, 10, 32, 2, 1, 9, 4, 2, 7, 1, 1, 2, 2, 1, 1, 2, 3, 2, 1, 2, 3, 1, 1, 1, 4, 5, 3, 4, 1, 1, 2, 2, 1, 4, 6, 3, 8, 1, 1, 1, 5, 1, 1, 1, 3, 1, 5, 8, 1, 2, 9, 3, 3, 4, 3, 1, 1, 8, 1, 1, 6, 1, 1, 1, 9, 9, 20, 1, 15, 1, 1, 4, 1, 1, 10, 1, 1, 1, 1, 1, 7, 3, 2, 6, 1, 27, 1, 4, 1, 13, 6, 2, 33, 2, 1, 1, 1, 1, 3, 8, 1, 12, 1, 1, 1, 1, 6, 12, 1, 1, 1, 2, 1, 3, 18, 2, 1, 3, 2, 1, 1, 1, 1, 3, 11, 1, 1, 2, 8, 5, 9, 1, 1, 9, 1, 1, 5, 1, 1, 7, 1, 7, 1, 13, 3, 7, 2, 1, 1, 3, 1, 2, 1, 1, 4, 1, 1, 1, 2, 1, 2, 5, 20, 1, 12, 1, 4, 2, 2, 9, 1, 2, 16, 2, 1, 1, 3, 18, 1, 5, 11, 3, 1, 1, 1, 17, 6, 1, 4, 1, 3, 2, 1, 1, 4, 4, 1, 8, 1, 19, 5, 2, 2, 7, 2, 2, 5, 1, 1, 1, 1, 16, 7, 2, 1, 8, 2, 4, 8, 1, 6, 1, 1, 30, 1, 1, 19, 7, 1, 4, 2, 4, 1, 27, 5, 6, 1, 2, 2, 16, 3, 24, 1, 1, 3, 1, 2, 8, 3, 1, 1, 2, 1, 10, 1, 5, 1, 1, 1, 1, 1, 12, 1, 1, 1, 7, 4, 1, 1, 1, 12, 22, 17, 9, 2, 17, 2, 6, 1, 2, 1, 1, 1, 1, 7, 13, 1, 2, 1, 9, 1, 1, 5, 3, 1, 1, 2, 1, 1, 1, 1, 1, 2, 1, 1, 1, 1, 1, 1, 2, 1, 1, 12, 34, 2, 1, 6, 6, 44, 6, 5, 2, 26, 28, 1, 1, 1, 15, 1, 8, 3, 23, 36, 1, 28, 1, 5, 23, 8, 1, 11, 7, 6, 16, 13, 2, 6, 7, 1, 1, 1, 2, 6, 16, 6, 15, 6, 1, 5, 10, 3, 22, 3, 5, 8, 8, 1, 22, 15, 24, 2, 2, 2, 4, 2, 6, 6, 2, 5, 7, 17, 2, 1, 2, 9, 13, 1, 9, 2, 3, 1, 1, 18, 12, 2, 36, 1, 4, 21, 7, 9, 1, 4, 7, 19, 1, 2, 1, 3, 12, 1, 36, 7, 10, 13, 12, 9, 12, 27, 3, 4, 5, 1, 15, 18, 1, 1, 6, 2, 2, 1, 25, 28, 1, 16, 1, 1, 25, 2, 9, 1, 1, 10, 19, 5, 8, 20, 4, 5, 1, 1, 1, 2, 1, 1, 2, 1, 2, 2, 17, 4, 1, 1, 1, 1, 1, 1, 1, 5, 11, 3, 1, 3, 1, 6, 1, 7, 2, 1, 1, 20, 1, 11, 7, 20, 1, 1, 2, 1, 1, 1, 1, 1, 1, 1, 1, 1, 1, 1, 11, 1, 1, 2, 2, 1, 1, 1, 1, 1, 1, 7, 4, 1, 1, 2, 1, 9, 1, 14, 1, 12, 1, 1, 1, 8, 10, 25, 1, 2, 8, 2, 8, 2, 1, 1, 2, 7, 1, 2, 1, 2, 20, 1, 1, 6, 1, 1, 4, 1, 1, 1, 1, 1, 4, 3, 15, 1, 2, 1, 10, 5, 7, 1, 1, 1, 1, 1, 13, 1, 5, 1, 4, 1, 13, 1, 1, 2, 7, 2, 1, 1, 1, 1, 1, 1, 6, 2, 1, 1, 1, 1, 1, 6, 1, 5, 11, 1, 2, 1, 6, 15, 1, 2, 13, 6, 1, 1, 4, 5, 1, 14, 1, 1, 9, 3, 1, 5, 1, 1, 1, 12, 1, 1, 1, 1, 1, 1, 8, 2, 10, 4, 1, 1, 2, 1, 1, 3, 1, 2, 11, 2, 1, 14, 23, 1, 1, 12, 13, 1, 1, 11, 1, 1, 1, 1, 1, 1, 28, 1, 1, 6, 1, 5, 9, 5, 1, 2, 1, 3, 1, 1, 9, 5, 1, 2, 1, 1, 6, 1, 1, 12, 11, 2, 1, 1, 11, 1, 2, 4, 2, 29, 13, 2, 2, 6, 15, 2, 10, 10, 11, 2, 6, 1, 7, 1, 1, 1, 6, 1, 1, 7, 2, 1, 1, 21, 1, 20, 4, 2, 1, 3, 25, 1, 12, 2, 1, 9, 13, 9, 1, 10, 1, 1, 10, 1, 6, 6, 11, 6, 3, 7, 3, 1, 6, 1, 7, 4, 5, 18, 14, 1, 9, 4, 25, 2, 2, 41, 3, 3, 1, 14, 1, 2, 25, 5, 4, 1, 1, 15, 1, 5, 26, 1, 12, 1, 2, 3, 21, 1, 4, 11, 1, 12, 18, 5, 36, 1, 4, 8, 1, 1, 1, 1, 4, 1, 6, 3, 1, 1, 16, 6, 12, 13, 1, 36, 10, 36, 39, 11, 38, 25, 20, 1, 5, 1, 1, 10, 13, 10, 4, 1, 3, 1, 4, 1, 1, 4, 13, 3, 12, 6, 32, 4, 1, 3, 1, 1, 1, 6, 2, 1, 23, 1, 1, 3, 25, 1, 7, 8, 25, 9, 42, 1, 3, 3, 1, 18, 4, 2, 1, 1, 5, 1, 1, 1, 7, 7, 2, 1, 1, 1, 2, 2, 1, 1, 1, 15, 4, 1, 5, 7, 1, 2, 1, 32, 3, 16, 1, 1, 3, 4, 2, 15, 5, 8, 1, 1, 1, 8, 1, 4, 1, 2, 8, 9, 11, 1, 1, 1, 2, 2, 1, 1, 6, 11, 14, 14, 28, 1, 1, 31, 1, 10, 34, 3, 1, 45, 10, 3, 4, 13, 2, 1, 4, 20, 1, 1, 9, 2, 36, 5, 2, 15, 1, 1, 1, 43, 13, 1, 2, 1, 2, 1, 1, 2, 5, 5, 25, 17, 2, 12, 1, 3, 2, 1, 1, 1, 1, 2, 27, 10, 3, 1, 22, 8, 3, 1, 5, 2, 42, 3, 1, 1, 8, 1, 7, 1, 17, 2, 5, 38, 4, 1, 1, 1, 4, 21, 5, 2, 1, 20, 1, 1, 5, 5, 6, 2, 2, 2, 1, 8, 1, 1, 33, 22, 26, 1, 7, 6, 3, 1, 1, 11, 22, 1, 14, 8, 1, 1, 1, 18, 9, 4, 12, 1, 7, 6, 1, 28, 9, 1, 9, 1, 1, 5, 1, 9, 8, 3, 1, 1, 1, 1, 15, 8, 1, 1, 16, 10, 2, 1, 22, 1, 1, 1, 10, 13, 1, 5, 1, 2, 29, 10, 11, 2, 1, 1, 10, 3, 6, 1, 2, 8, 1, 2, 12, 1, 20, 1, 22, 1, 2, 2, 2, 9, 4, 23, 1, 1, 1, 1, 2, 2, 1, 2, 12, 4, 1, 1, 11, 4, 1, 2, 1, 1, 2, 6, 1, 3, 10, 1, 7, 5, 1, 4, 1, 6, 17, 19, 1, 3, 14, 29, 2, 13, 23, 1, 10, 6, 28, 1, 25, 1, 6, 3, 3, 1, 1, 20, 5, 29, 2, 27, 13, 1, 24, 1, 1, 16, 19, 2, 1, 19, 1, 8, 1, 1, 1, 2, 1, 21, 1, 7, 15, 16, 1, 3, 1, 1, 1, 5, 10, 1, 1, 1, 1, 2, 11, 1, 1, 1, 1, 7, 26, 1, 2, 5, 1, 1, 2, 1, 28, 1, 1, 1, 7, 9, 1, 5, 5, 2, 1, 1, 15, 9, 15, 19, 4, 10, 1, 1, 1, 21, 2, 10, 2, 6, 30, 1, 6, 1, 1, 1, 1, 23, 3, 12, 30, 1, 1, 1, 1, 1, 1, 1, 8, 1, 28, 5, 1, 1, 1, 7, 1, 4, 2, 5, 19, 1, 1, 7, 7, 1, 1, 1, 1, 19, 5, 1, 3, 5, 1, 1, 7, 1, 2, 13, 3, 5, 1, 6, 2, 1, 1, 1, 8, 7, 17, 1, 1, 4, 4, 11, 1, 1, 21, 1, 1, 6, 19, 26, 1, 1, 27, 16, 1, 10, 14, 7, 21, 7, 5, 35, 42, 13, 1, 1, 2, 6, 15, 1, 10, 1, 12, 1, 1, 8, 5, 1, 1, 1, 1, 1, 15, 1, 4, 1, 4, 5, 1, 4, 2, 2, 1, 4, 2, 11, 2, 1, 2, 3, 1, 6, 23, 9, 1, 2, 1, 33, 1, 25, 9, 2, 32, 1, 1, 3, 1, 12, 1, 22, 2, 2, 8, 3, 1, 2, 5, 3, 5, 4, 11, 1, 3, 1, 1, 1, 1, 1, 1, 8, 4, 2, 4, 2, 1, 9, 4, 1, 2, 2, 3, 1, 1, 1, 17, 1, 5, 1, 1, 3, 10, 2, 9, 1, 1, 1, 21, 2, 10, 1, 1, 4, 21, 4, 5, 6, 16, 2, 1, 1, 1, 1, 2, 25, 1, 1, 14, 4, 1, 9, 2, 1, 1, 7, 2, 3, 10, 1, 1, 3, 22, 1, 5, 4, 28, 1, 1, 1, 1, 1, 2, 2, 1, 3, 1, 1, 3, 28, 1, 9, 1, 1, 1, 1, 1, 16, 1, 12, 1, 1, 4, 2, 1, 2, 1, 2, 2, 6, 6, 1, 1, 1, 8, 1, 9, 1, 1, 5, 14, 2, 2, 1, 11, 14, 3, 7, 5, 4, 12, 1, 1, 1, 1, 3, 3, 9, 6, 1, 11, 3, 1, 11, 1, 1, 20, 1, 1, 1, 24, 7, 1, 2, 5, 1, 2, 1, 1, 1, 9, 1, 1, 11, 1, 1, 1, 26, 1, 11, 1, 1, 1, 14, 5, 9, 3, 2, 8, 3, 14, 8, 2, 1, 2, 10, 3, 17, 2, 3, 4, 2, 1, 4, 1, 1, 10, 1, 15, 1, 4, 4, 15, 2, 8, 12, 1, 2, 12, 1, 2, 1, 2, 9, 1, 6, 1, 1, 1, 2, 5, 1, 1, 5, 2, 22, 2, 6, 2, 8, 5, 1, 13, 5, 7, 2, 2, 7, 3, 1, 3, 4, 1, 17, 1, 4, 1, 10, 3, 3, 6, 5, 1, 3, 2, 16, 2, 12, 2, 1, 1, 1, 8, 2, 5, 2, 5, 15, 2, 1, 2, 5, 1, 1, 1, 1, 1, 6, 16, 1, 2, 1, 7, 1, 6, 3, 2, 5, 21, 12, 1, 3, 7, 2, 3, 3, 2, 5, 1, 8, 2, 38, 2, 2, 1, 14, 16, 23, 12, 1, 7, 3, 1, 1, 9, 3, 2, 1, 1, 1, 31, 2, 7, 5, 7, 22, 2, 2, 1, 3, 1, 9, 20, 1, 9, 2, 2, 4, 14, 8, 3, 2, 2, 4, 2, 3, 9, 2, 4, 28, 2, 2, 3, 1, 8, 5, 1, 2, 8, 12, 7, 3, 3, 1, 2, 15, 2, 4, 2, 10, 1, 1, 1, 1, 1, 28, 38, 17, 14, 1, 10, 1, 1, 3, 5, 7, 1, 4, 2, 2, 8, 6, 2, 3, 2, 1, 2, 5, 3, 1, 3, 19, 4, 5, 3, 6, 15, 1, 7, 7, 2, 3, 8, 5, 16, 2, 14, 3, 4, 1, 6, 1, 8, 3, 1, 3, 2, 7, 1, 34, 4, 4, 11, 3, 2, 11, 21, 2, 1, 15, 3, 4, 2, 1, 7, 4, 13, 3, 14, 3, 3, 3, 9, 44, 1, 5, 1, 1, 1, 1, 1, 1, 1, 1, 1, 1, 1, 1, 1, 1, 1, 1, 1, 1, 1, 1, 1, 1, 1, 1, 1, 1, 2, 1, 1, 1, 1, 1, 1, 1, 1, 1, 1, 1, 1, 1, 1, 1, 1, 1, 1, 1, 1, 1, 1, 1, 1, 1, 1, 1, 1, 1, 1, 1, 1, 1, 1, 1, 1, 1, 1, 1, 1, 1, 1, 1, 1, 1, 1, 1, 1, 1, 1, 1, 1, 1, 1, 1, 1, 1, 1, 1, 1, 1, 1, 2, 1, 1, 1, 1, 1, 1, 1, 1, 1, 1, 1, 3, 1, 1, 1, 1, 1, 1, 1, 1, 1, 1, 1, 1, 1, 1, 1, 1, 1, 1, 1, 1, 1, 1, 1, 1, 1, 1, 1, 1, 1, 1, 1, 1, 1, 1, 1, 1, 1, 1, 1, 1, 1, 1, 1, 7, 1, 1, 1, 1, 1, 1, 1, 1, 1, 1, 1, 1, 1, 1, 3, 1, 1, 1, 1, 1, 1, 1, 1, 1, 1, 1, 1, 1, 1, 1, 1, 1, 1, 1, 1, 1, 1, 1, 4, 1, 1, 1, 1, 1, 1, 1, 1, 1, 1, 1, 2, 1, 1, 1, 1, 1, 1, 1, 1, 1, 1, 1, 1, 1, 1, 1, 1, 1, 1, 1, 1, 1, 1, 2, 1, 1, 1, 1, 1, 1, 1, 1, 1, 1, 1, 1, 1, 1, 2, 1, 1, 1, 1, 1, 1, 1, 1, 1, 1, 1, 1, 1, 1, 1, 3, 1, 1, 1, 1, 1, 1, 1, 1, 1, 2, 1, 3, 1, 1, 1, 1, 1, 1, 1, 1, 1, 1, 1, 1, 1, 1, 1, 1, 1, 1, 1, 1, 1, 1, 1, 2, 1, 1, 1, 1, 1, 1, 1, 1, 1, 1, 1, 1, 1, 1, 1, 1, 1, 1, 1, 1, 1, 1, 1, 1, 1, 1, 1, 1, 1, 1, 1, 1, 1, 1, 1, 1, 1, 1, 1, 1, 1, 1, 1, 1, 1, 1, 1, 1, 1, 1, 1, 1, 1, 1, 1, 1, 1, 4, 1, 1, 1, 1, 1, 1, 1, 1, 1, 1, 1, 1, 1, 1, 1, 1, 1, 1, 1, 1, 8, 1, 1, 1, 2, 1, 1, 1, 1, 1, 1, 1, 1, 1, 1, 1, 1, 1, 1, 1, 1, 1, 1, 1, 1, 1, 1, 1, 1, 1, 1, 1, 1, 1, 2, 1, 1, 1, 1, 1, 1, 1, 1, 1, 1, 1, 1, 1, 1, 1, 1, 1, 1, 1, 1, 1, 1, 1, 1, 1, 1, 1, 1, 1, 1, 1, 1, 2, 1, 1, 1, 1, 1, 1, 1, 1, 1, 1, 1, 1, 1, 1, 1, 1, 1, 1, 1, 1, 1, 1, 1, 1, 1, 1, 1, 1, 1, 1, 1, 1, 1, 1, 1, 1, 1, 1, 1, 1, 7, 1, 1, 48, 16, 1, 7, 1, 1, 19, 2, 1, 18, 1, 1, 1, 1, 3, 5, 8, 50, 2, 20, 8, 1, 1, 1, 1, 2, 1, 1, 2, 1, 8, 4, 1, 1, 1, 1, 1, 4, 1, 1, 1, 1, 1, 1, 1, 1, 2, 1, 1, 23, 1, 1, 6, 1, 39, 3, 5, 1, 1, 1, 2, 1, 7, 2, 8, 4, 1, 2, 5, 1, 2, 1, 1, 1, 9, 1, 12, 2, 1, 3, 2, 1, 23, 1, 2, 42, 1, 10, 2, 1, 1, 3, 9, 4, 2, 3, 3, 5, 16, 1, 1, 1, 1, 1, 24, 1, 1, 2, 4, 7, 1, 1, 2, 2, 4, 1, 1, 1, 3, 3, 11, 5, 6, 4, 7, 5, 4, 1, 2, 10, 6, 17, 1, 3, 1, 2, 5, 1, 18, 1, 3, 1, 1, 7, 2, 4, 1, 1, 1, 1, 33, 2, 1, 1, 1, 4, 1, 2, 1, 1, 10, 9, 3, 1, 1, 10, 1, 4, 1, 1, 1, 4, 1, 1, 1, 1, 1, 31, 2, 1, 5, 5, 1, 6, 3, 1, 1, 2, 1, 3, 1, 1, 3, 1, 1, 1, 3, 2, 1, 1, 6, 3, 3, 1, 1, 3, 1, 2, 1, 1, 2, 2, 1, 2, 2, 1, 1, 3, 1, 1, 1, 2, 1, 4, 1, 3, 5, 2, 6, 2, 23, 4, 2, 1, 2, 1, 2, 4, 14, 4, 2, 1, 4, 2, 3, 11, 1, 8, 1, 5, 1, 1, 1, 1, 1, 1, 5, 7, 1, 1, 5, 1, 1, 1, 1, 6, 2, 1, 2, 6, 1, 1, 39, 2, 1, 2, 2, 1, 4, 4, 1, 1, 1, 1, 5, 4, 2, 1, 1, 3, 1, 3, 4, 1, 1, 1, 1, 14, 1, 1, 6, 1, 4, 1, 1, 1, 24, 31, 1, 1, 3, 1, 1, 5, 2, 1, 12, 2, 8, 8, 8, 1, 3, 2, 5, 4, 1, 2, 1, 2, 6, 1, 1, 1, 1, 8, 2, 5, 2, 1, 2, 22, 1, 1, 1, 1, 1, 1, 6, 1, 1, 7, 1, 3, 1, 10, 1, 1, 24, 2, 4, 10, 2, 1, 1, 1, 4, 2, 1, 21, 1, 2, 1, 1, 3, 33, 1, 1, 1, 10, 40, 1, 2, 1, 1, 1, 9, 1, 3, 5, 4, 1, 4, 1, 1, 9, 1, 2, 6, 1, 5, 3, 5, 4, 14, 3, 8, 2, 2, 1, 1, 2, 14, 4, 2, 4, 11, 2, 5, 6, 5, 3, 4, 12, 2, 3, 3, 1, 2, 1, 4, 3, 2, 3, 1, 1, 2, 1, 1, 1, 1, 1, 3, 3, 3, 1, 1, 1, 20, 1, 1, 2, 1, 27, 1, 24, 1, 1, 2, 1, 1, 6, 1, 1, 2, 2, 6, 5, 2, 1, 2, 1, 1, 5, 12, 1, 1, 17, 1, 4, 1, 4, 1, 1, 1, 1, 50, 10, 5, 2, 1, 1, 4, 3, 3, 3, 5, 34, 19, 15, 2, 3, 8, 10, 4, 2, 31, 5, 6, 16, 1, 13, 1, 7, 1, 2, 1, 47, 1, 1, 13, 8, 1, 1, 6, 2, 4, 3, 5, 5, 6, 10, 4, 1, 3, 6, 29, 6, 3, 8, 32, 2, 1, 6, 10, 4, 4, 1, 1, 3, 16, 36, 1, 1, 6, 13, 1, 1, 16, 3, 9, 1, 28, 15, 7, 17, 1, 1, 1, 11, 4, 2, 10, 6, 3, 3, 4, 11, 9, 1, 4, 11, 1, 3, 3, 1, 4, 29, 1, 1, 1, 18, 2, 1, 2, 1, 15, 2, 1, 9, 5, 2, 7, 1, 4, 1, 3, 1, 1, 12, 6, 5, 1, 8, 3, 23, 1, 6, 1, 2, 9, 1, 14, 6, 2, 2, 14, 21, 2, 4, 2, 24, 2, 1, 2, 1, 7, 2, 24, 1, 1, 30, 1, 1, 1, 1, 1, 3, 2, 18, 1, 7, 6, 1, 30, 1, 1, 2, 6, 10, 1, 1, 2, 1, 6, 8, 1, 4, 4, 2, 6, 17, 19, 13, 6, 18, 3, 1, 14, 1, 9, 27, 3, 1, 32, 8, 13, 7, 1, 2, 1, 1, 1, 4, 11, 5, 15, 13, 1, 1, 1, 11, 31, 6, 3, 2, 9, 2, 6, 1, 1, 25, 20, 3, 4, 5, 19, 1, 6, 4, 2, 1, 1, 22, 2, 12, 7, 2, 4, 7, 8, 11, 1, 10, 25, 31, 3, 1, 2, 1, 1, 16, 4, 1, 1, 8, 1, 5, 26, 1, 1, 24, 7, 2, 5, 21, 22, 11, 9, 4, 9, 33, 10, 7, 1, 18, 31, 7, 18, 11, 13, 11, 8, 7, 10, 31, 10, 3, 14, 13, 19, 16, 4, 4, 9, 21, 13, 8, 32, 4, 3, 2, 32, 14, 10, 8, 10, 1, 24, 12, 6, 17, 7, 14, 11, 15, 6, 18, 2, 6, 12, 8, 4, 3, 3, 9, 6, 4, 4, 27, 3, 6, 3, 1, 5, 4, 9, 17, 29, 5, 1, 1, 8, 16, 2, 6, 10, 2, 1, 17, 18, 10, 8, 16, 15, 9, 1, 4, 7, 5, 1, 4, 1, 1, 2, 6, 7, 1, 17, 9, 3, 1, 6, 1, 2, 1, 5, 3, 5, 3, 1, 3, 1, 1, 2, 1, 2, 2, 1, 2, 13, 14, 10, 11, 1, 9, 1, 29, 6, 11, 20, 3, 2, 3, 5, 9, 8, 11, 6, 10, 2, 28, 15, 1, 6, 1, 3, 5, 7, 5, 2, 12, 14, 1, 6, 10, 2, 2, 1, 2, 14, 3, 24, 2, 3, 25, 11, 9, 1, 5, 17, 13, 9, 27, 12, 12, 31, 13, 24, 5, 1, 22, 3, 9, 2, 1, 1, 4, 10, 4, 7, 1, 4, 3, 1, 4, 22, 21, 12, 8, 1, 5, 4, 21, 35, 7, 21, 7, 11, 7, 31, 2, 7, 2, 5, 4, 8, 5, 4, 6, 3, 8, 3, 20, 14, 10, 21, 16, 19, 26, 14, 9, 4, 14, 18, 2, 8, 1, 7, 7, 3, 4, 13, 4, 6, 6, 12, 3, 3, 12, 19, 3, 3, 1, 3, 1, 15, 5, 7, 2, 12, 3, 3, 1, 25, 7, 3, 4, 1, 1, 1, 1, 10, 4, 5, 1, 1, 1, 12, 1, 1, 2, 14, 1, 2, 1, 7, 9, 5, 1, 1, 1, 1, 1, 1, 20, 20, 1, 9, 1, 23, 11, 8, 3, 13, 6, 25, 5, 1, 1, 2, 5, 1, 1, 23, 33, 1, 3, 10, 6, 13, 1, 2, 4, 1, 2, 1, 1, 5, 4, 3, 11, 11, 1, 1, 1, 1, 8, 18, 9, 1, 1, 2, 1, 13, 1, 1, 7, 8, 11, 3, 28, 1, 1, 2, 1, 6, 1, 1, 1, 1, 1, 24, 6, 1, 12, 2, 5, 17, 15, 6, 1, 1, 24, 1, 7, 11, 1, 7, 1, 10, 7, 6, 1, 1, 2, 4, 8, 6, 1, 5, 1, 15, 8, 1, 9, 2, 16, 1, 5, 4, 12, 4, 13, 1, 2, 8, 1, 2, 2, 2, 2, 1, 1, 2, 2, 2, 1, 14, 1, 1, 1, 12, 19, 1, 1, 1, 1, 1, 7, 3, 2, 8, 18, 6, 5, 1, 1, 15, 3, 5, 1, 4, 1, 7, 27, 2, 3, 1, 5, 7, 23, 7, 7, 1, 1, 1, 1, 3, 1, 2, 1, 1, 20, 2, 1, 1, 5, 12, 1, 3, 1, 21, 3, 1, 10, 1, 5, 7, 4, 1, 1, 1, 23, 4, 21, 12, 1, 10, 1, 2, 12, 5, 15, 19, 27, 1, 3, 4, 2, 2, 1, 2, 1, 5, 5, 6, 1, 2, 4, 10, 8, 1, 7, 26, 6, 24, 2, 9, 10, 6, 13, 46, 10, 1, 24, 11, 2, 31, 20, 3, 2, 12, 4, 1, 13, 14, 6, 11, 11, 1, 3, 4, 1, 16, 1, 4, 4, 2, 7, 4, 4, 2, 24, 16, 7, 3, 5, 9, 1, 15, 26, 5, 4, 7, 6, 17, 4, 4, 1, 7, 2, 7, 3, 17, 13, 21, 10, 4, 3, 8, 2, 8, 12, 7, 16, 3, 17, 4, 1, 2, 1, 9, 9, 5, 4, 20, 16, 32, 22, 11, 1, 27, 3, 5, 8, 17, 21, 5, 12, 3, 13, 4, 6, 1, 12, 2, 11, 14, 31, 14, 12, 15, 6, 1, 9, 10, 2, 2, 1, 5, 18, 3, 10, 1, 6, 3, 1, 3, 5, 1, 18, 6, 14, 2, 2, 4, 11, 17, 7, 6, 24, 19, 14, 5, 1, 6, 10, 4, 1, 11, 19, 9, 3, 12, 3, 9, 9, 16, 14, 6, 1, 8, 2, 40, 22, 4, 5, 5, 14, 1, 2, 2, 10, 7, 26, 7, 3, 2, 5, 7, 8, 13, 1, 16, 2, 4, 4, 31, 16, 4, 10, 1, 22, 3, 19, 1, 15, 18, 9, 1, 9, 5, 14, 18, 8, 5, 13, 11, 27, 1, 1, 6, 8, 4, 8, 1, 5, 13, 30, 6, 9, 1, 16, 1, 26, 1, 8, 16, 2, 1, 2, 8, 27, 4, 3, 11, 15, 1, 10, 1, 16, 26, 21, 33, 31, 26, 14, 8, 19, 4, 9, 2, 16, 5, 2, 1, 1, 1, 2, 4, 8, 2, 28, 4, 1, 6, 2, 1, 5, 1, 3, 1, 2, 1, 3, 3, 2, 14, 3, 23, 17, 3, 1, 6, 9, 1, 30, 3, 1, 2, 1, 1, 5, 7, 1, 1, 1, 1, 14, 9, 25, 6, 19, 1, 7, 12, 1, 37, 3, 2, 2, 5, 2, 16, 34, 9, 1, 11, 3, 3, 1, 1, 3, 19, 1, 32, 1, 1, 24, 4, 2, 3, 7, 2, 2, 4, 1, 22, 18, 2, 1, 2, 2, 1, 3, 14, 3, 1, 2, 26, 1, 21, 17, 5, 2, 13, 2, 1, 5, 1, 1, 3, 6, 5, 2, 18, 4, 2, 7, 4, 6, 1, 2, 2, 5, 19, 12, 4, 1, 1, 5, 1, 2, 5, 31, 2, 3, 1, 2, 1, 3, 3, 18, 1, 4, 7, 1, 4, 22, 1, 1, 20, 1, 1, 3, 1, 2, 1, 9, 1, 18, 1, 4, 1, 2, 1, 3, 22, 9, 1, 5, 9, 1, 1, 2, 3, 1, 33, 1, 16, 2, 1, 3, 3, 1, 2, 3, 27, 1, 1, 1, 1, 3, 20, 1, 5, 2, 2, 2, 2, 1, 1, 2, 2, 1, 1, 18, 5, 1, 22, 46, 1, 1, 2, 20, 3, 1, 5, 3, 1, 4, 1, 2, 1, 1, 3, 1, 13, 2, 4, 2, 13, 4, 6, 1, 2, 6, 24, 2, 2, 4, 31, 13, 4, 1, 1, 5, 1, 9, 1, 1, 2, 2, 5, 3, 13, 1, 1, 6, 1, 1, 2, 9, 1, 24, 2, 1, 1, 1, 1, 1, 30, 2, 5, 2, 2, 2, 1, 1, 1, 40, 8, 2, 10, 1, 1, 1, 14, 7, 4, 1, 3, 3, 1, 4, 1, 1, 1, 28, 1, 1, 2, 1, 9, 17, 1, 1, 1, 1, 2, 27, 2, 23, 2, 1, 5, 27, 26, 2, 9, 1, 1, 1, 9, 1, 4, 1, 5, 1, 2, 20, 1, 14, 1, 5, 1, 2, 1, 2, 1, 7, 3, 1, 1, 3, 2, 2, 3, 1, 1, 2, 13, 37, 1, 1, 4, 4, 15, 4, 2, 2, 1, 1, 6, 10, 1, 3, 5, 1, 18, 10, 17, 29, 11, 1, 13, 1, 3, 2, 1, 1, 1, 2, 5, 2, 1, 3, 1, 4, 1, 5, 2, 4, 5, 25, 1, 1, 2, 5, 1, 2, 2, 1, 2, 2, 1, 2, 1, 3, 2, 2, 29, 4, 39, 1, 5, 6, 2, 1, 2, 1, 2, 1, 1, 3, 12, 1, 4, 6, 13, 13, 2, 3, 1, 1, 2, 3, 1, 3, 2, 1, 11, 1, 1, 2, 1, 5, 2, 2, 7, 3, 7, 1, 2, 1, 14, 2, 2, 14, 12, 1, 3, 7, 39, 11, 15, 2, 3, 26, 2, 1, 5, 3, 17, 1, 39, 2, 6, 1, 2, 6, 1, 7, 1, 5, 6, 1, 7, 1, 5, 1, 1, 3, 1, 5, 1, 4, 13, 5, 13, 23, 1, 38, 3, 1, 3, 1, 1, 31, 5, 1, 12, 1, 1, 6, 1, 1, 1, 1, 1, 1, 2, 9, 3, 1, 2, 4, 4, 6, 1, 1, 14, 1, 8, 6, 2, 7, 3, 4, 14, 1, 1, 2, 3, 1, 12, 9, 11, 1, 2, 6, 1, 2, 4, 1, 3, 7, 6, 4, 2, 14, 8, 1, 2, 5, 12, 4, 7, 1, 15, 1, 7, 5, 1, 1, 3, 6, 2, 3, 9, 1, 1, 1, 7, 1, 2, 5, 2, 3, 1, 1, 1, 1, 1, 18, 1, 20, 2, 4, 1, 14, 1, 4, 3, 1, 1, 1, 2, 1, 1, 3, 1, 11, 8, 1, 1, 1, 6, 6, 2, 1, 4, 2, 5, 1, 1, 5, 7, 16, 1, 4, 6, 18, 1, 1, 5, 1, 18, 1, 1, 19, 2, 1, 7, 2, 2, 11, 23, 4, 3, 11, 5, 1, 2, 1, 1, 10, 4, 1, 4, 5, 1, 7, 6, 1, 9, 21, 2, 3, 1, 1, 2, 10, 1, 2, 1, 1, 1, 2, 8, 7, 4, 5, 12, 1, 4, 1, 7, 3, 1, 6, 6, 6, 3, 5, 1, 7, 3, 2, 23, 15, 1, 1, 2, 6, 1, 1, 6, 21, 9, 7, 7, 1, 21, 7, 1, 27, 1, 1, 1, 3, 7, 26, 2, 1, 1, 1, 7, 6, 1, 2, 2, 1, 5, 2, 1, 4, 1, 1, 4, 1, 1, 1, 1, 10, 1, 3, 5, 5, 14, 39, 1, 3, 1, 5, 1, 1, 1, 31, 1, 3, 13, 3, 5, 1, 2, 8, 21, 3, 4, 3, 15, 8, 1, 4, 20, 17, 5, 1, 3, 5, 3, 7, 9, 1, 3, 4, 9, 3, 3, 1, 3, 2, 3, 1, 1, 11, 1, 2, 1, 1, 16, 6, 1, 1, 1, 1, 10, 14, 6, 1, 2, 8, 10, 3, 10, 1, 11, 12, 5, 13, 4, 7, 7, 5, 1, 18, 10, 3, 8, 7, 1, 3, 5, 11, 1, 3, 2, 2, 11, 7, 2, 6, 22, 29, 3, 6, 1, 1, 1, 12, 7, 8, 5, 6, 7, 1, 6, 9, 5, 17, 3, 1, 4, 34, 4, 1, 1, 10, 1, 9, 3, 21, 4, 1, 4, 4, 17, 6, 7, 8, 1, 9, 7, 3, 3, 14, 4, 14, 10, 10, 9, 4, 2, 44, 19, 8, 9, 2, 14, 1, 36, 4, 6, 10, 6, 8, 15, 6, 2, 6, 8, 1, 2, 4, 8, 10, 25, 3, 22, 26, 3, 5, 4, 3, 1, 5, 1, 2, 9, 1, 3, 9, 26, 14, 36, 7, 2, 16, 19, 3, 9, 7, 2, 5, 8, 4, 25, 5, 3, 11, 2, 17, 4, 5, 9, 10, 4, 20, 8, 4, 35, 2, 1, 1, 35, 5, 1, 4, 6, 2, 3, 8, 13, 4, 10, 15, 14, 6, 19, 5, 2, 1, 7, 13, 8, 24, 1, 13, 4, 23, 31, 7, 3, 6, 7, 6, 2, 5, 10, 11, 5, 2, 2, 8, 3, 1, 8, 2, 6, 11, 1, 1, 4, 1, 8, 35, 3, 18, 3, 1, 2, 4, 17, 2, 1, 7, 4, 6, 9, 1, 1, 5, 4, 3, 7, 5, 10, 8, 6, 6, 1, 26, 11, 6, 5, 5, 3, 10, 2, 3, 1, 12, 4, 1, 15, 22, 2, 4, 14, 1, 5, 9, 2, 1, 2, 4, 2, 4, 4, 12, 9, 1, 1, 5, 2, 1, 11, 1, 1, 1, 11, 16, 25, 2, 10, 2, 4, 8, 3, 2, 1, 7, 4, 10, 1, 4, 7, 3, 6, 28, 16, 1, 1, 1, 2, 16, 2, 1, 2, 13, 11, 4, 12, 2, 3, 1, 2, 24, 1, 9, 8, 8, 3, 1, 3, 1, 1, 3, 4, 1, 8, 3, 9, 12, 12, 2, 1, 11, 1, 5, 2, 10, 8, 2, 1, 5, 3, 3, 3, 1, 3, 11, 7, 1, 7, 2, 1, 1, 8, 10, 1, 1, 4, 1, 1, 4, 6, 2, 2, 10, 1, 9, 1, 2, 2, 13, 6, 1, 1, 6, 1, 20, 7, 2, 7, 3, 6, 1, 4, 4, 3, 2, 1, 1, 1, 1, 2, 3, 6, 3, 4, 1, 1, 1, 10, 8, 2, 3, 4, 5, 4, 4, 21, 1, 1, 10, 8, 7, 11, 7, 1, 1, 4, 4, 2, 1, 11, 3, 5, 3, 3, 10, 2, 2, 3, 2, 10, 2, 15, 1, 7, 5, 13, 6, 3, 1, 2, 1, 20, 7, 15, 16, 1, 2, 6, 1, 3, 2, 1, 1, 9, 2, 5, 4, 2, 1, 2, 11, 3, 2, 2, 1, 4, 14, 3, 1, 6, 1, 2, 7, 5, 10, 2, 2, 17, 1, 12, 1, 5, 3, 3, 3, 14, 4, 8, 1, 3, 2, 16, 2, 11, 10, 19, 2, 7, 1, 1, 13, 2, 4, 11, 5, 3, 12, 1, 1, 3, 2, 9, 14, 6, 13, 4, 8, 8, 20, 27, 4, 2, 21, 15, 2, 2, 1, 11, 6, 1, 1, 14, 10, 4, 3, 4, 3, 25, 2, 3, 3, 5, 14, 20, 6, 2, 11, 3, 3, 9, 6, 33, 10, 2, 13, 6, 10, 37, 13, 9, 23, 18, 14, 19, 4, 5, 10, 13, 8, 18, 1, 13, 7, 13, 11, 6, 7, 18, 14, 6, 4, 10, 7, 1, 16, 1, 5, 7, 3, 1, 5, 1, 3, 12, 2, 10, 5, 15, 15, 2, 1, 1, 1, 6, 20, 2, 1, 1, 11, 2, 16, 1, 29, 1, 3, 7, 4, 10, 1, 6, 18, 15, 8, 1, 10, 1, 7, 3, 14, 8, 2, 2, 9, 14, 5, 10, 4, 6, 3, 10, 7, 14, 5, 1, 6, 12, 1, 20, 11, 2, 6, 14, 7, 4, 6, 2, 17, 7, 14, 4, 3, 2, 10, 13, 9, 11, 3, 10, 4, 2, 16, 7, 1, 12, 19, 15, 1, 22, 5, 6, 12, 17, 5, 17, 23, 10, 6, 1, 14, 2, 36, 5, 13, 9, 7, 1, 3, 3, 10, 2, 17, 5, 7, 4, 3, 1, 13, 17, 3, 1, 6, 1, 7, 9, 2, 20, 3, 18, 6, 6, 9, 16, 3, 2, 1, 7, 3, 13, 5, 32, 10, 3, 6, 5, 4, 2, 1, 5, 1, 4, 1, 3, 23, 13, 8, 7, 6, 1, 14, 4, 1, 25, 14, 22, 1, 1, 5, 5, 4, 15, 1, 6, 1, 4, 2, 5, 4, 25, 1, 2, 1, 9, 1, 12, 3, 1, 3, 4, 5, 7, 1, 9, 2, 1, 1, 32, 1, 1, 1, 10, 2, 4, 2, 1, 3, 1, 17, 3, 1, 4, 1, 22, 5, 7, 1, 4, 10, 3, 4, 7, 20, 5, 1, 10, 7, 2, 1, 7, 3, 6, 1, 5, 3, 1, 13, 1, 3, 7, 2, 2, 6, 4, 3, 1, 1, 3, 7, 2, 1, 1, 2, 1, 1, 9, 11, 18, 1, 6, 1, 2, 7, 1, 2, 25, 4, 7, 1, 1, 1, 1, 5, 12, 2, 6, 1, 5, 1, 11, 2, 3, 1, 15, 1, 8, 3, 1, 1, 2, 1, 8, 1, 40, 1, 7, 1, 12, 1, 1, 24, 1, 2, 1, 1, 19, 1, 3, 1, 1, 5, 5, 3, 2, 1, 1, 1, 1, 13, 1, 4, 1, 24, 8, 1, 6, 1, 1, 2, 1, 1, 3, 8, 24, 2, 15, 2, 1, 1, 2, 1, 1, 9, 7, 1, 2, 4, 1, 1, 3, 15, 5, 1, 3, 1, 1, 1, 13, 1, 4, 1, 1, 2, 1, 2, 5, 2, 3, 2, 12, 1, 6, 2, 3, 1, 4, 1, 5, 7, 7, 2, 1, 7, 1, 4, 1, 5, 1, 1, 1, 1, 1, 2, 2, 5, 5, 6, 1, 2, 2, 7, 2, 5, 10, 1, 1, 5, 1, 2, 2, 1, 3, 1, 4, 1, 5, 3, 4, 4, 1, 1, 2, 24, 1, 21, 5, 1, 3, 1, 1, 1, 1, 2, 1, 9, 3, 9, 8, 1, 1, 3, 1, 1, 1, 1, 1, 23, 1, 1, 1, 2, 2, 1, 7, 1, 20, 6, 1, 1, 2, 1, 2, 1, 2, 1, 1, 1, 8, 1, 6, 1, 1, 1, 1, 4, 6, 1, 8, 2, 4, 8, 7, 2, 13, 1, 8, 1, 4, 1, 1, 5, 16, 2, 2, 33, 2, 1, 10, 2, 2, 28, 1, 12, 33, 1, 23, 38, 4, 1, 29, 1, 1, 7, 4, 28, 1, 1, 9, 10, 15, 5, 2, 2, 7, 9, 23, 6, 1, 21, 12, 9, 22, 1, 2, 10, 7, 21, 7, 15, 10, 1, 2, 3, 10, 4, 10, 1, 5, 1, 3, 10, 2, 9, 35, 1, 9, 1, 3, 5, 8, 9, 8, 3, 12, 3, 3, 3, 2, 1, 13, 30, 1, 2, 1, 19, 9, 7, 1, 11, 1, 1, 5, 3, 5, 9, 4, 1, 6, 4, 17, 8, 10, 2, 15, 4, 7, 19, 2, 14, 5, 1, 29, 4, 3, 34, 8, 4, 1, 1, 1, 1, 5, 7, 1, 7, 3, 3, 1, 1, 5, 1, 1, 1, 18, 1, 10, 1, 1, 2, 4, 2, 4, 1, 1, 8, 1, 2, 1, 1, 30, 1, 1, 2, 1, 4, 1, 2, 1, 5, 3, 1, 8, 5, 1, 8, 1, 1, 4, 1, 3, 2, 6, 2, 16, 1, 3, 1, 4, 9, 12, 7, 1, 1, 4, 1, 2, 1, 1, 3, 22, 1, 7, 1, 1, 1, 3, 1, 1, 1, 1, 12, 2, 1, 8, 1, 3, 2, 4, 3, 2, 5, 1, 2, 2, 1, 2, 1, 22, 1, 2, 1, 2, 2, 5, 1, 1, 7, 1, 9, 1, 1, 1, 1, 1, 1, 12, 1, 1, 1, 1, 2, 6, 3, 1, 1, 4, 1, 11, 1, 1, 9, 1, 1, 2, 7, 2, 2, 2, 1, 1, 1, 14, 9, 2, 1, 3, 1, 2, 1, 2, 1, 6, 1, 1, 22, 8, 12, 1, 3, 4, 3, 1, 6, 1, 1, 6, 1, 1, 1, 1, 4, 6, 1, 9, 1, 2, 7, 3, 2, 1, 3, 1, 1, 1, 1, 1, 4, 18, 1, 1, 5, 1, 6, 5, 1, 1, 5, 1, 1, 2, 12, 5, 4, 9, 1, 1, 1, 8, 17, 2, 1, 2, 1, 14, 1, 2, 10, 2, 1, 1, 6, 6, 2, 19, 1, 6, 1, 2, 5, 2, 4, 1, 7, 2, 1, 1, 2, 3, 1, 2, 7, 1, 1, 1, 1, 10, 9, 13, 6, 1, 4, 11, 1, 1, 1, 1, 3, 1, 1, 1, 1, 1, 4, 1, 1, 4, 1, 16, 1, 3, 2, 5, 4, 3, 1, 1, 7, 1, 2, 1, 6, 1, 1, 3, 1, 1, 1, 1, 6, 2, 1, 3, 3, 17, 16, 2, 1, 5, 1, 1, 1, 1, 7, 1, 2, 3, 1, 3, 1, 9, 2, 1, 2, 10, 1, 15, 2, 4, 2, 1, 4, 2, 1, 1, 2, 19, 9, 8, 27, 5, 5, 1, 22, 3, 7, 6, 1, 1, 2, 3, 6, 2, 1, 4, 2, 2, 8, 23, 1, 2, 2, 3, 15, 1, 1, 18, 22, 1, 1, 2, 19, 1, 3, 1, 1, 1, 1, 2, 3, 1, 8, 3, 13, 1, 1, 3, 28, 8, 10, 1, 3, 8, 6, 1, 1, 5, 3, 1, 23, 1, 6, 1, 2, 9, 1, 2, 3, 24, 1, 7, 1, 1, 2, 15, 7, 2, 31, 4, 16, 1, 1, 1, 1, 13, 6, 2, 1, 18, 7, 2, 3, 35, 1, 2, 1, 6, 7, 1, 1, 3, 7, 2, 4, 32, 1, 29, 11, 7, 3, 4, 10, 1, 2, 1, 1, 31, 11, 5, 7, 13, 1, 7, 4, 17, 1, 3, 2, 1, 11, 1, 1, 1, 11, 1, 2, 15, 4, 1, 2, 1, 1, 20, 3, 1, 7, 7, 12, 2, 8, 1, 2, 5, 2, 6, 1, 8, 1, 8, 30, 8, 3, 3, 6, 28, 17, 3, 8, 2, 5, 2, 1, 5, 1, 7, 6, 1, 12, 3, 13, 9, 2, 1, 1, 2, 1, 11, 2, 2, 9, 3, 10, 1, 3, 2, 2, 5, 7, 1, 1, 1, 1, 8, 2, 2, 5, 24, 1, 12, 2, 2, 1, 1, 1, 8, 5, 16, 2, 1, 1, 4, 10, 10, 2, 10, 37, 2, 1, 16, 3, 13, 6, 7, 2, 9, 6, 2, 9, 2, 3, 6, 1, 1, 9, 20, 3, 1, 9, 2, 7, 1, 1, 2, 3, 2, 2, 2, 2, 8, 7, 7, 12, 8, 6, 11, 1, 2, 1, 6, 4, 2, 2, 13, 1, 26, 7, 1, 2, 13, 1, 2, 1, 1, 2, 2, 1, 7, 5, 7, 6, 9, 4, 20, 8, 1, 10, 5, 15, 4, 14, 1, 7, 7, 7, 11, 7, 16, 23, 12, 1, 10, 8, 5, 13, 3, 4, 3, 9, 7, 5, 4, 3, 5, 8, 8, 6, 30, 12, 4, 4, 2, 18, 2, 4, 21, 19, 1, 3, 12, 3, 5, 3, 1, 9, 4, 24, 7, 1, 2, 7, 15, 18, 14, 4, 1, 6, 7, 7, 1, 2, 2, 3, 8, 10, 6, 7, 3, 1, 12, 17, 5, 16, 5, 2, 1, 1, 8, 8, 5, 1, 6, 4, 18, 1, 3, 5, 8, 1, 1, 36, 5, 1, 2, 1, 8, 3, 2, 4, 1, 8, 2, 16, 6, 3, 24, 1, 6, 25, 5, 12, 1, 10, 2, 6, 7, 6, 5, 6, 5, 18, 1, 3, 2, 6, 3, 14, 10, 1, 1, 1, 8, 3, 1, 3, 2, 1, 2, 1, 3, 6, 1, 4, 5, 6, 1, 2, 5, 11, 1, 6, 1, 1, 10, 7, 1, 1, 1, 1, 1, 3, 4, 1, 1, 8, 1, 9, 4, 8, 13, 13, 9, 2, 1, 2, 2, 1, 21, 2, 2, 3, 2, 13, 13, 3, 1, 1, 8, 11, 1, 4, 4, 1, 7, 1, 1, 6, 1, 2, 3, 5, 6, 11, 1, 1, 1, 5, 10, 7, 2, 9, 3, 7, 6, 9, 1, 6, 19, 24, 3, 3, 3, 4, 1, 15, 3, 2, 1, 1, 1, 2, 20, 2, 1, 8, 3, 2, 8, 3, 2, 1, 14, 6, 2, 2, 6, 3, 1, 1, 1, 4, 1, 1, 32, 8, 1, 3, 1, 2, 5, 2, 2, 1, 2, 6, 15, 1, 2, 1, 1, 17, 3, 10, 1, 2, 6, 1, 4, 12, 19, 1, 3, 2, 4, 4, 18, 27, 1, 4, 2, 1, 1, 1, 1, 2, 9, 8, 4, 1, 26, 2, 3, 10, 1, 3, 2, 6, 5, 5, 2, 1, 4, 1, 8, 3, 6, 2, 30, 4, 8, 2, 2, 1, 3, 1, 3, 1, 1, 14, 1, 5, 1, 2, 2, 8, 24, 1, 2, 1, 6, 3, 9, 1, 4, 6, 1, 15, 2, 1, 4, 1, 11, 11, 5, 15, 9, 2, 7, 2, 1, 45, 26, 11, 2, 1, 10, 5, 1, 31, 3, 4, 1, 1, 1, 1, 2, 1, 2, 4, 4, 1, 1, 2, 1, 1, 2, 2, 1, 3, 9, 12, 2, 1, 6, 9, 2, 1, 2, 5, 16, 14, 1, 3, 12, 4, 4, 19, 1, 4, 1, 2, 11, 1, 4, 3, 5, 5, 1, 1, 5, 5, 2, 1, 1, 13, 2, 5, 7, 2, 3, 2, 1, 2, 1, 8, 1, 5, 8, 1, 3, 5, 1, 1, 1, 2, 11, 3, 6, 9, 4, 2, 4, 2, 7, 6, 2, 3, 1, 6, 2, 1, 2, 2, 22, 1, 8, 7, 1, 6, 2, 7, 6, 1, 1, 3, 5, 3, 9, 1, 1, 2, 2, 1, 1, 2, 2, 4, 2, 5, 5, 8, 1, 3, 2, 4, 2, 1, 2, 9, 1, 6, 4, 21, 19, 3, 2, 1, 13, 1, 1, 3, 4, 2, 1, 4, 23, 2, 2, 1, 6, 3, 3, 38, 1, 7, 2, 1, 3, 1, 9, 4, 1, 1, 1, 2, 5, 25, 11, 3, 2, 3, 12, 2, 12, 3, 1, 2, 1, 2, 1, 1, 10, 2, 2, 1, 4, 1, 2, 7, 14, 1, 3, 1, 1, 24, 2, 3, 15, 4, 9, 18, 4, 1, 4, 1, 5, 4, 2, 2, 3, 3, 2, 1, 2, 3, 2, 32, 3, 1, 3, 2, 3, 4, 3, 2, 1, 2, 4, 10, 3, 6, 5, 5, 3, 1, 9, 1, 3, 2, 5, 9, 1, 1, 13, 3, 3, 1, 6, 1, 1, 1, 2, 41, 1, 1, 4, 7, 1, 2, 2, 2, 2, 10, 2, 10, 3, 3, 3, 8, 2, 2, 1, 12, 4, 18, 1, 1, 3, 2, 1, 1, 13, 1, 2, 3, 2, 3, 2, 3, 2, 8, 2, 1, 3, 1, 11, 4, 1, 8, 2, 1, 2, 2, 6, 2, 6, 2, 17, 9, 5, 4, 7, 2, 15, 19, 5, 7, 3, 1, 13, 1, 3, 5, 7, 2, 2, 6, 4, 2, 23, 1, 2, 5, 3, 4, 6, 6, 4, 2, 4, 3, 5, 2, 4, 3, 2, 3, 2, 3, 13, 6, 25, 2, 3, 4, 6, 4, 2, 5, 1, 1, 4, 5, 26, 12, 26, 3, 2, 5, 32, 9, 4, 3, 4, 3, 6, 9, 3, 4, 1, 32, 10, 5, 42, 3, 5, 15, 4, 26, 3, 2, 1, 4, 2, 1, 5, 4, 3, 1, 29, 3, 5, 20, 11, 4, 1, 9, 14, 3, 4, 11, 1, 5, 2, 9, 3, 1, 2, 7, 3, 9, 5, 16, 37, 1, 3, 5, 2, 3, 2, 10, 6, 38, 4, 4, 6, 32, 19, 14, 2, 6, 3, 5, 5, 1, 7, 2, 3, 9, 3, 3, 3, 1, 8, 2, 2, 8, 1, 3, 2, 4, 16, 2, 3, 11, 11, 13, 4, 6, 10, 8, 4, 7, 3, 6, 10, 2, 9, 4, 16, 2, 12, 1, 2, 6, 2, 4, 3, 4, 4, 3, 3, 9, 5, 9, 4, 9, 32, 5, 1, 6, 13, 3, 16, 7, 1, 11, 13, 10, 12, 16, 11, 2, 6, 8, 5, 14, 18, 11, 3, 9, 6, 2, 10, 1, 7, 1, 9, 17, 1, 2, 27, 7, 3, 11, 3, 11, 2, 13, 4, 4, 7, 10, 7, 1, 6, 20, 14, 1, 13, 9, 1, 6, 8, 2, 1, 13, 23, 8, 16, 1, 25, 14, 12, 15, 8, 17, 3, 5, 1, 7, 3, 1, 20, 1, 1, 5, 3, 3, 1, 20, 1, 21, 8, 5, 6, 3, 16, 1, 4, 2, 15, 8, 5, 24, 1, 12, 1, 26, 7, 24, 4, 18, 6, 4, 19, 2, 8, 9, 9, 8, 1, 9, 6, 2, 5, 13, 3, 11, 1, 11, 1, 3, 16, 4, 13, 12, 1, 3, 2, 2, 8, 2, 3, 4, 1, 1, 18, 1, 1, 7, 14, 24, 17, 1, 7, 8, 6, 2, 2, 6, 4, 10, 4, 20, 7, 3, 3, 13, 14, 14, 1, 9, 16, 6, 32, 3, 1, 2, 3, 1, 1, 3, 4, 1, 1, 24, 12, 2, 1, 3, 1, 1, 1, 5, 1, 1, 1, 2, 2, 1, 9, 4, 16, 8, 2, 12, 2, 10, 1, 4, 1, 2, 2, 17, 1, 17, 2, 4, 3, 2, 3, 1, 13, 23, 20, 2, 8, 8, 2, 6, 1, 5, 25, 2, 1, 11, 20, 2, 4, 3, 3, 1, 24, 3, 2, 5, 5, 17, 14, 6, 2, 4, 14, 1, 1, 3, 1, 3, 1, 11, 22, 5, 15, 6, 7, 27, 1, 7, 1, 8, 8, 3, 1, 2, 8, 10, 2, 17, 4, 2, 1, 29, 1, 1, 1, 8, 4, 12, 2, 10, 2, 1, 21, 4, 1, 1, 8, 1, 3, 1, 2, 1, 13, 1, 3, 1, 1, 1, 1, 28, 11, 1, 6, 5, 1, 1, 7, 1, 3, 3, 3, 4, 5, 14, 32, 1, 1, 1, 1, 1, 1, 1, 10, 1, 1, 1, 9, 29, 14, 6, 1, 9, 1, 10, 2, 14, 7, 8, 3, 1, 17, 10, 10, 1, 1, 4, 30, 1, 1, 1, 8, 6, 16, 7, 2, 2, 1, 1, 41, 15, 1, 1, 1, 6, 1, 8, 5, 7, 10, 3, 15, 9, 1, 1, 8, 2, 1, 8, 2, 3, 3, 6, 1, 7, 5, 6, 17, 2, 2, 21, 1, 3, 2, 1, 11, 14, 3, 2, 13, 11, 21, 25, 5, 1, 12, 1, 2, 16, 7, 2, 5, 10, 9, 7, 6, 25, 1, 4, 18, 10, 4, 21, 3, 1, 27, 7, 17, 18, 8, 4, 5, 6, 6, 3, 6, 13, 5, 2, 4, 11, 5, 6, 6, 2, 1, 2, 2, 4, 2, 1, 14, 8, 3, 8, 5, 21, 1, 1, 1, 9, 4, 2, 1, 28, 3, 18, 3, 17, 4, 8, 9, 1, 26, 3, 1, 5, 1, 4, 2, 18, 16, 5, 9, 10, 15, 2, 6, 1, 18, 1, 27, 1, 3, 2, 10, 4, 6, 23, 1, 9, 8, 5, 9, 2, 7, 1, 1, 7, 2, 7, 12, 4, 1, 3, 2, 10, 4, 1, 2, 29, 1, 2, 7, 1, 7, 22, 33, 6, 1, 10, 1, 7, 4, 16, 34, 18, 6, 4, 1, 10, 2, 7, 6, 7, 40, 4, 6, 10, 5, 5, 7, 5, 1, 9, 5, 2, 4, 4, 5, 11, 1, 15, 1, 2, 6, 1, 8, 10, 3, 2, 2, 2, 1, 15, 7, 7, 6, 3, 6, 6, 3, 2, 9, 21, 2, 11, 1, 2, 39, 8, 1, 1, 4, 9, 4, 3, 1, 30, 1, 3, 1, 2, 17, 1, 16, 10, 1, 21, 3, 12, 1, 2, 2, 1, 4, 2, 7, 11, 1, 1, 17, 6, 1, 2, 10, 1, 1, 1, 7, 1, 2, 1, 1, 19, 1, 1, 1, 1, 1, 5, 2, 1, 5, 2, 8, 4, 1, 1, 2, 3, 4, 1, 15, 30, 1, 6, 1, 10, 1, 5, 1, 1, 2, 4, 1, 3, 1, 7, 1, 1, 2, 10, 23, 3, 12, 1, 4, 6, 5, 1, 8, 4, 17, 3, 1, 1, 8, 1, 10, 1, 1, 7, 7, 1, 3, 1, 5, 1, 8, 2, 19, 10, 6, 1, 5, 2, 12, 7, 2, 1, 1, 10, 1, 1, 12, 29, 1, 3, 3, 2, 1, 3, 1, 1, 22, 5, 13, 1, 1, 10, 11, 15, 1, 14, 23, 1, 19, 1, 2, 3, 3, 1, 2, 8, 1, 2, 10, 1, 2, 1, 32, 4, 17, 1, 1, 3, 3, 3, 22, 1, 4, 2, 3, 2, 15, 29, 3, 1, 8, 3, 2, 1, 4, 1, 4, 10, 1, 1, 9, 13, 3, 1, 1, 1, 2, 20, 17, 22, 1, 12, 3, 2, 6, 10, 1, 2, 3, 17, 3, 12, 19, 5, 14, 1, 6, 1, 4, 3, 24, 3, 4, 8, 7, 9, 2, 13, 3, 2, 5, 8, 4, 1, 12, 2, 3, 1, 1, 14, 1, 13, 1, 8, 1, 4, 6, 1, 23, 2, 12, 1, 7, 15, 3, 1, 5, 38, 3, 3, 1, 3, 13, 1, 3, 13, 17, 7, 22, 17, 39, 3, 1, 8, 6, 3, 3, 1, 31, 18, 1, 4, 15, 14, 18, 3, 15, 30, 1, 1, 25, 1, 8, 1, 2, 33, 9, 6, 1, 5, 18, 3, 9, 7, 3, 1, 11, 1, 1, 8, 11, 1, 1, 5, 29, 8, 13, 8, 2, 3, 29, 12, 2, 2, 2, 1, 11, 7, 2, 9, 7, 15, 1, 16, 1, 2, 21, 7, 1, 12, 10, 12, 31, 31, 4, 10, 2, 5, 17, 3, 14, 15, 12, 1, 4, 5, 9, 23, 29, 48, 17, 24, 14, 14, 6, 1, 8, 16, 1, 7, 6, 3, 3, 4, 13, 1, 12, 1, 1, 16, 13, 32, 2, 1, 8, 24, 12, 5, 1, 8, 8, 23, 8, 1, 13, 2, 8, 3, 5, 19, 10, 2, 6, 42, 2, 3, 11, 10, 1, 29, 1, 1, 23, 6, 1, 1, 1, 12, 4, 17, 29, 1, 2, 11, 6, 3, 3, 9, 2, 1, 2, 1, 20, 1, 1, 4, 7, 11, 6, 1, 15, 3, 1, 2, 24, 4, 20, 1, 17, 2, 9, 27, 18, 8, 2, 2, 1, 3, 3, 3, 1, 1, 5, 2, 3, 1, 9, 1, 2, 1, 1, 8, 1, 1, 1, 3, 3, 1, 2, 2, 3, 7, 5, 2, 2, 1, 1, 2, 6, 1, 7, 1, 2, 2, 3, 4, 4, 8, 2, 4, 28, 2, 5, 1, 1, 3, 13, 2, 1, 4, 2, 7, 6, 2, 1, 3, 1, 3, 4, 1, 3, 5, 4, 11, 1, 3, 14, 1, 9, 15, 6, 7, 1, 2, 1, 3, 4, 1, 18, 1, 2, 1, 1, 5, 6, 4, 4, 2, 7, 11, 3, 4, 3, 1, 14, 3, 11, 6, 16, 4, 1, 4, 1, 11, 6, 2, 6, 30, 1, 1, 10, 11, 2, 8, 9, 14, 3, 4, 1, 3, 2, 2, 9, 5, 30, 8, 1, 17, 11, 2, 2, 5, 2, 18, 1, 4, 16, 5, 40, 4, 2, 3, 2, 8, 1, 7, 4, 1, 1, 1, 4, 2, 22, 1, 4, 42, 1, 1, 1, 30, 18, 3, 1, 6, 1, 3, 4, 2, 5, 1, 23, 1, 1, 2, 3, 14, 7, 3, 2, 22, 4, 1, 9, 5, 3, 24, 1, 20, 5, 6, 7, 4, 1, 13, 2, 6, 9, 7, 6, 6, 2, 10, 4, 3, 34, 17, 4, 6, 13, 7, 1, 1, 3, 7, 3, 1, 7, 1, 6, 1, 17, 2, 6, 1, 2, 18, 1, 3, 6, 4, 7, 1, 3, 1, 18, 2, 9, 2, 1, 1, 1, 14, 4, 26, 1, 2, 9, 2, 3, 9, 3, 6, 20, 2, 25, 1, 1, 31, 6, 15, 12, 1, 9, 1, 3, 17, 2, 17, 4, 1, 16, 1, 1, 1, 2, 19, 3, 4, 3, 1, 2, 6, 9, 10, 8, 3, 5, 7, 7, 24, 10, 5, 31, 9, 1, 6, 8, 8, 1, 2, 5, 14, 3, 7, 36, 4, 5, 4, 10, 3, 4, 6, 9, 5, 7, 4, 7, 27, 3, 7, 1, 6, 7, 2, 3, 2, 2, 22, 1, 8, 5, 28, 13, 7, 1, 2, 12, 32, 27, 10, 6, 4, 6, 18, 8, 30, 4, 16, 14, 28, 3, 7, 9, 6, 6, 12, 28, 13, 15, 32, 18, 35, 1, 6, 1, 23, 30, 4, 13, 2, 7, 7, 17, 4, 2, 4, 8, 11, 8, 14, 14, 3, 7, 25, 6, 29, 19, 6, 5, 12, 5, 6, 10, 4, 31, 15, 14, 31, 2, 12, 22, 2, 5, 8, 13, 23, 17, 12, 31, 1, 4, 3, 1, 27, 22, 5, 2, 13, 45, 26, 22, 2, 11, 2, 5, 24, 10, 6, 1, 1, 2, 2, 42, 5, 2, 17, 1, 5, 3, 6, 10, 6, 2, 8, 16, 8, 8, 10, 3, 27, 17, 12, 2, 11, 3, 6, 11, 2, 17, 3, 6, 4, 4, 3, 7, 27, 24, 4, 4, 7, 20, 5, 4, 8, 5, 7, 12, 17, 5, 2, 1, 4, 1, 16, 2, 7, 6, 21, 5, 3, 16, 9, 6, 15, 21, 1, 3, 1, 8, 23, 4, 3, 3, 1, 18, 21, 2, 4, 4, 2, 3, 21, 3, 2, 1, 7, 7, 3, 4, 7, 21, 12, 11, 5, 3, 6, 14, 5, 1, 6, 3, 7, 7, 3, 10, 7, 1, 4, 8, 2, 21, 1, 12, 15, 5, 2, 1, 6, 18, 4, 5, 1, 9, 11, 9, 9, 7, 9, 26, 14, 19, 3, 4, 3, 6, 1, 7, 4, 20, 2, 7, 3, 2, 14, 3, 1, 1, 7, 8, 15, 15, 5, 13, 4, 3, 16, 4, 6, 1, 3, 17, 4, 8, 2, 16, 1, 6, 2, 13, 10, 4, 4, 2, 5, 14, 3, 3, 4, 1, 2, 5, 2, 3, 3, 7, 5, 3, 32, 2, 3, 7, 34, 2, 1, 1, 8, 23, 11, 1, 4, 3, 3, 1, 10, 17, 4, 1, 1, 34, 14, 2, 3, 5, 4, 1, 3, 2, 2, 3, 1, 1, 21, 3, 1, 10, 21, 5, 10, 5, 6, 5, 4, 10, 1, 6, 2, 32, 2, 1, 1, 10, 4, 7, 5, 19, 12, 5, 2, 9, 5, 7, 11, 7, 1, 1, 7, 25, 5, 4, 1, 5, 5, 4, 6, 9, 1, 1, 4, 7, 5, 3, 5, 2, 1, 15, 1, 1, 13, 3, 4, 7, 4, 1, 2, 4, 14, 1, 3, 1, 18, 1, 2, 6, 10, 10, 6, 7, 2, 3, 1, 3, 1, 11, 4, 9, 6, 4, 16, 3, 7, 5, 6, 21, 10, 6, 6, 16, 7, 2, 5, 5, 20, 3, 2, 1, 4, 24, 3, 4, 5, 7, 15, 17, 6, 9, 10, 6, 10, 3, 5, 4, 19, 7, 4, 5, 2, 2, 26, 7, 3, 4, 11, 2, 3, 3, 6, 5, 11, 1, 18, 2, 31, 1, 11, 7, 8, 16, 4, 15, 14, 3, 23, 17, 17, 1, 2, 4, 7, 19, 8, 8, 3, 6, 26, 8, 16, 23, 13, 12, 3, 16, 5, 14, 20, 2, 6, 3, 2, 3, 16, 4, 11, 22, 13, 9, 4, 19, 7, 1, 11, 26, 2, 12, 1, 3, 3, 3, 11, 1, 4, 6, 5, 2, 7, 9, 6, 5, 8, 8, 16, 17, 5, 7, 1, 5, 5, 21, 9, 1, 3, 3, 1, 5, 2, 4, 10, 21, 3, 5, 3, 16, 6, 7, 6, 13, 2, 3, 20, 21, 26, 7, 5, 6, 11, 2, 4, 2, 12, 2, 10, 1, 10, 4, 3, 4, 1, 11, 1, 8, 11, 5, 1, 2, 5, 5, 4, 2, 3, 3, 5, 2, 3, 11, 35, 11, 5, 12, 4, 10, 5, 2, 27, 11, 7, 4, 6, 3, 2, 16, 2, 8, 4, 13, 4, 16, 25, 4, 13, 16, 6, 1, 2, 1, 2, 2, 15, 1, 1, 1, 1, 2, 1, 1, 1, 1, 1, 1, 2, 9, 1, 2, 1, 21, 2, 1, 1, 1, 9, 1, 2, 1, 1, 1, 1, 3, 1, 1, 1, 1, 1, 3, 2, 1, 10, 5, 5, 2, 2, 25, 25, 4, 4, 3, 1, 17, 1, 2, 14, 1, 3, 2, 38, 10, 1, 1, 1, 1, 1, 1, 6, 1, 1, 3, 4, 1, 7, 5, 1, 6, 5, 1, 3, 1, 2, 1, 1, 1, 1, 2, 1, 3, 1, 2, 1, 2, 2, 1, 5, 2, 12, 2, 1, 11, 2, 1, 1, 8, 8, 1, 26, 1, 2, 4, 1, 6, 1, 4, 3, 1, 1, 1, 2, 1, 9, 1, 1, 3, 1, 9, 1, 1, 1, 1, 1, 1, 1, 1, 1, 3, 33, 5, 8, 2, 2, 2, 7, 1, 5, 1, 5, 5, 16, 1, 3, 6, 2, 1, 1, 1, 2, 4, 2, 18, 11, 3, 1, 1, 1, 3, 3, 4, 3, 1, 3, 5, 3, 8, 3, 3, 11, 15, 6, 3, 2, 1, 1, 16, 3, 1, 42, 1, 1, 38, 2, 1, 1, 1, 2, 1, 1, 1, 4, 2, 3, 2, 5, 1, 2, 3, 4, 4, 5, 6, 1, 1, 3, 13, 1, 1, 3, 2, 1, 5, 1, 1, 4, 11, 4, 4, 1, 6, 4, 7, 1, 1, 1, 2, 1, 22, 5, 5, 2, 2, 7, 4, 4, 1, 11, 9, 1, 1, 1, 2, 2, 26, 9, 1, 5, 33, 1, 2, 1, 5, 1, 2, 22, 1, 1, 11, 3, 2, 7, 1, 5, 1, 2, 2, 4, 7, 2, 2, 3, 2, 2, 1, 20, 1, 3, 2, 1, 2, 14, 22, 2, 2, 3, 42, 2, 5, 9, 3, 2, 6, 3, 2, 1, 2, 5, 31, 1, 4, 12, 2, 1, 30, 3, 15, 16, 11, 1, 3, 1, 2, 21, 2, 1, 8, 1, 1, 2, 1, 1, 4, 1, 1, 1, 1, 5, 17, 2, 2, 1, 1, 18, 1, 5, 21, 1, 3, 27, 2, 6, 1, 1, 35, 1, 6, 7, 7, 2, 5, 2, 1, 1, 8, 7, 2, 2, 1, 6, 4, 1, 4, 14, 2, 1, 3, 1, 1, 21, 11, 4, 1, 1, 1, 2, 8, 2, 16, 2, 9, 3, 1, 1, 2, 1, 1, 1, 1, 2, 1, 2, 33, 2, 2, 1, 2, 1, 1, 3, 25, 1, 2, 1, 1, 10, 2, 29, 11, 1, 5, 2, 2, 2, 2, 4, 3, 1, 22, 35, 3, 16, 1, 7, 9, 1, 1, 1, 1, 4, 3, 1, 1, 10, 4, 1, 2, 1, 3, 1, 1, 32, 2, 4, 3, 1, 11, 4, 13, 2, 1, 1, 1, 9, 1, 2, 12, 1, 1, 1, 3, 15, 2, 1, 10, 1, 1, 2, 4, 2, 1, 1, 4, 1, 13, 1, 2, 1, 7, 2, 1, 6, 10, 1, 14, 27, 1, 2, 18, 2, 4, 8, 3, 13, 7, 6, 2, 3, 8, 19, 1, 3, 1, 2, 10, 4, 1, 5, 2, 2, 2, 10, 4, 6, 2, 9, 3, 2, 7, 17, 6, 2, 4, 7, 1, 1, 4, 7, 1, 2, 3, 2, 1, 3, 6, 3, 2, 1, 1, 5, 3, 8, 3, 1, 15, 3, 3, 11, 2, 6, 3, 1, 24, 1, 3, 2, 15, 2, 1, 5, 17, 4, 1, 2, 1, 2, 1, 2, 1, 12, 7, 6, 1, 8, 1, 4, 1, 1, 4, 2, 1, 3, 2, 7, 2, 1, 1, 34, 3, 22, 3, 38, 34, 3, 21, 5, 21, 4, 5, 1, 7, 4, 2, 34, 4, 32, 17, 23, 13, 8, 7, 1, 1, 27, 1, 14, 10, 5, 2, 5, 16, 1, 3, 1, 4, 4, 8, 1, 2, 2, 15, 1, 1, 3, 4, 2, 6, 2, 1, 1, 1, 8, 3, 10, 4, 1, 1, 2, 1, 1, 1, 2, 6, 9, 35, 1, 28, 1, 1, 6, 27, 2, 2, 4, 2, 2, 39, 1, 3, 28, 1, 1, 1, 1, 25, 4, 34, 1, 1, 3, 7, 7, 6, 3, 29, 4, 1, 5, 1, 1, 1, 5, 4, 3, 3, 9, 11, 9, 2, 5, 2, 4, 1, 1, 4, 1, 8, 3, 4, 3, 1, 3, 2, 2, 5, 1, 1, 1, 1, 1, 2, 1, 1, 3, 1, 1, 2, 1, 2, 2, 13, 1, 1, 12, 28, 1, 1, 1, 4, 1, 12, 5, 1, 2, 6, 1, 14, 1, 2, 1, 1, 21, 6, 1, 2, 2, 1, 1, 3, 2, 2, 1, 17, 5, 1, 1, 1, 2, 8, 14, 9, 6, 1, 7, 1, 7, 16, 2, 1, 2, 4, 18, 2, 2, 1, 12, 1, 1, 7, 5, 1, 7, 1, 3, 9, 10, 3, 3, 1, 3, 2, 5, 15, 1, 3, 1, 2, 2, 24, 1, 2, 6, 2, 22, 29, 1, 1, 1, 2, 1, 3, 5, 3, 8, 1, 1, 2, 12, 4, 1, 18, 1, 2, 1, 1, 1, 2, 9, 4, 1, 1, 3, 1, 1, 1, 33, 1, 1, 1, 1, 5, 11, 12, 1, 4, 2, 3, 1, 1, 1, 1, 4, 5, 1, 1, 1, 1, 1, 17, 3, 1, 3, 9, 1, 1, 8, 1, 9, 35, 8, 8, 17, 1, 38, 2, 1, 19, 2, 4, 11, 1, 1, 2, 2, 1, 1, 1, 3, 1, 1, 1, 1, 8, 2, 7, 9, 2, 28, 25, 1, 4, 5, 1, 2, 14, 1, 1, 1, 14, 1, 1, 3, 17, 1, 1, 1, 2, 4, 1, 3, 1, 16, 2, 1, 6, 2, 1, 8, 1, 1, 1, 3, 12, 5, 10, 24, 2, 1, 7, 4, 24, 8, 3, 1, 30, 2, 2, 3, 1, 4, 4, 7, 2, 11, 12, 4, 6, 11, 1, 7, 2, 1, 15, 1, 11, 1, 6, 3, 7, 4, 11, 22, 2, 1, 1, 33, 1, 6, 16, 26, 1, 1, 2, 2, 1, 1, 1, 1, 1, 1, 1, 1, 8, 1, 5, 3, 1, 4, 1, 48, 1, 1, 1, 2, 1, 1, 3, 1, 1, 7, 1, 3, 2, 1, 2, 15, 1, 1, 1, 1, 1, 1, 48, 1, 1, 1, 1, 1, 1, 1, 2, 1, 1, 1, 1, 1, 1, 1, 1, 1, 1, 1, 1, 1, 1, 1, 4, 1, 9, 1, 3, 2, 2, 5, 1, 1, 1, 1, 22, 1, 1, 1, 1, 1, 1, 2, 1, 1, 1, 1, 1, 1, 1, 1, 1, 2, 1, 3, 1, 1, 2, 3, 1, 2, 1, 2, 1, 2, 8, 1, 2, 1, 8, 2, 1, 3, 1, 1, 1, 1, 1, 1, 3, 12, 1, 2, 1, 16, 3, 4, 1, 1, 1, 1, 1, 2, 1, 1, 1, 1, 3, 1, 1, 1, 1, 1, 1, 1, 1, 1, 1, 1, 1, 2, 1, 1, 38, 1, 1, 1, 10, 1, 1, 1, 1, 4, 1, 1, 6, 1, 1, 1, 1, 1, 1, 8, 1, 1, 1, 1, 9, 2, 3, 1, 1, 1, 1, 1, 3, 1, 1, 1, 1, 12, 1, 1, 1, 3, 1, 1, 1, 1, 2, 1, 1, 1, 1, 1, 1, 3, 1, 1, 1, 11, 1, 10, 16, 1, 1, 4, 1, 1, 1, 1, 3, 3, 1, 1, 1, 22, 1, 1, 1, 3, 1, 1, 1, 1, 1, 2, 1, 1, 1, 1, 1, 1, 2, 1, 1, 1, 1, 1, 1, 1, 1, 1, 2, 3, 2, 2, 3, 1, 1, 1, 1, 1, 13, 1, 1, 1, 1, 1, 1, 1, 1, 1, 2, 1, 2, 1, 2, 1, 1, 1, 1, 1, 2, 1, 1, 1, 47, 3, 1, 6, 1, 1, 2, 1, 1, 2, 1, 1, 2, 1, 1, 1, 1, 1, 1, 1, 1, 1, 1, 1, 1, 1, 1, 1, 1, 1, 1, 1, 1, 3, 1, 1, 1, 1, 1, 1, 1, 1, 1, 1, 1, 1, 1, 2, 1, 2, 1, 2, 2, 39, 2, 1, 9, 5, 4, 1, 1, 3, 1, 1, 1, 1, 1, 1, 1, 1, 1, 3, 1, 1, 3, 1, 3, 1, 1, 1, 1, 1, 1, 1, 1, 1, 2, 1, 1, 1, 3, 1, 1, 1, 1, 1, 1, 1, 2, 1, 1, 9, 1, 1, 1, 1, 1, 1, 11, 1, 1, 9, 1, 1, 1, 3, 1, 1, 30, 17, 1, 2, 3, 1, 1, 3, 11, 2, 4, 1, 5, 1, 1, 1, 1, 1, 1, 1, 1, 1, 1, 1, 1, 1, 1, 1, 1, 1, 3, 1, 1, 1, 1, 1, 1, 1, 1, 1, 1, 3, 1, 1, 1, 3, 1, 1, 1, 2, 1, 1, 1, 1, 1, 1, 1, 3, 23, 1, 1, 1, 31, 40, 1, 8, 3, 5, 1, 1, 1, 39, 1, 1, 3, 1, 1, 42, 7, 1, 18, 1, 3, 1, 5, 3, 18, 1, 40, 1, 1, 2, 1, 8, 7, 1, 3, 1, 4, 1, 1, 7, 1, 1, 2, 4, 2, 3, 1, 1, 2, 8, 1, 8, 3, 1, 9, 6, 1, 1, 3, 1, 1, 17, 1, 1, 4, 1, 9, 9, 1, 7, 4, 1, 3, 27, 8, 2, 1, 1, 6, 2, 25, 7, 1, 1, 5, 1, 1, 2, 18, 2, 2, 10, 1, 22, 1, 1, 1, 2, 5, 1, 1, 1, 10, 11, 1, 9, 1, 1, 1, 4, 1, 1, 4, 11, 1, 4, 2, 1, 1, 3, 3, 9, 4, 1, 1, 1, 1, 13, 11, 22, 2, 1, 1, 2, 1, 1, 1, 3, 4, 13, 2, 6, 19, 1, 1, 1, 1, 1, 2, 18, 1, 1, 7, 3, 2, 1, 3, 18, 1, 3, 1, 1, 5, 1, 2, 11, 7, 1, 1, 3, 21, 5, 2, 3, 13, 1, 2, 1, 3, 5, 15, 4, 2, 1, 14, 3, 2, 1, 11, 13, 1, 1, 3, 2, 1, 3, 6, 1, 1, 1, 4, 1, 4, 2, 1, 2, 6, 3, 16, 9, 2, 10, 3, 1, 2, 2, 15, 3, 1, 8, 12, 29, 1, 1, 1, 2, 1, 1, 11, 3, 1, 11, 1, 4, 1, 1, 1, 3, 6, 1, 1, 1, 2, 2, 3, 9, 2, 1, 19, 3, 2, 2, 4, 4, 4, 1, 9, 2, 3, 8, 4, 11, 5, 16, 9, 12, 4, 7, 1, 1, 2, 2, 1, 2, 8, 1, 1, 21, 2, 5, 3, 16, 1, 4, 10, 1, 1, 1, 4, 11, 7, 1, 2, 8, 1, 1, 1, 3, 6, 2, 5, 2, 5, 2, 1, 3, 16, 3, 2, 1, 2, 2, 20, 3, 4, 3, 5, 10, 6, 2, 1, 4, 2, 6, 1, 3, 2, 15, 6, 1, 1, 24, 2, 3, 2, 3, 1, 1, 7, 2, 20, 2, 1, 1, 4, 1, 1, 21, 8, 3, 8, 7, 1, 1, 1, 2, 9, 1, 3, 3, 1, 14, 8, 2, 3, 1, 8, 2, 1, 11, 5, 12, 1, 9, 6, 13, 2, 2, 2, 2, 2, 2, 1, 2, 2, 3, 1, 3, 17, 3, 3, 5, 1, 9, 9, 2, 4, 3, 5, 2, 8, 1, 2, 3, 1, 2, 1, 5, 11, 3, 5, 7, 3, 7, 8, 2, 4, 2, 3, 2, 1, 4, 5, 1, 1, 6, 3, 3, 1, 3, 9, 1, 7, 1, 11, 2, 1, 1, 1, 1, 1, 3, 10, 19, 2, 4, 2, 2, 8, 3, 7, 4, 5, 10, 1, 14, 10, 2, 9, 2, 1, 14, 3, 9, 34, 13, 6, 1, 6, 10, 11, 7, 3, 10, 14, 20, 14, 25, 1, 39, 1, 10, 5, 1, 10, 29, 7, 2, 7, 2, 20, 3, 14, 16, 7, 7, 1, 9, 5, 2, 9, 7, 2, 4, 16, 7, 3, 1, 1, 11, 2, 1, 4, 10, 1, 2, 4, 12, 1, 2, 1, 16, 1, 4, 5, 19, 6, 37, 15, 9, 9, 33, 3, 1, 1, 4, 6, 1, 17, 1, 4, 9, 22, 3, 6, 1, 1, 2, 4, 2, 1, 1, 4, 1, 13, 1, 4, 1, 1, 4, 16, 1, 4, 11, 3, 7, 1, 4, 1, 1, 1, 21, 7, 1, 1, 1, 1, 4, 11, 1, 6, 1, 7, 4, 1, 4, 3, 1, 3, 3, 3, 5, 2, 2, 2, 4, 2, 1, 4, 1, 9, 1, 7, 9, 4, 1, 1, 1, 3, 1, 1, 2, 1, 5, 1, 1, 4, 1, 1, 2, 17, 3, 25, 1, 1, 1, 2, 4, 1, 3, 2, 1, 1, 2, 2, 2, 1, 1, 3, 3, 2, 2, 1, 3, 1, 5, 1, 4, 1, 14, 11, 1, 2, 1, 1, 3, 1, 1, 1, 2, 5, 3, 3, 5, 1, 10, 4, 10, 1, 2, 32, 14, 1, 2, 1, 1, 2, 1, 5, 4, 1, 3, 3, 7, 1, 1, 3, 4, 2, 21, 9, 2, 15, 1, 3, 1, 2, 1, 3, 10, 1, 1, 1, 4, 1, 1, 8, 1, 1, 5, 6, 1, 1, 3, 7, 1, 3, 2, 8, 2, 3, 3, 7, 2, 1, 1, 2, 4, 4, 3, 2, 4, 3, 1, 14, 6, 2, 1, 3, 3, 1, 10, 7, 1, 22, 10, 2, 1, 1, 5, 4, 2, 8, 1, 5, 1, 3, 2, 1, 3, 9, 16, 4, 2, 15, 1, 4, 1, 1, 8, 2, 2, 10, 1, 6, 1, 2, 2, 10, 3, 2, 7, 2, 8, 1, 4, 4, 20, 5, 18, 12, 1, 4, 2, 2, 19, 1, 2, 1, 1, 1, 44, 50, 11, 1, 1, 1, 9, 2, 5, 1, 12, 10, 4, 1, 1, 1, 20, 1, 5, 9, 1, 10, 4, 5, 3, 2, 5, 2, 3, 3, 8, 1, 2, 9, 1, 6, 2, 32, 2, 1, 1, 16, 10, 1, 12, 1, 10, 3, 1, 2, 1, 3, 3, 5, 7, 1, 1, 3, 1, 5, 1, 4, 2, 1, 1, 16, 18, 1, 29, 10, 2, 8, 4, 9, 9, 2, 1, 5, 1, 5, 14, 6, 1, 1, 3, 1, 4, 2, 1, 24, 1, 6, 5, 6, 9, 46, 5, 17, 1, 1, 5, 1, 1, 1, 23, 5, 5, 6, 5, 2, 1, 1, 2, 1, 4, 2, 1, 2, 4, 1, 5, 1, 7, 8, 1, 1, 2, 1, 1, 5, 10, 7, 1, 23, 1, 4, 1, 2, 2, 4, 1, 2, 2, 1, 1, 24, 1, 3, 1, 3, 1, 3, 1, 1, 1, 1, 14, 4, 18, 2, 5, 9, 1, 16, 12, 1, 1, 2, 9, 3, 9, 3, 3, 12, 1, 2, 2, 2, 14, 6, 1, 1, 7, 1, 2, 3, 9, 21, 1, 11, 7, 9, 5, 1, 1, 24, 4, 2, 5, 19, 3, 9, 8, 3, 1, 1, 1, 25, 1, 1, 4, 14, 2, 15, 3, 3, 3, 20, 5, 1, 1, 1, 2, 3, 2, 15, 5, 9, 1, 1, 1, 1, 1, 3, 1, 5, 1, 1, 2, 2, 1, 4, 2, 1, 3, 1, 5, 1, 2, 1, 1, 2, 1, 1, 1, 1, 2, 3, 1, 5, 1, 1, 3, 12, 1, 1, 1, 4, 1, 3, 2, 1, 1, 3, 6, 1, 2, 1, 1, 1, 1, 1, 16, 3, 1, 1, 1, 1, 1, 9, 2, 1, 1, 1, 2, 1, 1, 1, 1, 3, 7, 1, 2, 3, 6, 1, 1, 2, 1, 1, 1, 1, 1, 1, 1, 1, 1, 12, 1, 1, 1, 1, 2, 1, 1, 2, 1, 1, 1, 1, 5, 1, 1, 1, 1, 1, 1, 2, 1, 1, 1, 1, 1, 1, 1, 1, 1, 1, 1, 3, 2, 1, 17, 1, 1, 39, 1, 1, 2, 1, 1, 3, 1, 1, 2, 32, 2, 1, 1, 1, 1, 4, 1, 1, 1, 1, 1, 1, 1, 1, 3, 1, 3, 1, 1, 1, 1, 16, 1, 1, 1, 1, 1, 1, 3, 1, 18, 1, 1, 3, 1, 2, 4, 2, 1, 1, 43, 1, 1, 1, 1, 1, 1, 1, 1, 1, 1, 1, 1, 1, 1, 1, 2, 1, 1, 1, 1, 1, 1, 2, 1, 28, 1, 1, 1, 3, 1, 2, 1, 5, 1, 3, 1, 1, 1, 2, 1, 1, 2, 1, 1, 1, 1, 1, 1, 1, 7, 2, 2, 1, 1, 2, 1, 1, 1, 1, 1, 1, 1, 1, 1, 1, 1, 2, 7, 1, 1, 2, 1, 1, 33, 1, 1, 1, 1, 1, 1, 1, 3, 1, 1, 1, 1, 5, 3, 4, 1, 1, 1, 1, 1, 1, 1, 1, 2, 1, 6, 28, 1, 12, 1, 1, 1, 1, 1, 3, 1, 1, 17, 1, 3, 2, 17, 1, 2, 1, 1, 1, 1, 1, 2, 1, 1, 3, 1, 1, 1, 1, 5, 1, 3, 17, 3, 3, 2, 2, 1, 1, 1, 1, 9, 1, 2, 1, 2, 1, 2, 1, 1, 1, 1, 2, 3, 1, 1, 1, 1, 1, 4, 1, 1, 1, 1, 1, 1, 37, 1, 4, 3, 1, 3, 4, 1, 1, 2, 1, 3, 6, 1, 2, 1, 1, 2, 1, 1, 1, 1, 11, 1, 1, 1, 1, 1, 1, 1, 22, 1, 1, 2, 1, 9, 1, 1, 2, 3, 1, 2, 1, 1, 1, 1, 1, 2, 1, 1, 2, 2, 1, 2, 1, 1, 2, 1, 2, 1, 3, 2, 1, 1, 2, 1, 1, 1, 1, 5, 1, 1, 1, 2, 2, 1, 2, 2, 1, 1, 1, 2, 1, 1, 1, 1, 1, 1, 1, 1, 1, 1, 6, 1, 1, 1, 1, 1, 7, 1, 2, 6, 1, 1, 2, 1, 3, 5, 1, 2, 4, 1, 1, 2, 2, 1, 2, 10, 8, 1, 1, 5, 1, 1, 1, 1, 2, 1, 1, 1, 2, 3, 2, 1, 1, 3, 3, 1, 1, 2, 3, 1, 2, 2, 1, 49, 1, 6, 1, 1, 1, 10, 3, 1, 1, 3, 3, 4, 3, 3, 9, 22, 6, 19, 1, 2, 1, 2, 34, 4, 7, 3, 8, 1, 8, 2, 4, 1, 8, 1, 1, 3, 3, 22, 1, 5, 2, 1, 1, 5, 2, 8, 6, 15, 2, 1, 3, 1, 12, 6, 3, 2, 2, 5, 4, 1, 1, 3, 1, 2, 3, 3, 1, 3, 1, 1, 4, 22, 1, 9, 4, 11, 23, 4, 3, 3, 3, 8, 4, 17, 2, 4, 13, 1, 1, 1, 10, 19, 2, 1, 10, 3, 3, 6, 5, 2, 2, 2, 13, 4, 1, 6, 2, 3, 9, 35, 19, 1, 5, 1, 11, 2, 1, 6, 1, 3, 8, 3, 3, 6, 1, 21, 9, 1, 10, 6, 1, 8, 16, 2, 19, 2, 1, 2, 2, 9, 2, 3, 1, 10, 2, 2, 1, 12, 1, 8, 8, 7, 2, 2, 29, 5, 3, 2, 2, 5, 1, 5, 1, 1, 1, 5, 4, 6, 1, 4, 1, 1, 1, 3, 10, 2, 1, 1, 1, 5, 1, 1, 1, 4, 1, 1, 4, 1, 4, 2, 1, 3, 26, 1, 20, 1, 3, 2, 1, 1, 1, 3, 2, 1, 2, 1, 1, 1, 6, 1, 1, 1, 1, 2, 9, 1, 1, 4, 6, 2, 5, 6, 4, 4, 1, 1, 2, 1, 1, 7, 3, 1, 11, 1, 8, 1, 3, 6, 10, 5, 1, 4, 3, 4, 13, 5, 1, 1, 15, 2, 2, 8, 6, 2, 1, 3, 6, 2, 3, 1, 2, 21, 23, 1, 10, 3, 7, 6, 2, 8, 8, 11, 4, 4, 1, 5, 13, 7, 3, 5, 2, 1, 3, 6, 6, 21, 1, 4, 24, 2, 1, 9, 3, 10, 7, 7, 8, 4, 4, 3, 6, 2, 3, 4, 2, 2, 4, 3, 2, 10, 17, 21, 2, 4, 5, 4, 16, 5, 8, 7, 18, 2, 3, 18, 5, 7, 8, 10, 6, 5, 5, 11, 1, 6, 9, 9, 6, 2, 4, 26, 2, 1, 8, 1, 44, 7, 1, 8, 6, 4, 2, 13, 25, 17, 2, 3, 9, 5, 7, 1, 18, 4, 1, 18, 2, 1, 6, 8, 4, 1, 3, 1, 2, 13, 4, 15, 1, 4, 1, 1, 2, 9, 7, 2, 4, 20, 1, 3, 2, 3, 1, 5, 6, 24, 2, 2, 2, 3, 1, 1, 7, 2, 6, 2, 2, 2, 1, 1, 2, 4, 17, 9, 1, 1, 4, 23, 3, 2, 4, 3, 17, 3, 7, 5, 8, 5, 10, 3, 4, 5, 4, 12, 2, 10, 3, 3, 2, 1, 4, 2, 17, 1, 14, 2, 4, 4, 2, 25, 5, 1, 1, 2, 3, 2, 9, 2, 9, 3, 4, 4, 13, 1, 5, 18, 4, 2, 1, 2, 2, 3, 9, 2, 3, 6, 2, 1, 4, 4, 4, 6, 5, 5, 5, 1, 42, 10, 2, 1, 1, 3, 1, 1, 3, 5, 2, 14, 6, 5, 3, 13, 16, 5, 4, 10, 4, 5, 3, 1, 4, 5, 1, 1, 1, 1, 11, 25, 27, 3, 17, 22, 8, 3, 5, 3, 2, 4, 3, 5, 4, 3, 3, 3, 6, 1, 5, 2, 7, 1, 23, 1, 2, 1, 1, 13, 39, 1, 1, 8, 1, 1, 2, 4, 5, 1, 16, 7, 4, 2, 6, 5, 1, 3, 8, 3, 1, 3, 9, 10, 4, 3, 6, 2, 1, 3, 2, 12, 2, 1, 1, 2, 2, 14, 10, 2, 7, 1, 5, 6, 10, 1, 3, 1, 2, 2, 4, 3, 7, 2, 25, 1, 4, 6, 4, 11, 3, 13, 16, 4, 4, 11, 1, 13, 1, 1, 1, 2, 1, 10, 22, 4, 14, 3, 1, 5, 1, 1, 8, 1, 1, 1, 31, 26, 1, 3, 3, 2, 1, 3, 1, 4, 2, 11, 1, 2, 22, 3, 7, 10, 2, 7, 1, 14, 3, 3, 3, 12, 1, 7, 7, 16, 11, 2, 11, 7, 1, 11, 5, 7, 2, 1, 21, 2, 6, 30, 3, 7, 15, 2, 4, 2, 2, 10, 1, 3, 24, 7, 1, 1, 6, 4, 3, 12, 28, 8, 5, 9, 18, 1, 2, 14, 5, 1, 5, 7, 1, 3, 4, 1, 4, 17, 15, 8, 8, 6, 8, 8, 4, 1, 3, 15, 5, 1, 3, 6, 15, 1, 3, 2, 3, 12, 2, 1, 25, 4, 8, 4, 9, 3, 24, 1, 4, 4, 5, 1, 7, 2, 4, 9, 2, 5, 25, 11, 5, 4, 2, 2, 4, 5, 4, 2, 5, 5, 4, 16, 3, 10, 7, 1, 2, 16, 3, 9, 6, 2, 1, 2, 4, 27, 17, 10, 12, 3, 1, 1, 6, 2, 2, 1, 5, 1, 2, 10, 3, 1, 10, 11, 1, 7, 7, 13, 1, 7, 9, 14, 16, 1, 7, 8, 5, 4, 13, 7, 14, 19, 3, 4, 5, 2, 3, 11, 22, 4, 4, 8, 18, 2, 3, 7, 3, 6, 4, 19, 4, 14, 7, 5, 2, 4, 5, 12, 7, 5, 7, 20, 7, 19, 3, 32, 2, 8, 8, 4, 10, 3, 2, 9, 16, 3, 13, 4, 1, 28, 5, 12, 1, 6, 1, 1, 12, 9, 35, 16, 7, 1, 10, 1, 1, 6, 5, 3, 8, 9, 2, 3, 4, 8, 6, 2, 13, 2, 1, 7, 1, 2, 8, 2, 22, 10, 3, 2, 7, 13, 1, 1, 2, 10, 3, 6, 1, 1, 2, 41, 7, 2, 1, 1, 3, 2, 11, 6, 4, 6, 1, 4, 6, 2, 1, 6, 7, 25, 10, 2, 3, 1, 32, 6, 7, 6, 6, 5, 21, 1, 8, 1, 1, 1, 2, 1, 4, 2, 4, 6, 3, 3, 1, 12, 3, 2, 8, 3, 6, 3, 4, 3, 19, 5, 29, 1, 1, 3, 7, 10, 3, 19, 13, 1, 1, 3, 7, 22, 3, 2, 2, 11, 4, 1, 1, 11, 2, 4, 8, 5, 6, 7, 5, 3, 10, 20, 7, 3, 3, 26, 1, 24, 3, 12, 15, 9, 6, 1, 1, 16, 1, 13, 2, 1, 12, 7, 15, 25, 2, 20, 9, 1, 34, 2, 1, 14, 4, 2, 4, 1, 2, 2, 2, 14, 1, 2, 3, 1, 1, 5, 1, 1, 2, 4, 5, 6, 1, 6, 1, 21, 2, 7, 4, 24, 11, 29, 1, 5, 3, 4, 4, 23, 1, 6, 7, 4, 1, 2, 1, 2, 3, 2, 1, 1, 13, 1, 13, 1, 5, 2, 1, 1, 6, 1, 1, 1, 1, 2, 1, 1, 5, 2, 8, 6, 1, 1, 1, 2, 1, 7, 28, 9, 2, 2, 1, 27, 3, 1, 2, 1, 2, 1, 17, 2, 3, 1, 14, 7, 3, 5, 1, 2, 1, 4, 1, 27, 1, 5, 2, 1, 2, 1, 3, 1, 1, 10, 1, 2, 3, 8, 2, 8, 1, 1, 1, 1, 2, 3, 1, 4, 1, 1, 2, 1, 3, 3, 2, 1, 1, 4, 1, 1, 19, 1, 2, 1, 1, 1, 1, 1, 1, 2, 1, 2, 1, 5, 13, 1, 1, 1, 1, 1, 33, 5, 1, 43, 2, 3, 23, 16, 1, 8, 3, 1, 1, 1, 1, 1, 2, 1, 9, 1, 1, 4, 1, 1, 1, 2, 1, 2, 2, 2, 1, 1, 1, 1, 1, 1, 2, 1, 3, 2, 1, 8, 1, 2, 11, 1, 1, 2, 1, 1, 28, 1, 1, 1, 1, 2, 1, 1, 3, 4, 3, 4, 1, 1, 4, 5, 1, 5, 2, 2, 1, 6, 9, 1, 6, 1, 5, 3, 31, 2, 1, 5, 1, 3, 1, 1, 1, 1, 1, 1, 1, 2, 1, 4, 1, 1, 1, 16, 1, 1, 1, 2, 2, 1, 37, 4, 1, 8, 1, 13, 2, 1, 1, 1, 1, 1, 1, 1, 1, 1, 15, 13, 25, 2, 9, 1, 1, 1, 2, 1, 1, 1, 1, 27, 20, 1, 3, 9, 2, 1, 2, 1, 3, 2, 1, 1, 2, 1, 1, 1, 1, 1, 1, 1, 6, 1, 1, 1, 13, 2, 1, 1, 1, 1, 2, 1, 4, 1, 2, 1, 1, 1, 1, 1, 3, 3, 1, 1, 2, 6, 1, 2, 4, 2, 1, 1, 6, 1, 1, 1, 1, 1, 2, 1, 3, 1, 1, 2, 10, 1, 1, 7, 1, 2, 14, 12, 2, 1, 1, 5, 1, 7, 1, 10, 1, 1, 1, 1, 2, 1, 2, 2, 1, 12, 1, 10, 1, 1, 4, 1, 23, 1, 1, 1, 9, 4, 1, 3, 1, 3, 1, 3, 9, 6, 2, 2, 3, 2, 1, 1, 1, 7, 6, 1, 3, 4, 10, 1, 3, 3, 1, 1, 2, 9, 4, 7, 1, 4, 4, 1, 1, 8, 18, 1, 5, 1, 1, 1, 1, 3, 2, 27, 1, 8, 2, 11, 16, 16, 1, 1, 1, 7, 1, 1, 1, 14, 1, 14, 1, 4, 24, 2, 1, 1, 33, 1, 1, 1, 1, 1, 1, 1, 2, 5, 1, 1, 1, 1, 1, 1, 2, 7, 1, 2, 16, 19, 10, 9, 26, 1, 2, 3, 9, 7, 22, 4, 17, 1, 2, 8, 7, 9, 16, 7, 15, 3, 4, 12, 16, 14, 9, 3, 16, 5, 26, 8, 5, 4, 1, 18, 2, 3, 28, 19, 13, 1, 13, 11, 12, 14, 3, 1, 13, 11, 4, 11, 9, 12, 11, 2, 26, 14, 8, 5, 12, 10, 4, 14, 12, 4, 5, 3, 11, 2, 9, 16, 7, 8, 6, 6, 1, 11, 8, 1, 7, 13, 4, 13, 4, 1, 1, 3, 6, 17, 10, 16, 11, 17, 16, 12, 3, 5, 8, 8, 14, 15, 15, 3, 7, 4, 4, 6, 4, 8, 20, 4, 2, 4, 5, 2, 2, 8, 4, 15, 8, 2, 10, 6, 2, 20, 7, 18, 15, 12, 7, 7, 7, 1, 1, 4, 12, 7, 3, 20, 4, 12, 10, 14, 1, 5, 15, 9, 7, 12, 1, 3, 8, 1, 9, 3, 7, 19, 5, 3, 13, 10, 2, 8, 3, 9, 10, 28, 8, 6, 8, 2, 4, 2, 8, 21, 1, 25, 1, 3, 4, 8, 3, 6, 12, 1, 6, 1, 1, 1, 1, 12, 1, 22, 3, 2, 4, 1, 2, 4, 7, 3, 2, 5, 6, 6, 22, 1, 8, 1, 20, 10, 2, 7, 2, 2, 7, 8, 3, 5, 4, 2, 1, 1, 3, 2, 1, 1, 1, 7, 25, 21, 1, 2, 1, 5, 1, 6, 3, 24, 21, 4, 6, 1, 8, 18, 1, 16, 1, 1, 1, 4, 3, 4, 1, 4, 1, 1, 1, 6, 8, 1, 10, 4, 5, 1, 3, 8, 6, 4, 1, 10, 7, 6, 18, 24, 18, 3, 1, 11, 1, 13, 16, 13, 4, 3, 2, 1, 28, 1, 7, 1, 11, 12, 19, 3, 6, 11, 18, 2, 8, 5, 13, 4, 1, 5, 2, 4, 2, 3, 3, 10, 18, 12, 1, 1, 10, 1, 16, 8, 15, 15, 3, 1, 9, 5, 15, 9, 4, 8, 29, 10, 3, 14, 5, 5, 2, 14, 5, 20, 16, 31, 1, 13, 12, 7, 5, 3, 4, 4, 3, 12, 3, 10, 2, 13, 10, 1, 20, 4, 15, 4, 1, 11, 16, 4, 8, 2, 9, 1, 4, 3, 5, 8, 3, 12, 4, 8, 17, 2, 8, 5, 13, 4, 3, 31, 1, 3, 4, 6, 2, 17, 23, 7, 9, 8, 1, 10, 4, 10, 7, 17, 9, 9, 5, 3, 17, 4, 1, 5, 15, 5, 9, 14, 24, 19, 8, 7, 5, 1, 1, 2, 6, 20, 10, 18, 12, 2, 13, 3, 10, 7, 7, 5, 12, 6, 6, 10, 2, 8, 10, 5, 20, 5, 9, 23, 5, 18, 2, 20, 7, 17, 16, 27, 1, 16, 16, 7, 13, 3, 2, 2, 1, 4, 6, 26, 10, 8, 1, 20, 18, 2, 4, 14, 3, 7, 13, 4, 20, 16, 2, 5, 3, 1, 9, 9, 1, 9, 16, 8, 4, 28, 3, 9, 17, 7, 3, 5, 11, 18, 1, 12, 2, 1, 1, 3, 1, 2, 1, 1, 9, 1, 1, 7, 3, 7, 1, 1, 8, 1, 2, 1, 1, 8, 1, 2, 1, 2, 3, 2, 1, 1, 1, 2, 17, 4, 2, 2, 1, 2, 1, 4, 1, 4, 1, 3, 1, 2, 1, 2, 21, 5, 1, 1, 8, 2, 18, 1, 1, 3, 1, 1, 1, 1, 3, 5, 1, 1, 1, 1, 1, 1, 3, 1, 1, 4, 1, 1, 2, 1, 1, 2, 1, 5, 2, 3, 33, 1, 1, 1, 6, 3, 2, 14, 1, 4, 1, 1, 1, 1, 4, 7, 1, 7, 6, 1, 1, 1, 1, 3, 29, 2, 1, 1, 1, 1, 1, 14, 1, 1, 1, 11, 1, 2, 1, 1, 1, 1, 1, 4, 1, 1, 9, 2, 1, 1, 1, 21, 15, 1, 4, 1, 1, 4, 2, 13, 1, 1, 1, 5, 1, 4, 21, 10, 1, 34, 1, 1, 1, 1, 1, 8, 21, 1, 1, 1, 1, 1, 2, 1, 1, 1, 7, 1, 12, 1, 13, 1, 2, 1, 1, 1, 3, 6, 1, 2, 8, 16, 6, 2, 5, 1, 11, 2, 2, 2, 1, 1, 1, 1, 2, 1, 9, 2, 5, 2, 10, 16, 1, 2, 1, 1, 1, 1, 1, 1, 7, 1, 2, 18, 1, 1, 1, 1, 1, 1, 1, 1, 1, 6, 23, 1, 1, 1, 2, 1, 45, 1, 1, 7, 1, 2, 1, 15, 13, 1, 1, 8, 4, 1, 1, 1, 1, 14, 1, 3, 1, 1, 3, 1, 1, 1, 1, 1, 1, 1, 6, 1, 4, 1, 6, 1, 1, 1, 1, 5, 11, 1, 1, 1, 2, 2, 1, 1, 1, 3, 1, 4, 2, 2, 2, 1, 1, 9, 5, 14, 1, 8, 14, 5, 12, 13, 3, 14, 3, 5, 2, 1, 13, 3, 20, 2, 1, 2, 1, 6, 3, 4, 1, 1, 2, 2, 3, 12, 2, 2, 9, 6, 5, 1, 1, 6, 1, 1, 3, 4, 1, 1, 33, 11, 14, 3, 3, 2, 1, 2, 19, 1, 7, 43, 13, 14, 7, 5, 10, 2, 1, 2, 1, 2, 3, 6, 42, 1, 1, 1, 1, 9, 13, 1, 10, 6, 4, 10, 1, 14, 24, 2, 2, 12, 4, 7, 1, 2, 9, 3, 2, 2, 5, 11, 10, 1, 3, 4, 1, 1, 29, 2, 8, 2, 9, 1, 2, 26, 7, 6, 1, 2, 4, 5, 4, 23, 1, 24, 1, 2, 1, 1, 1, 1, 1, 1, 1, 3, 2, 1, 6, 2, 1, 1, 1, 1, 3, 34, 3, 1, 1, 6, 1, 4, 13, 1, 1, 15, 14, 18, 9, 13, 3, 6, 1, 1, 1, 1, 1, 1, 1, 1, 1, 1, 2, 8, 8, 1, 32, 1, 16, 2, 4, 11, 2, 1, 11, 1, 1, 1, 1, 2, 1, 6, 1, 2, 1, 1, 1, 1, 7, 23, 1, 11, 1, 7, 5, 4, 11, 45, 14, 1, 14, 16, 6, 2, 1, 1, 17, 1, 1, 1, 4, 1, 1, 3, 7, 1, 2, 3, 1, 23, 1, 14, 1, 1, 2, 10, 4, 1, 1, 1, 2, 1, 1, 1, 14, 1, 10, 1, 5, 5, 1, 1, 1, 31, 2, 1, 2, 36, 9, 2, 1, 1, 1, 1, 1, 1, 2, 1, 3, 1, 1, 1, 2, 1, 1, 1, 1, 23, 2, 1, 2, 1, 4, 38, 5, 2, 1, 1, 1, 1, 4, 1, 18, 2, 7, 1, 1, 1, 3, 11, 1, 10, 15, 2, 1, 1, 6, 7, 17, 2, 1, 9, 3, 4, 2, 42, 1, 1, 9, 1, 1, 4, 5, 1, 8, 5, 1, 1, 3, 1, 11, 3, 1, 2, 4, 2, 1, 1, 1, 1, 7, 2, 2, 1, 1, 28, 1, 11, 2, 13, 6, 2, 1, 2, 3, 1, 1, 9, 6, 1, 2, 2, 1, 7, 2, 2, 1, 1, 1, 31, 3, 3, 1, 2, 6, 1, 1, 1, 5, 3, 1, 1, 2, 5, 8, 1, 1, 26, 2, 6, 8, 3, 8, 8, 4, 1, 1, 1, 1, 2, 11, 34, 1, 1, 2, 1, 1, 1, 1, 1, 14, 20, 1, 18, 7, 3, 1, 1, 2, 6, 7, 9, 10, 17, 16, 1, 2, 3, 2, 1, 1, 2, 6, 1, 8, 1, 40, 1, 6, 5, 5, 25, 3, 1, 12, 1, 2, 1, 8, 4, 2, 1, 2, 25, 2, 1, 1, 1, 7, 14, 2, 2, 3, 8, 3, 3, 4, 1, 1, 17, 40, 1, 9, 2, 1, 1, 1, 8, 1, 2, 1, 8, 32, 1, 1, 2, 31, 1, 1, 12, 1, 1, 1, 5, 4, 2, 2, 2, 1, 24, 13, 6, 17, 1, 4, 11, 39, 5, 21, 24, 10, 28, 2, 2, 2, 2, 2, 2, 2, 15, 10, 2, 2, 1, 2, 1, 1, 32, 8, 2, 41, 1, 8, 2, 22, 2, 1, 1, 3, 4, 2, 19, 6, 2, 2, 2, 3, 2, 3, 12, 3, 1, 4, 6, 3, 1, 1, 2, 1, 3, 1, 2, 7, 2, 2, 4, 17, 2, 40, 4, 1, 3, 2, 2, 3, 20, 4, 1, 22, 1, 2, 1, 2, 1, 2, 3, 1, 4, 16, 2, 2, 2, 2, 2, 11, 11, 2, 1, 2, 1, 1, 2, 19, 45, 1, 3, 2, 1, 1, 7, 1, 1, 4, 2, 2, 1, 1, 2, 10, 7, 1, 1, 2, 2, 1, 4, 2, 1, 2, 2, 3, 1, 2, 1, 12, 2, 1, 1, 1, 1, 2, 11, 5, 1, 3, 1, 6, 2, 1, 1, 32, 1, 1, 1, 5, 4, 7, 1, 1, 1, 1, 1, 1, 6, 6, 7, 24, 1, 1, 1, 24, 1, 2, 32, 6, 7, 4, 1, 18, 1, 2, 1, 31, 11, 3, 2, 1, 1, 2, 2, 2, 3, 1, 1, 1, 13, 1, 1, 2, 2, 9, 1, 2, 1, 1, 4, 9, 2, 12, 8, 19, 31, 3, 2, 12, 6, 6, 1, 3, 2, 6, 4, 3, 8, 2, 1, 2, 3, 16, 4, 25, 10, 7, 8, 5, 6, 1, 2, 9, 4, 2, 3, 1, 2, 3, 3, 8, 9, 16, 6, 4, 6, 3, 6, 1, 4, 3, 4, 8, 1, 11, 3, 4, 4, 2, 3, 3, 11, 2, 2, 5, 5, 26, 6, 6, 14, 7, 1, 9, 10, 1, 10, 1, 4, 15, 1, 11, 1, 2, 5, 15, 1, 1, 3, 3, 1, 3, 2, 3, 3, 1, 3, 9, 3, 6, 5, 13, 5, 1, 1, 1, 7, 2, 2, 3, 2, 1, 24, 4, 6, 13, 1, 18, 14, 6, 2, 5, 4, 2, 4, 6, 4, 2, 2, 16, 5, 3, 4, 1, 2, 1, 2, 2, 6, 4, 3, 4, 3, 13, 6, 6, 4, 8, 4, 4, 2, 17, 3, 2, 1, 21, 1, 2, 5, 5, 27, 1, 6, 25, 3, 15, 6, 2, 2, 2, 15, 4, 5, 5, 22, 10, 8, 2, 5, 8, 4, 1, 7, 12, 2, 2, 3, 7, 9, 8, 2, 2, 5, 2, 2, 2, 5, 31, 9, 7, 3, 7, 4, 9, 11, 1, 2, 3, 11, 5, 6, 5, 4, 3, 7, 6, 1, 3, 6, 2, 1, 2, 4, 5, 3, 3, 1, 6, 11, 8, 7, 5, 6, 2, 1, 2, 2, 5, 4, 2, 2, 7, 11, 6, 6, 2, 12, 4, 2, 4, 1, 7, 3, 4, 1, 9, 9, 16, 16, 4, 6, 8, 2, 4, 6, 1, 12, 3, 6, 2, 5, 3, 1, 4, 5, 7, 4, 1, 5, 2, 13, 7, 16, 9, 2, 1, 3, 3, 12, 2, 2, 2, 1, 3, 9, 2, 3, 2, 4, 6, 2, 2, 1, 6, 4, 13, 1, 3, 4, 2, 1, 6, 2, 5, 37, 5, 8, 3, 1, 3, 13, 5, 7, 8, 1, 13, 6, 2, 2, 3, 3, 2, 1, 3, 1, 3, 4, 3, 12, 2, 4, 7, 3, 6, 4, 1, 10, 2, 1, 4, 3, 2, 3, 1, 2, 8, 2, 7, 5, 2, 4, 3, 2, 1, 2, 9, 16, 3, 2, 4, 22, 3, 5, 2, 10, 4, 1, 7, 6, 13, 1, 1, 28, 5, 10, 1, 5, 8, 4, 22, 2, 10, 5, 13, 3, 24, 4, 4, 2, 2, 5, 1, 1, 2, 8, 13, 2, 13, 6, 10, 1, 6, 6, 4, 4, 7, 6, 5, 7, 2, 9, 7, 12, 5, 4, 6, 4, 1, 1, 6, 5, 3, 1, 5, 14, 5, 5, 6, 1, 6, 17, 26, 2, 6, 2, 3, 6, 4, 12, 4, 3, 4, 6, 5, 3, 3, 3, 5, 21, 2, 3, 38, 7, 14, 2, 4, 7, 3, 3, 4, 6, 4, 8, 11, 6, 2, 2, 2, 2, 24, 5, 13, 2, 6, 27, 2, 3, 5, 4, 3, 8, 1, 3, 3, 10, 7, 9, 13, 7, 7, 3, 12, 4, 13, 12, 3, 1, 4, 1, 5, 2, 7, 3, 2, 1, 1, 1, 8, 1, 6, 1, 2, 6, 2, 44, 1, 1, 2, 12, 6, 1, 1, 1, 22, 1, 3, 2, 11, 3, 14, 6, 3, 7, 2, 2, 5, 28, 6, 2, 2, 4, 1, 2, 5, 11, 3, 1, 1, 5, 1, 1, 7, 1, 1, 1, 3, 1, 1, 2, 7, 1, 1, 1, 1, 1, 1, 2, 1, 7, 1, 1, 3, 1, 1, 2, 1, 3, 1, 1, 40, 2, 1, 1, 1, 24, 3, 1, 1, 1, 1, 1, 1, 12, 1, 1, 5, 1, 15, 4, 1, 1, 1, 1, 2, 1, 8, 1, 1, 1, 2, 1, 1, 3, 1, 1, 1, 3, 3, 1, 2, 1, 1, 1, 4, 1, 1, 1, 2, 1, 2, 2, 5, 1, 6, 1, 1, 3, 1, 1, 1, 2, 4, 3, 1, 1, 1, 1, 1, 1, 5, 1, 5, 8, 5, 1, 3, 1, 1, 19, 1, 3, 1, 1, 1, 1, 1, 1, 2, 3, 2, 1, 1, 1, 7, 1, 1, 1, 1, 1, 1, 12, 1, 1, 1, 2, 1, 1, 1, 2, 4, 2, 1, 4, 1, 1, 1, 1, 2, 1, 1, 1, 1, 10, 1, 7, 1, 2, 1, 1, 2, 2, 2, 1, 2, 1, 15, 1, 1, 1, 1, 1, 1, 1, 1, 1, 1, 2, 1, 2, 1, 1, 1, 1, 1, 6, 1, 2, 2, 8, 11, 1, 1, 1, 1, 1, 2, 11, 3, 4, 1, 2, 1, 7, 1, 8, 4, 1, 1, 1, 1, 2, 1, 3, 1, 1, 3, 4, 2, 6, 1, 1, 4, 1, 1, 32, 1, 1, 1, 1, 1, 11, 1, 3, 2, 8, 1, 18, 1, 16, 1, 1, 1, 1, 1, 1, 1, 1, 4, 3, 7, 1, 5, 2, 1, 4, 2, 6, 1, 3, 1, 12, 1, 9, 1, 3, 1, 1, 11, 2, 1, 1, 1, 1, 1, 1, 30, 8, 7, 1, 3, 1, 1, 7, 10, 2, 2, 5, 1, 1, 1, 1, 1, 4, 29, 1, 2, 2, 1, 9, 1, 1, 29, 1, 1, 4, 2, 2, 1, 3, 13, 1, 12, 1, 1, 14, 15, 1, 4, 3, 1, 5, 1, 4, 13, 1, 2, 1, 1, 8, 1, 1, 29, 1, 1, 1, 6, 7, 4, 2, 15, 6, 1, 3, 1, 1, 1, 1, 1, 1, 6, 3, 5, 1, 3, 9, 2, 3, 3, 9, 2, 13, 7, 8, 5, 3, 1, 14, 6, 3, 1, 1, 1, 2, 2, 8, 3, 2, 4, 20, 3, 1, 1, 4, 2, 9, 3, 2, 5, 1, 1, 1, 2, 1, 1, 1, 1, 1, 7, 1, 13, 13, 3, 1, 3, 1, 1, 1, 2, 1, 1, 1, 6, 1, 12, 2, 8, 2, 3, 1, 9, 1, 1, 4, 3, 5, 2, 1, 1, 1, 5, 2, 1, 4, 15, 1, 1, 3, 7, 2, 1, 2, 4, 11, 5, 7, 3, 17, 6, 3, 1, 8, 1, 3, 3, 3, 3, 17, 4, 1, 1, 6, 16, 1, 2, 1, 1, 1, 1, 2, 5, 17, 5, 27, 1, 1, 8, 1, 10, 2, 14, 2, 5, 1, 4, 2, 4, 3, 1, 3, 30, 1, 30, 7, 14, 1, 2, 2, 1, 4, 1, 20, 1, 3, 8, 4, 3, 3, 1, 1, 9, 6, 1, 7, 4, 2, 1, 11, 2, 2, 1, 27, 1, 2, 33, 8, 1, 4, 4, 1, 6, 2, 4, 4, 1, 19, 1, 3, 1, 3, 1, 1, 1, 1, 1, 4, 1, 2, 11, 8, 14, 1, 3, 2, 1, 1, 4, 2, 3, 8, 8, 2, 1, 18, 3, 24, 5, 1, 1, 2, 2, 2, 14, 1, 1, 13, 3, 10, 1, 1, 10, 4, 15, 2, 1, 1, 8, 3, 26, 1, 15, 18, 3, 3, 4, 1, 2, 2, 7, 2, 7, 5, 1, 22, 3, 23, 3, 1, 4, 4, 2, 16, 1, 2, 2, 10, 16, 2, 3, 1, 2, 5, 1, 20, 5, 10, 10, 1, 1, 1, 1, 16, 1, 13, 2, 1, 2, 5, 3, 4, 1, 9, 11, 2, 1, 16, 28, 3, 1, 4, 5, 2, 1, 1, 2, 2, 1, 3, 4, 1, 3, 14, 1, 1, 3, 1, 3, 1, 2, 5, 1, 2, 2, 5, 1, 1, 2, 1, 3, 1, 20, 2, 1, 2, 1, 4, 4, 2, 5, 2, 2, 4, 3, 2, 1, 1, 6, 3, 5, 1, 7, 2, 4, 40, 1, 1, 4, 8, 1, 6, 2, 13, 11, 1, 3, 4, 1, 4, 2, 1, 14, 1, 1, 6, 2, 3, 3, 2, 1, 3, 10, 1, 17, 9, 7, 4, 7, 8, 13, 26, 8, 1, 1, 2, 12, 12, 13, 1, 4, 1, 5, 1, 1, 2, 1, 3, 5, 3, 14, 10, 4, 2, 2, 1, 2, 1, 28, 1, 1, 13, 9, 1, 3, 1, 2, 16, 3, 3, 4, 2, 5, 8, 16, 1, 1, 2, 2, 11, 19, 1, 5, 3, 16, 3, 1, 21, 5, 12, 1, 2, 1, 9, 1, 17, 4, 4, 1, 2, 5, 2, 2, 2, 5, 5, 4, 3, 13, 23, 2, 4, 4, 3, 13, 2, 4, 6, 25, 2, 1, 1, 1, 7, 1, 15, 4, 33, 1, 39, 3, 1, 1, 1, 3, 1, 2, 1, 1, 3, 1, 8, 13, 1, 13, 7, 13, 12, 1, 26, 26, 12, 1, 2, 1, 1, 16, 4, 1, 2, 2, 5, 11, 10, 7, 4, 1, 5, 1, 1, 2, 9, 1, 1, 4, 10, 1, 2, 16, 2, 1, 2, 5, 1, 9, 1, 16, 1, 4, 2, 1, 7, 13, 7, 4, 1, 3, 42, 1, 12, 38, 30, 11, 34, 2, 1, 3, 7, 2, 1, 1, 1, 1, 3, 1, 7, 3, 1, 2, 1, 2, 1, 4, 1, 1, 2, 1, 14, 2, 1, 1, 2, 4, 7, 22, 2, 1, 1, 17, 9, 14, 1, 5, 26, 1, 1, 19, 2, 5, 1, 1, 18, 7, 33, 1, 1, 2, 3, 3, 5, 1, 5, 1, 3, 11, 1, 1, 1, 3, 18, 1, 10, 7, 12, 1, 2, 7, 1, 1, 2, 17, 1, 7, 2, 2, 2, 1, 44, 8, 3, 22, 2, 5, 3, 5, 12, 1, 7, 1, 1, 27, 1, 1, 1, 1, 1, 5, 1, 1, 3, 1, 1, 1, 3, 1, 1, 4, 1, 3, 2, 1, 12, 1, 2, 1, 1, 5, 1, 7, 1, 1, 2, 2, 2, 1, 1, 5, 31, 4, 1, 3, 1, 1, 2, 3, 2, 7, 1, 1, 8, 1, 1, 27, 1, 2, 13, 1, 1, 1, 3, 1, 3, 1, 1, 1, 2, 1, 1, 2, 1, 5, 1, 1, 1, 27, 2, 1, 3, 1, 1, 2, 2, 1, 6, 2, 1, 6, 1, 1, 1, 1, 1, 1, 1, 2, 2, 1, 1, 1, 11, 1, 1, 1, 1, 1, 1, 1, 1, 1, 1, 10, 8, 2, 1, 6, 1, 1, 3, 7, 1, 1, 23, 8, 3, 2, 6, 12, 1, 4, 1, 2, 2, 2, 3, 1, 18, 1, 1, 3, 1, 12, 1, 1, 2, 2, 6, 11, 1, 22, 1, 2, 2, 1, 1, 1, 2, 7, 2, 1, 2, 2, 1, 2, 1, 12, 1, 3, 1, 1, 1, 1, 1, 1, 2, 1, 3, 4, 2, 17, 1, 1, 1, 1, 4, 1, 29, 2, 1, 1, 1, 1, 4, 2, 1, 3, 1, 2, 1, 1, 1, 1, 1, 1, 1, 1, 3, 1, 1, 1, 1, 2, 2, 1, 1, 1, 2, 1, 1, 3, 1, 1, 2, 11, 1, 2, 1, 2, 1, 18, 1, 1, 3, 11, 11, 1, 1, 1, 1, 1, 5, 22, 12, 1, 1, 1, 1, 37, 2, 1, 1, 4, 1, 1, 1, 1, 1, 2, 1, 1, 1, 23, 1, 1, 7, 1, 2, 1, 4, 1, 1, 2, 1, 2, 5, 1, 1, 2, 1, 1, 1, 6, 1, 1, 2, 1, 1, 4, 1, 2, 2, 1, 1, 2, 6, 11, 3, 2, 1, 4, 1, 3, 3, 3, 1, 28, 2, 29, 1, 1, 1, 7, 12, 31, 4, 1, 4, 1, 4, 6, 1, 2, 10, 10, 1, 4, 15, 1, 1, 2, 4, 2, 8, 16, 3, 13, 2, 12, 11, 1, 16, 14, 1, 26, 1, 1, 2, 15, 6, 2, 1, 24, 20, 1, 2, 2, 12, 1, 6, 5, 1, 5, 8, 4, 7, 8, 1, 6, 2, 2, 1, 1, 1, 5, 4, 25, 2, 3, 1, 1, 21, 8, 14, 1, 2, 24, 3, 19, 2, 1, 1, 3, 4, 3, 1, 1, 1, 3, 8, 2, 4, 1, 1, 4, 1, 1, 1, 17, 3, 1, 6, 29, 7, 3, 7, 1, 6, 2, 3, 2, 1, 5, 2, 5, 9, 1, 3, 2, 2, 31, 4, 1, 4, 11, 32, 45, 3, 1, 13, 7, 10, 7, 6, 11, 4, 2, 4, 9, 7, 10, 4, 6, 6, 1, 24, 4, 3, 13, 2, 2, 9, 1, 10, 14, 2, 6, 1, 7, 1, 1, 3, 4, 1, 3, 2, 2, 4, 2, 1, 6, 3, 3, 4, 1, 5, 9, 2, 8, 4, 15, 4, 4, 1, 2, 14, 7, 5, 10, 2, 1, 1, 3, 1, 2, 3, 3, 3, 1, 1, 26, 1, 2, 2, 2, 3, 1, 6, 3, 1, 2, 13, 10, 5, 5, 3, 1, 7, 5, 6, 1, 1, 4, 2, 14, 6, 13, 1, 1, 3, 3, 15, 5, 1, 4, 1, 1, 21, 5, 5, 4, 7, 2, 2, 7, 1, 1, 7, 9, 3, 17, 1, 7, 5, 5, 16, 9, 14, 4, 5, 1, 6, 1, 8, 1, 1, 3, 5, 10, 6, 6, 2, 7, 2, 6, 3, 7, 1, 8, 1, 5, 1, 3, 13, 20, 21, 2, 1, 2, 20, 19, 1, 1, 5, 12, 8, 2, 1, 6, 18, 9, 3, 3, 10, 1, 1, 1, 1, 3, 1, 7, 2, 1, 6, 3, 12, 6, 5, 1, 1, 1, 3, 10, 1, 2, 10, 17, 19, 1, 3, 2, 7, 1, 1, 4, 2, 9, 6, 3, 4, 12, 6, 1, 3, 5, 2, 1, 1, 7, 4, 10, 5, 3, 3, 4, 3, 9, 27, 6, 3, 1, 11, 9, 13, 5, 1, 3, 1, 2, 3, 2, 26, 1, 4, 1, 1, 2, 8, 2, 1, 1, 1, 10, 1, 2, 8, 1, 2, 6, 8, 1, 1, 2, 26, 6, 8, 21, 4, 17, 2, 8, 5, 18, 1, 1, 11, 11, 1, 3, 4, 6, 2, 1, 2, 3, 19, 5, 1, 1, 7, 4, 1, 22, 5, 1, 8, 9, 1, 20, 3, 15, 9, 1, 18, 2, 1, 3, 10, 1, 1, 7, 1, 6, 1, 9, 3, 1, 10, 4, 11, 7, 1, 1, 8, 21, 8, 14, 18, 7, 31, 25, 19, 17, 10, 27, 11, 4, 1, 1, 7, 18, 9, 15, 25, 1, 15, 2, 9, 27, 2, 7, 4, 2, 8, 17, 2, 29, 3, 3, 2, 17, 12, 7, 16, 3, 3, 7, 25, 10, 12, 5, 32, 13, 1, 3, 4, 20, 1, 9, 1, 9, 2, 15, 1, 1, 15, 6, 5, 7, 1, 11, 1, 12, 1, 6, 1, 7, 16, 5, 3, 5, 10, 23, 22, 13, 5, 3, 18, 8, 1, 6, 5, 1, 7, 1, 11, 10, 2, 1, 11, 14, 6, 3, 4, 10, 1, 11, 4, 1, 3, 27, 22, 5, 8, 1, 4, 4, 1, 1, 5, 4, 1, 12, 8, 5, 16, 2, 16, 11, 1, 7, 2, 1, 9, 5, 1, 1, 3, 8, 2, 10, 2, 4, 3, 16, 8, 16, 7, 4, 13, 10, 1, 28, 2, 4, 6, 1, 2, 1, 1, 8, 5, 22, 2, 9, 1, 10, 1, 16, 5, 10, 10, 15, 6, 26, 10, 17, 11, 5, 1, 18, 1, 1, 1, 26, 1, 1, 3, 4, 1, 2, 8, 1, 9, 1, 1, 2, 1, 13, 7, 1, 1, 4, 16, 8, 1, 13, 1, 1, 9, 1, 5, 1, 1, 17, 4, 1, 2, 1, 11, 2, 6, 22, 1, 1, 8, 1, 2, 18, 1, 1, 1, 1, 1, 2, 6, 1, 4, 2, 35, 16, 4, 1, 12, 3, 10, 1, 1, 1, 1, 2, 1, 11, 3, 1, 9, 4, 1, 1, 27, 2, 1, 2, 7, 13, 15, 1, 1, 1, 3, 1, 2, 4, 5, 2, 15, 5, 9, 9, 12, 4, 9, 5, 1, 24, 2, 1, 14, 1, 2, 7, 2, 10, 1, 1, 2, 6, 3, 1, 4, 5, 1, 9, 17, 1, 3, 2, 29, 9, 1, 6, 1, 34, 1, 14, 1, 1, 3, 1, 1, 2, 7, 2, 1, 2, 1, 1, 13, 1, 5, 2, 2, 2, 7, 11, 13, 10, 1, 1, 1, 1, 1, 1, 11, 8, 1, 1, 1, 7, 4, 7, 1, 14, 11, 1, 1, 7, 12, 2, 14, 1, 1, 6, 8, 7, 30, 6, 9, 10, 17, 36, 2, 2, 7, 19, 1, 6, 26, 1, 1, 9, 1, 1, 2, 6, 12, 1, 2, 2, 1, 4, 3, 1, 4, 16, 1, 4, 1, 5, 6, 1, 1, 2, 21, 16, 3, 2, 1, 1, 2, 4, 8, 4, 1, 37, 17, 22, 9, 39, 1, 1, 1, 1, 11, 3, 13, 11, 6, 1, 19, 3, 3, 13, 4, 1, 11, 2, 2, 5, 17, 1, 1, 1, 3, 1, 1, 15, 15, 11, 20, 1, 1, 2, 5, 1, 2, 18, 1, 24, 6, 8, 32, 2, 1, 9, 2, 1, 4, 3, 1, 10, 8, 1, 7, 3, 1, 1, 3, 2, 4, 19, 1, 1, 2, 4, 7, 1, 5, 1, 2, 1, 1, 29, 26, 14, 1, 9, 1, 8, 13, 10, 1, 2, 1, 17, 3, 2, 4, 15, 27, 2, 1, 4, 1, 17, 7, 2, 1, 7, 1, 5, 9, 1, 8, 7, 3, 2, 5, 25, 2, 1, 2, 7, 1, 1, 1, 7, 2, 1, 2, 2, 1, 2, 2, 1, 5, 8, 7, 14, 1, 1, 1, 15, 2, 1, 2, 1, 14, 12, 3, 2, 3, 7, 1, 5, 13, 2, 13, 1, 2, 19, 1, 1, 26, 11, 9, 3, 1, 1, 1, 12, 7, 2, 11, 1, 1, 2, 7, 12, 14, 1, 7, 9, 2, 2, 19, 17, 3, 4, 8, 1, 1, 1, 4, 6, 4, 2, 13, 15, 1, 2, 6, 2, 1, 21, 25, 12, 4, 5, 6, 3, 3, 3, 4, 5, 1, 1, 5, 16, 1, 6, 9, 2, 2, 1, 1, 13, 1, 8, 1, 3, 4, 4, 14, 1, 8, 3, 6, 1, 27, 18, 2, 25, 8, 1, 15, 9, 2, 36, 2, 5, 6, 1, 2, 1, 2, 2, 10, 3, 21, 3, 4, 13, 2, 1, 2, 3, 5, 22, 18, 4, 8, 1, 1, 21, 12, 1, 8, 3, 1, 7, 1, 1, 1, 15, 1, 3, 1, 3, 1, 10, 3, 1, 13, 1, 1, 2, 1, 2, 1, 1, 4, 3, 1, 2, 1, 1, 3, 1, 2, 1, 1, 12, 13, 2, 1, 1, 1, 4, 1, 3, 1, 2, 2, 1, 1, 1, 4, 7, 1, 1, 1, 1, 2, 30, 2, 1, 2, 1, 9, 1, 1, 1, 2, 5, 1, 1, 1, 22, 1, 1, 1, 8, 1, 15, 6, 1, 2, 4, 1, 1, 3, 5, 1, 1, 5, 19, 1, 1, 6, 4, 2, 1, 3, 1, 1, 8, 5, 2, 4, 4, 1, 1, 23, 1, 1, 2, 1, 1, 1, 1, 4, 1, 1, 4, 1, 1, 2, 3, 1, 3, 1, 3, 6, 1, 39, 1, 3, 8, 1, 1, 1, 11, 1, 5, 1, 17, 1, 1, 1, 1, 1, 1, 1, 2, 1, 4, 1, 18, 2, 1, 1, 1, 2, 1, 1, 1, 1, 6, 1, 33, 6, 1, 1, 1, 1, 1, 1, 7, 1, 1, 2, 6, 7, 1, 1, 1, 10, 1, 1, 1, 1, 1, 1, 5, 2, 2, 1, 6, 1, 3, 1, 4, 1, 8, 4, 1, 2, 1, 2, 2, 6, 2, 2, 1, 1, 3, 5, 1, 1, 4, 1, 7, 1, 2, 1, 1, 1, 1, 1, 1, 3, 15, 2, 3, 8, 1, 1, 3, 2, 2, 1, 1, 1, 27, 2, 3, 1, 3, 1, 5, 1, 4, 6, 1, 5, 1, 4, 2, 2, 2, 10, 3, 1, 22, 1, 1, 2, 12, 1, 4, 3, 3, 10, 3, 9, 1, 6, 2, 1, 2, 6, 4, 1, 1, 2, 2, 1, 3, 3, 5, 29, 1, 7, 5, 1, 6, 3, 1, 2, 1, 1, 3, 8, 8, 1, 2, 14, 8, 2, 2, 2, 1, 1, 5, 1, 1, 1, 3, 1, 12, 1, 1, 4, 6, 1, 1, 1, 11, 1, 3, 4, 5, 1, 1, 1, 3, 1, 3, 1, 8, 2, 1, 1, 4, 6, 6, 3, 2, 3, 1, 3, 18, 4, 13, 1, 11, 1, 11, 42, 1, 1, 1, 2, 4, 8, 1, 1, 1, 4, 3, 2, 1, 1, 1, 2, 1, 2, 1, 2, 1, 1, 2, 1, 4, 14, 1, 6, 1, 3, 24, 1, 1, 5, 2, 2, 3, 1, 2, 1, 11, 1, 1, 1, 1, 1, 6, 1, 1, 28, 2, 3, 7, 1, 2, 2, 6, 1, 1, 5, 1, 3, 1, 19, 1, 1, 4, 3, 13, 1, 13, 1, 14, 1, 1, 1, 1, 1, 5, 1, 1, 1, 1, 1, 8, 17, 1, 8, 1, 14, 4, 1, 3, 5, 1, 1, 1, 1, 3, 9, 1, 1, 1, 1, 1, 1, 1, 3, 1, 1, 1, 1, 4, 1, 4, 1, 1, 26, 1, 4, 1, 2, 4, 15, 1, 2, 4, 1, 1, 2, 4, 5, 7, 3, 22, 7, 44, 33, 1, 1, 1, 1, 24, 1, 2, 1, 1, 3, 2, 1, 1, 12, 4, 1, 1, 15, 1, 1, 1, 1, 10, 4, 3, 2, 1, 10, 1, 1, 8, 1, 1, 16, 11, 2, 1, 5, 5, 7, 2, 2, 4, 1, 1, 2, 1, 2, 5, 7, 1, 3, 1, 3, 1, 11, 12, 27, 1, 1, 7, 6, 1, 2, 1, 1, 9, 23, 1, 45, 1, 14, 1, 2, 3, 10, 2, 1, 4, 5, 1, 12, 1, 3, 1, 1, 1, 1, 1, 3, 3, 1, 3, 1, 1, 4, 20, 1, 1, 2, 3, 1, 32, 1, 1, 1, 9, 2, 1, 1, 1, 1, 1, 1, 1, 1, 1, 1, 6, 1, 1, 1, 1, 1, 1, 7, 1, 3, 10, 5, 1, 1, 3, 1, 1, 3, 1, 1, 1, 1, 5, 1, 1, 11, 1, 14, 1, 2, 24, 3, 13, 3, 25, 5, 1, 1, 1, 13, 4, 1, 1, 2, 1, 1, 1, 1, 3, 1, 9, 1, 4, 1, 1, 1, 5, 1, 1, 2, 1, 1, 3, 2, 1, 1, 16, 11, 1, 1, 1, 1, 13, 1, 12, 2, 2, 4, 2, 1, 12, 1, 1, 1, 1, 1, 15, 1, 2, 10, 2, 1, 1, 1, 1, 1, 1, 1, 1, 1, 2, 1, 12, 1, 4, 1, 1, 1, 2, 8, 1, 1, 2, 1, 11, 1, 4, 1, 6, 11, 1, 1, 2, 1, 1, 1, 1, 1, 1, 1, 4, 2, 1, 3, 1, 28, 1, 1, 1, 1, 4, 1, 1, 8, 3, 1, 1, 1, 1, 9, 1, 1, 5, 14, 1, 1, 6, 8, 11, 1, 20, 25, 4, 2, 23, 5, 1, 1, 1, 1, 16, 1, 1, 21, 1, 1, 1, 1, 1, 1, 1, 1, 6, 1, 1, 6, 1, 9, 1, 1, 14, 1, 2, 1, 1, 1, 6, 1, 1, 2, 2, 1, 1, 19, 1, 12, 2, 33, 1, 23, 25, 1, 1, 1, 8, 1, 14, 1, 1, 14, 1, 1, 7, 11, 3, 1, 12, 3, 20, 14, 3, 22, 26, 15, 30, 1, 2, 1, 5, 9, 37, 2, 1, 6, 5, 1, 1, 14, 1, 3, 2, 20, 7, 7, 11, 1, 4, 23, 1, 3, 20, 1, 2, 1, 35, 1, 1, 9, 1, 5, 16, 6, 2, 36, 15, 2, 37, 1, 4, 1, 1, 7, 5, 11, 12, 6, 1, 12, 1, 39, 1, 1, 12, 1, 15, 1, 10, 1, 4, 14, 7, 12, 1, 3, 4, 1, 1, 3, 16, 1, 3, 1, 1, 1, 11, 4, 1, 1, 1, 10, 11, 1, 2, 2, 7, 1, 1, 41, 1, 1, 31, 9, 14, 10, 1, 9, 1, 1, 14, 4, 3, 34, 2, 1, 8, 5, 11, 17, 7, 1, 1, 1, 15, 1, 44, 9, 9, 20, 8, 1, 14, 6, 2, 16, 3, 3, 1, 1, 6, 2, 9, 5, 9, 1, 2, 1, 6, 24, 22, 29, 2, 3, 1, 1, 26, 3, 3, 6, 1, 7, 1, 2, 2, 8, 1, 4, 17, 6, 3, 5, 1, 3, 6, 3, 1, 7, 13, 2, 2, 7, 1, 5, 5, 1, 4, 3, 14, 1, 1, 1, 8, 2, 20, 1, 12, 5, 31, 1, 1, 6, 3, 1, 10, 4, 7, 4, 6, 2, 1, 4, 2, 4, 1, 6, 9, 2, 1, 3, 10, 17, 3, 7, 13, 3, 1, 17, 5, 8, 6, 9, 27, 2, 2, 1, 7, 26, 1, 9, 1, 6, 1, 1, 2, 24, 3, 2, 3, 4, 6, 4, 10, 4, 1, 3, 1, 1, 1, 5, 1, 8, 11, 1, 10, 19, 1, 6, 4, 7, 8, 7, 4, 7, 1, 3, 1, 2, 3, 6, 12, 1, 11, 5, 1, 1, 11, 1, 1, 6, 1, 1, 1, 2, 4, 2, 8, 6, 2, 1, 6, 1, 2, 9, 30, 1, 1, 3, 6, 1, 10, 11, 13, 1, 12, 3, 7, 7, 1, 2, 4, 7, 33, 14, 3, 11, 29, 4, 1, 3, 4, 11, 2, 3, 8, 10, 3, 14, 2, 2, 4, 1, 8, 7, 2, 10, 7, 4, 1, 2, 20, 2, 7, 12, 4, 11, 4, 5, 1, 3, 2, 1, 12, 1, 7, 4, 1, 4, 4, 3, 3, 2, 5, 3, 19, 9, 1, 9, 5, 8, 11, 4, 2, 4, 3, 3, 5, 7, 1, 2, 3, 6, 5, 4, 5, 9, 3, 9, 8, 15, 2, 3, 6, 5, 2, 9, 4, 2, 7, 5, 3, 1, 21, 1, 5, 3, 6, 12, 13, 7, 4, 1, 2, 4, 18, 1, 9, 6, 11, 1, 5, 9, 6, 4, 1, 12, 11, 3, 1, 15, 7, 5, 5, 5, 2, 5, 4, 2, 4, 2, 1, 7, 2, 23, 4, 22, 2, 22, 3, 4, 6, 10, 3, 6, 6, 9, 1, 5, 5, 3, 4, 9, 14, 2, 15, 2, 2, 8, 2, 5, 7, 6, 4, 9, 3, 12, 7, 1, 2, 3, 1, 3, 7, 2, 2, 3, 7, 10, 2, 3, 10, 14, 5, 7, 5, 2, 4, 2, 34, 1, 14, 5, 6, 19, 3, 2, 5, 8, 1, 13, 1, 2, 3, 4, 8, 5, 2, 16, 3, 1, 3, 7, 11, 2, 24, 7, 12, 9, 2, 2, 6, 4, 15, 6, 3, 1, 1, 2, 2, 3, 3, 3, 5, 18, 8, 2, 1, 1, 1, 5, 6, 2, 1, 1, 18, 3, 3, 21, 1, 2, 14, 20, 1, 1, 1, 4, 17, 7, 16, 3, 15, 20, 2, 8, 1, 2, 5, 2, 1, 20, 5, 1, 2, 1, 1, 6, 5, 1, 1, 2, 5, 4, 5, 2, 4, 1, 3, 1, 11, 5, 2, 4, 20, 1, 1, 3, 1, 7, 5, 2, 1, 5, 3, 3, 11, 3, 23, 14, 2, 5, 3, 5, 15, 2, 2, 10, 5, 5, 3, 2, 2, 1, 11, 6, 2, 3, 1, 2, 9, 6, 5, 1, 5, 2, 9, 2, 2, 1, 2, 15, 10, 1, 3, 1, 3, 2, 3, 2, 2, 2, 15, 2, 8, 2, 3, 2, 2, 2, 3, 16, 3, 4, 1, 1, 1, 1, 2, 7, 3, 3, 10, 2, 1, 9, 2, 4, 5, 19, 2, 2, 2, 1, 16, 5, 2, 2, 16, 1, 2, 6, 1, 1, 5, 12, 1, 1, 2, 7, 1, 12, 2, 2, 8, 1, 3, 9, 2, 6, 1, 25, 3, 1, 3, 7, 2, 13, 3, 17, 19, 1, 1, 2, 1, 2, 1, 2, 3, 3, 1, 1, 12, 5, 4, 3, 2, 1, 12, 6, 1, 1, 3, 5, 15, 1, 9, 1, 1, 4, 16, 6, 1, 36, 2, 1, 1, 46, 8, 9, 4, 5, 13, 2, 11, 4, 2, 5, 21, 1, 1, 10, 1, 1, 1, 26, 7, 6, 1, 1, 1, 5, 6, 1, 1, 7, 1, 12, 1, 2, 1, 1, 2, 1, 1, 1, 2, 1, 1, 1, 1, 2, 1, 3, 2, 1, 4, 1, 1, 1, 1, 1, 3, 5, 5, 1, 9, 12, 3, 1, 1, 1, 1, 17, 1, 1, 2, 1, 1, 1, 23, 1, 1, 9, 8, 6, 2, 1, 1, 7, 8, 1, 1, 2, 1, 14, 3, 1, 1, 1, 1, 1, 2, 3, 1, 1, 1, 3, 2, 1, 2, 1, 2, 1, 2, 34, 1, 7, 2, 1, 11, 1, 1, 18, 1, 1, 2, 1, 1, 1, 3, 1, 1, 1, 2, 15, 1, 1, 2, 1, 1, 21, 1, 1, 10, 1, 1, 2, 2, 1, 1, 4, 1, 1, 4, 11, 1, 2, 6, 9, 1, 2, 2, 37, 1, 14, 1, 2, 4, 1, 38, 2, 1, 1, 1, 1, 2, 1, 1, 1, 9, 2, 1, 1, 4, 1, 2, 1, 1, 1, 1, 2, 1, 1, 1, 3, 1, 1, 9, 2, 1, 1, 7, 13, 1, 1, 2, 1, 1, 1, 1, 2, 15, 36, 1, 1, 23, 1, 1, 10, 1, 1, 1, 1, 1, 10, 1, 8, 1, 1, 1, 1, 1, 22, 1, 9, 2, 1, 1, 25, 1, 20, 1, 11, 3, 1, 1, 1, 4, 1, 6, 1, 24, 1, 18, 2, 13, 6, 18, 1, 32, 1, 13, 1, 2, 6, 3, 8, 1, 2, 1, 1, 2, 4, 2, 2, 22, 1, 2, 2, 2, 38, 1, 2, 1, 1, 2, 1, 1, 27, 1, 2, 1, 1, 1, 1, 14, 8, 7, 1, 1, 20, 1, 1, 1, 1, 1, 19, 2, 2, 1, 18, 1, 1, 40, 1, 1, 2, 2, 1, 3, 1, 3, 40, 4, 15, 1, 1, 13, 1, 2, 2, 1, 7, 10, 3, 4, 5, 1, 2, 1, 1, 1, 2, 1, 5, 8, 1, 1, 4, 1, 15, 2, 1, 10, 10, 4, 1, 1, 1, 16, 17, 1, 43, 2, 2, 1, 1, 8, 8, 2, 20, 1, 27, 18, 4, 1, 1, 1, 20, 21, 20, 1, 2, 2, 2, 1, 1, 23, 1, 1, 14, 1, 11, 3, 11, 1, 8, 1, 22, 1, 1, 2, 1, 1, 1, 1, 1, 1, 5, 3, 1, 1, 5, 19, 1, 1, 3, 15, 8, 1, 1, 1, 1, 2, 2, 12, 1, 18, 1, 1, 4, 1, 1, 1, 1, 9, 8, 2, 1, 1, 1, 1, 10, 3, 1, 20, 3, 2, 4, 4, 8, 1, 2, 2, 39, 33, 1, 1, 17, 12, 1, 1, 3, 2, 1, 1, 3, 1, 11, 1, 43, 1, 5, 4, 2, 1, 10, 1, 1, 1, 2, 1, 1, 7, 1, 1, 3, 1, 1, 1, 1, 1, 6, 3, 1, 7, 1, 1, 1, 1, 1, 1, 1, 35, 1, 8, 4, 3, 2, 3, 1, 1, 1, 1, 1, 1, 9, 1, 1, 1, 8, 1, 1, 7, 2, 20, 7, 1, 1, 1, 1, 2, 6, 2, 17, 2, 5, 1, 1, 1, 1, 1, 1, 4, 1, 1, 1, 2, 2, 16, 1, 2, 1, 1, 1, 3, 2, 1, 6, 1, 1, 11, 10, 1, 1, 2, 1, 1, 5, 4, 1, 5, 2, 11, 1, 1, 12, 1, 1, 8, 1, 1, 9, 1, 1, 5, 12, 13, 1, 1, 2, 2, 1, 2, 2, 3, 1, 2, 1, 20, 4, 2, 5, 1, 4, 8, 1, 1, 11, 14, 1, 3, 1, 1, 1, 3, 13, 1, 2, 1, 9, 17, 1, 16, 4, 1, 26, 5, 9, 1, 1, 4, 1, 1, 3, 3, 8, 12, 13, 16, 3, 1, 2, 7, 13, 1, 15, 13, 6, 3, 11, 1, 11, 1, 1, 8, 3, 1, 2, 6, 21, 1, 1, 8, 2, 1, 6, 2, 1, 1, 1, 2, 11, 1, 4, 2, 14, 5, 7, 26, 1, 3, 14, 1, 4, 4, 11, 1, 5, 8, 23, 17, 11, 1, 1, 2, 2, 11, 7, 9, 14, 10, 18, 4, 13, 2, 1, 1, 1, 25, 2, 2, 14, 1, 1, 1, 3, 7, 20, 1, 2, 1, 2, 1, 1, 2, 3, 3, 1, 1, 5, 1, 6, 1, 16, 2, 4, 12, 1, 2, 1, 17, 16, 1, 1, 1, 1, 3, 3, 11, 5, 2, 16, 1, 2, 2, 17, 2, 1, 1, 1, 1, 24, 1, 1, 12, 11, 23, 1, 1, 17, 5, 13, 1, 7, 5, 2, 10, 30, 2, 3, 25, 9, 4, 1, 14, 1, 1, 2, 1, 13, 15, 1, 2, 11, 1, 1, 1, 29, 1, 1, 9, 3, 5, 2, 19, 1, 8, 1, 3, 4, 1, 1, 2, 13, 1, 1, 3, 2, 1, 1, 1, 3, 37, 18, 9, 10, 13, 1, 1, 1, 6, 1, 10, 7, 1, 7, 4, 29, 1, 13, 21, 17, 12, 3, 19, 14, 8, 2, 20, 28, 9, 8, 1, 8, 9, 1, 13, 1, 1, 8, 2, 1, 14, 1, 1, 1, 1, 5, 1, 12, 45, 31, 32, 7, 30, 37, 1, 3, 4, 22, 20, 35, 16, 3, 1, 10, 5, 2, 1, 5, 1, 8, 8, 4, 6, 2, 1, 1, 5, 3, 2, 1, 1, 3, 1, 1, 2, 1, 5, 4, 2, 19, 1, 1, 8, 1, 15, 1, 2, 1, 3, 1, 3, 1, 7, 1, 1, 2, 2, 2, 1, 6, 1, 7, 11, 1, 2, 9, 1, 3, 1, 14, 2, 18, 13, 1, 1, 6, 1, 1, 2, 1, 1, 1, 2, 3, 2, 6, 11, 12, 1, 1, 3, 1, 1, 5, 1, 7, 8, 1, 1, 5, 6, 6, 2, 4, 2, 1, 18, 1, 1, 6, 5, 2, 1, 3, 3, 1, 1, 25, 1, 4, 1, 3, 5, 1, 1, 4, 2, 2, 2, 1, 2, 3, 5, 1, 3, 5, 2, 6, 1, 2, 2, 2, 2, 6, 1, 3, 10, 16, 7, 2, 19, 1, 1, 5, 1, 2, 2, 2, 5, 16, 2, 3, 15, 5, 1, 12, 10, 2, 11, 2, 5, 1, 2, 1, 1, 1, 2, 6, 27, 1, 2, 10, 1, 4, 1, 1, 4, 4, 23, 8, 1, 2, 3, 3, 1, 5, 8, 15, 7, 4, 2, 2, 1, 1, 2, 5, 1, 13, 13, 2, 1, 5, 1, 28, 1, 1, 5, 1, 5, 1, 3, 5, 1, 1, 24, 1, 3, 3, 3, 1, 2, 3, 2, 2, 9, 4, 2, 18, 1, 1, 2, 1, 3, 5, 11, 10, 5, 9, 1, 1, 1, 2, 2, 4, 11, 11, 2, 1, 2, 5, 1, 2, 1, 1, 4, 20, 3, 2, 5, 4, 6, 2, 3, 7, 8, 13, 2, 1, 11, 2, 16, 1, 6, 25, 1, 1, 1, 7, 1, 2, 2, 1, 2, 1, 3, 1, 3, 1, 2, 13, 4, 3, 3, 2, 2, 6, 1, 7, 3, 4, 3, 3, 7, 13, 27, 2, 5, 7, 6, 5, 17, 1, 4, 2, 7, 4, 1, 6, 1, 3, 4, 11, 3, 19, 4, 13, 7, 8, 6, 4, 6, 20, 7, 1, 2, 11, 9, 6, 6, 11, 2, 1, 10, 2, 2, 4, 8, 1, 24, 11, 2, 3, 2, 8, 4, 9, 26, 3, 2, 3, 2, 3, 4, 27, 1, 6, 1, 5, 11, 5, 4, 3, 2, 4, 29, 6, 2, 3, 8, 12, 6, 1, 2, 14, 2, 12, 5, 3, 2, 18, 28, 4, 9, 2, 11, 3, 4, 10, 1, 17, 4, 11, 26, 4, 2, 2, 4, 5, 3, 18, 5, 3, 6, 3, 2, 3, 10, 1, 10, 10, 9, 2, 1, 19, 25, 2, 7, 3, 4, 5, 4, 17, 14, 4, 14, 4, 11, 33, 3, 38, 2, 4, 9, 12, 10, 3, 35, 13, 8, 4, 25, 2, 3, 21, 9, 5, 3, 34, 15, 7, 1, 25, 5, 4, 15, 2, 5, 26, 6, 6, 4, 7, 2, 3, 12, 1, 6, 2, 5, 5, 18, 5, 5, 3, 5, 37, 6, 2, 11, 2, 22, 3, 9, 3, 2, 14, 2, 5, 10, 15, 4, 40, 7, 19, 1, 3, 1, 1, 1, 13, 1, 2, 1, 1, 1, 3, 1, 1, 1, 3, 1, 1, 1, 6, 1, 1, 1, 1, 1, 9, 1, 1, 1, 1, 2, 1, 2, 1, 1, 1, 1, 1, 1, 1, 1, 1, 2, 4, 1, 1, 1, 1, 1, 1, 1, 2, 3, 1, 1, 1, 5, 1, 1, 1, 1, 3, 1, 1, 1, 1, 1, 1, 1, 1, 1, 3, 1, 1, 3, 1, 1, 1, 13, 2, 31, 2, 1, 5, 1, 1, 1, 1, 1, 1, 1, 1, 2, 4, 1, 1, 1, 1, 1, 3, 14, 1, 6, 1, 3, 4, 1, 1, 1, 1, 1, 19, 1, 1, 1, 2, 1, 2, 2, 1, 1, 1, 5, 1, 1, 1, 1, 3, 2, 2, 1, 1, 1, 23, 1, 2, 1, 1, 1, 6, 1, 1, 1, 1, 1, 1, 1, 6, 2, 1, 1, 3, 5, 2, 1, 14, 1, 1, 1, 1, 7, 15, 1, 1, 2, 1, 1, 1, 1, 1, 14, 1, 2, 2, 1, 2, 26, 1, 4, 3, 1, 1, 1, 1, 10, 1, 1, 3, 1, 2, 2, 1, 1, 1, 1, 2, 2, 1, 1, 1, 4, 1, 1, 1, 5, 2, 1, 2, 2, 5, 1, 1, 1, 5, 1, 1, 1, 1, 1, 1, 1, 1, 1, 2, 1, 8, 2, 2, 1, 1, 1, 2, 1, 1, 1, 1, 8, 3, 1, 1, 1, 14, 1, 1, 1, 1, 1, 1, 9, 1, 1, 1, 1, 1, 1, 4, 4, 9, 1, 1, 1, 5, 1, 4, 1, 3, 28, 8, 1, 1, 1, 2, 1, 1, 1, 3, 1, 1, 1, 1, 1, 7, 1, 1, 1, 1, 1, 2, 1, 1, 1, 1, 1, 1, 1, 1, 2, 1, 1, 1, 1, 1, 1, 1, 2, 1, 1, 1, 4, 1, 2, 4, 1, 7, 1, 1, 1, 1, 2, 4, 1, 1, 1, 1, 1, 1, 1, 1, 1, 1, 1, 1, 1, 1, 1, 1, 1, 1, 1, 1, 3, 1, 1, 1, 1, 1, 2, 1, 1, 1, 1, 2, 2, 3, 1, 1, 3, 1, 1, 7, 1, 1, 6, 1, 7, 1, 2, 1, 1, 2, 1, 1, 7, 1, 13, 2, 3, 3, 43, 2, 1, 4, 8, 1, 2, 1, 1, 8, 28, 6, 1, 1, 1, 1, 3, 23, 2, 2, 1, 27, 1, 1, 1, 1, 1, 1, 1, 1, 2, 1, 1, 1, 1, 3, 1, 1, 1, 1, 3, 9, 1, 17, 1, 13, 1, 1, 1, 1, 3, 11, 19, 1, 3, 1, 1, 1, 1, 1, 1, 2, 1, 1, 1, 1, 1, 1, 1, 1, 1, 1, 1, 1, 1, 1, 1, 1, 4, 1, 3, 1, 3, 8, 1, 7, 1, 2, 1, 1, 9, 11, 32, 2, 49, 7, 12, 25, 1, 23, 1, 6, 7, 10, 11, 5, 2, 46, 13, 1, 3, 1, 1, 9, 5, 1, 2, 1, 2, 8, 17, 3, 4]\n",
      "[ 9  8 23 ...  2 42 43] [ 0  0  0 ... 49 49 49]\n"
     ]
    }
   ],
   "source": [
    "test_loader = torch.utils.data.DataLoader(dataset=test_set,batch_size=batch_velicina,shuffle=False,num_workers=0,drop_last=False,pin_memory=True)\n",
    "\n",
    "\n",
    "gmatrix = []\n",
    "labele=[]\n",
    "pokusaj = []\n",
    "for batch_num, lokacije in enumerate(test_loader):\n",
    "    x=lokacije['data']\n",
    "    y=lokacije['label']\n",
    "    x = x.to(device)\n",
    "    for i in range(1,len(y)):\n",
    "        labele.append(y[i].cpu().detach().numpy())\n",
    "    y_hat = best_model(x)\n",
    "    rez=y_hat\n",
    "    y_hat= y_hat.cpu().detach().numpy()\n",
    "    y_hat=np.argmax(y_hat,axis=1)\n",
    "    for i in range(0,len(y_hat)):\n",
    "       gmatrix.append(y_hat[i])\n",
    "   # print(y)\n",
    "    for i in range(0,len(y_hat)):\n",
    "        npa=rez[i]\n",
    "        npa=npa.cpu().reshape(50).detach().numpy()\n",
    "        pok=np.sum(npa>npa[round(y.cpu().numpy()[i])])+1\n",
    "        pokusaj.append(pok)\n",
    "    #print(gmatrix)\n",
    "gmatrix=np.array(gmatrix)\n",
    "labele=np.array(labele)\n",
    "print(pokusaj)\n",
    "print(gmatrix,labele)"
   ]
  },
  {
   "cell_type": "code",
   "execution_count": 11,
   "metadata": {},
   "outputs": [
    {
     "name": "stdout",
     "output_type": "stream",
     "text": [
      "24748 24998 24998 24998\n",
      "24998 24998 24998\n",
      "7572\n"
     ]
    }
   ],
   "source": [
    "print(len(labele),len(gmatrix),len(test_set),len(pokusaj))\n",
    "for i in range(len(labele),len(gmatrix)):\n",
    "    labele=np.append(labele,49)\n",
    "print(len(labele),len(gmatrix),len(test_set))\n",
    "kol=0\n",
    "for i in range(1,len(gmatrix)):\n",
    "    if gmatrix[i]==labele[i]:\n",
    "        kol+=1\n",
    "print(kol)"
   ]
  },
  {
   "cell_type": "code",
   "execution_count": 16,
   "metadata": {},
   "outputs": [],
   "source": [
    "ouf = open(\"VGGRezultati.txt\",\"w\")\n",
    "for i in range(1,len(gmatrix)):\n",
    "    ouf.write(str(round(gmatrix[i]))+\" \"+str(labele[i])+\" \"+str(pokusaj[i])+\"\\n\")\\\n",
    "\n",
    "ouf.close()"
   ]
  },
  {
   "cell_type": "code",
   "execution_count": null,
   "metadata": {},
   "outputs": [],
   "source": [
    "import seaborn as sns\n",
    "import matplotlib.pyplot as plt\n",
    "from sklearn.metrics import confusion_matrix\n",
    "cf_matrix = confusion_matrix(labele, gmatrix)\n",
    "\n",
    "for i in range(0, 50):\n",
    "    p = np.sum(cf_matrix[i])\n",
    "    cf_matrix[i] = cf_matrix[i] * 100 / p\n",
    "\n",
    "plt.figure(figsize=(80, 45))\n",
    "sns.heatmap(cf_matrix/100, annot=True, fmt='.2%', cmap='Blues')\n",
    "plt.show()"
   ]
  },
  {
   "cell_type": "code",
   "execution_count": null,
   "metadata": {},
   "outputs": [],
   "source": []
  }
 ],
 "metadata": {
  "kernelspec": {
   "display_name": "Python 3",
   "language": "python",
   "name": "python3"
  },
  "language_info": {
   "codemirror_mode": {
    "name": "ipython",
    "version": 3
   },
   "file_extension": ".py",
   "mimetype": "text/x-python",
   "name": "python",
   "nbconvert_exporter": "python",
   "pygments_lexer": "ipython3",
   "version": "3.11.4"
  },
  "orig_nbformat": 4
 },
 "nbformat": 4,
 "nbformat_minor": 2
}
