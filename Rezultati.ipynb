{
 "cells": [
  {
   "cell_type": "markdown",
   "metadata": {},
   "source": [
    "Inicijalizacija"
   ]
  },
  {
   "cell_type": "code",
   "execution_count": null,
   "metadata": {},
   "outputs": [],
   "source": [
    "import numpy as np\n",
    "states=[\n",
    "    'Alabama', 'Alaska', 'Arizona', 'Arkansas', 'California', 'Colorado', 'Connecticut',\n",
    "    'Delaware', 'Florida', 'Georgia', 'Hawaii', 'Idaho', 'Illinois', 'Indiana', 'Iowa',\n",
    "    'Kansas', 'Kentucky', 'Louisiana', 'Maine', 'Maryland', 'Massachusetts', 'Michigan',\n",
    "    'Minnesota', 'Mississippi', 'Missouri', 'Montana', 'Nebraska', 'Nevada', 'New Hampshire',\n",
    "    'New Jersey', 'New Mexico', 'New York', 'North Carolina', 'North Dakota', 'Ohio',\n",
    "    'Oklahoma', 'Oregon', 'Pennsylvania', 'Rhode Island', 'South Carolina', 'South Dakota',\n",
    "    'Tennessee', 'Texas', 'Utah', 'Vermont', 'Virginia', 'Washington', 'West Virginia',\n",
    "    'Wisconsin', 'Wyoming'\n",
    "]\n",
    "short = { \"Alabama\": \"AL\", \"Alaska\": \"AK\", \"Arizona\": \"AZ\", \"Arkansas\": \"AR\", \"California\": \"CA\", \"Colorado\": \"CO\", \"Connecticut\": \"CT\", \"Delaware\": \"DE\", \"Florida\": \"FL\", \"Georgia\": \"GA\", \"Hawaii\": \"HI\", \"Idaho\": \"ID\", \"Illinois\": \"IL\", \"Indiana\": \"IN\", \"Iowa\": \"IA\", \"Kansas\": \"KS\", \"Kentucky\": \"KY\", \"Louisiana\": \"LA\", \"Maine\": \"ME\", \"Maryland\": \"MD\", \"Massachusetts\": \"MA\", \"Michigan\": \"MI\", \"Minnesota\": \"MN\", \"Mississippi\": \"MS\", \"Missouri\": \"MO\", \"Montana\": \"MT\", \"Nebraska\": \"NE\", \"Nevada\": \"NV\", \"New Hampshire\": \"NH\", \"New Jersey\": \"NJ\", \"New Mexico\": \"NM\", \"New York\": \"NY\", \"North Carolina\": \"NC\", \"North Dakota\": \"ND\", \"Ohio\": \"OH\", \"Oklahoma\": \"OK\", \"Oregon\": \"OR\", \"Pennsylvania\": \"PA\", \"Rhode Island\": \"RI\", \"South Carolina\": \"SC\", \"South Dakota\": \"SD\", \"Tennessee\": \"TN\", \"Texas\": \"TX\", \"Utah\": \"UT\", \"Vermont\": \"VT\", \"Virginia\": \"VA\", \"Washington\": \"WA\", \"West Virginia\": \"WV\", \"Wisconsin\": \"WI\", \"Wyoming\": \"WY\" }\n",
    "short2=[]\n",
    "for i in range(0,50):\n",
    "    short2.append(short[states[i]])\n",
    "\n",
    "fajl=\"FCRezultati.txt\""
   ]
  },
  {
   "cell_type": "markdown",
   "metadata": {},
   "source": [
    "Ucitavanja podataka"
   ]
  },
  {
   "cell_type": "code",
   "execution_count": null,
   "metadata": {},
   "outputs": [],
   "source": [
    "ulaz= np.loadtxt(fajl)\n",
    "guess=ulaz[:,0].astype(int)\n",
    "correct=ulaz[:,1].astype(int)\n",
    "attempt=ulaz[:,2].astype(int)"
   ]
  },
  {
   "cell_type": "markdown",
   "metadata": {},
   "source": [
    "Osnovni podaci"
   ]
  },
  {
   "cell_type": "code",
   "execution_count": null,
   "metadata": {},
   "outputs": [],
   "source": [
    "acc=0\n",
    "for i in range(0,len(guess)):\n",
    "    acc+=(guess[i]==correct[i])\n",
    "print(acc)\n",
    "print(\"TACNOST \",str(acc/len(guess)))\n",
    "primeraka=[]\n",
    "for i in range(0,50):\n",
    "    primeraka.append(0)\n",
    "for i in range(0,len(correct)):\n",
    "    #print(correct[i])\n",
    "    primeraka[correct[i]]+=1\n",
    "#print(primeraka[0])\n",
    "print(primeraka)"
   ]
  },
  {
   "cell_type": "markdown",
   "metadata": {},
   "source": [
    "Konfuziona matrica"
   ]
  },
  {
   "cell_type": "code",
   "execution_count": null,
   "metadata": {},
   "outputs": [],
   "source": [
    "import seaborn as sns\n",
    "import matplotlib.pyplot as plt\n",
    "from sklearn.metrics import confusion_matrix\n",
    "\n",
    "cf_matrix = confusion_matrix(correct, guess)\n",
    "\n",
    "for i in range(0, 50):\n",
    "    p = np.sum(cf_matrix[i])\n",
    "    cf_matrix[i] = cf_matrix[i] * 100 / p\n",
    "\n",
    "plt.figure(figsize=(80, 45))\n",
    "sns.heatmap(cf_matrix/100, annot=True, fmt='.2%', cmap='Blues',xticklabels=short2, yticklabels=short2)\n",
    "plt.show()"
   ]
  },
  {
   "cell_type": "markdown",
   "metadata": {},
   "source": [
    "Plotovanje na mapi"
   ]
  },
  {
   "cell_type": "code",
   "execution_count": null,
   "metadata": {},
   "outputs": [],
   "source": [
    "import plotly.express as px\n",
    "\n",
    "def napravi_mapu(podaci,inv=False):\n",
    "    data=[]\n",
    "    for i in range(50):\n",
    "        data.append({'state_code': short[states[i]], 'value': podaci[i]})\n",
    "    paleta=[(0,'red'),(1,'green')]\n",
    "    if inv:\n",
    "        paleta=[(0,'green'),(1,'red')]\n",
    "    # Create a DataFrame from the data\n",
    "    import pandas as pd\n",
    "    df = pd.DataFrame(data)\n",
    "\n",
    "    # Create the choropleth map using Plotly Express\n",
    "    fig = px.choropleth(\n",
    "        data_frame=df,\n",
    "        locations='state_code',  # Using state codes instead of state names\n",
    "        locationmode='USA-states',\n",
    "        scope='usa',\n",
    "        color='value',\n",
    "        hover_name='state_code',  # Show state codes on hover\n",
    "        color_continuous_scale=paleta,  # Choose the color scale you prefer\n",
    "        title='Choropleth Map of USA'\n",
    "    )\n",
    "    fig.show()"
   ]
  },
  {
   "cell_type": "markdown",
   "metadata": {},
   "source": [
    "Tacnost"
   ]
  },
  {
   "cell_type": "code",
   "execution_count": null,
   "metadata": {},
   "outputs": [],
   "source": [
    "def get_tacnih(tresh):\n",
    "    tacnih=[]\n",
    "    for i in range(50):\n",
    "        tacnih.append(0)\n",
    "    for i in range(len(correct)):\n",
    "        if attempt[i]<=tresh:\n",
    "            tacnih[correct[i]]+=1/primeraka[correct[i]]\n",
    "    return tacnih\n",
    "def get_miss():\n",
    "    missed=[]\n",
    "    for i in range(50):\n",
    "        missed.append(0)\n",
    "    for i in range(len(correct)):\n",
    "        if correct[i]!=guess[i]:\n",
    "            missed[guess[i]]+=1/(len(correct))\n",
    "    return missed"
   ]
  },
  {
   "cell_type": "markdown",
   "metadata": {},
   "source": [
    "Pravljenje histograma"
   ]
  },
  {
   "cell_type": "code",
   "execution_count": null,
   "metadata": {},
   "outputs": [],
   "source": [
    "import matplotlib.pyplot as plt\n",
    "\n",
    "def histogram(data,avg):\n",
    "    sorted_data = sorted(data, key=lambda x: x[1], reverse=True)\n",
    "    states, statistics = zip(*sorted_data)\n",
    "    plt.figure(figsize=(10, 6))\n",
    "    plt.bar(states, statistics)\n",
    "    plt.xlabel('State')\n",
    "    plt.ylabel('Accuracy')\n",
    "    plt.title('Accuracy of each state')\n",
    "    plt.xticks(rotation=45)\n",
    "    plt.tight_layout()\n",
    "    plt.axhline(y=0.02, color='orange', linestyle='--', label='Random guess')\n",
    "    plt.axhline(y=avg, color='red', label='Average guess')\n",
    "    plt.show()"
   ]
  },
  {
   "cell_type": "markdown",
   "metadata": {},
   "source": [
    "Plotovanje funkcije"
   ]
  },
  {
   "cell_type": "code",
   "execution_count": null,
   "metadata": {},
   "outputs": [],
   "source": [
    "import matplotlib.pyplot as plt\n",
    "import random\n",
    "\n",
    "redomboje=[(0,0,0.8),(0.8,0,0),(0,0.8,0),(0.8,0.8,0),(0,0.8,0.8),(0.8,0,0.8)]\n",
    "\n",
    "def plot_coordinates(funkcije):\n",
    "    plt.figure()\n",
    "    for i in range(len(funkcije)):\n",
    "        funk=funkcije[i]\n",
    "        if i<len(redomboje):\n",
    "            boja=redomboje[i]\n",
    "        else:\n",
    "            boja=(random.random(),random.random(),random.random())\n",
    "        x_coords, y_coords = zip(*funk)\n",
    "\n",
    "        plt.plot(x_coords, y_coords, 'bo-', label='Points',color=boja)\n",
    "        for i in range(len(funk) - 1):\n",
    "            plt.plot([funk[i][0], funk[i + 1][0]], [funk[i][1], funk[i + 1][1]], 'r--',color=boja)\n",
    "    plt.xlabel('Broj pokušaja')\n",
    "    plt.ylabel('Tačnost')\n",
    "    plt.title('Zavisnost tačnosti od broja pokušaja')\n",
    "    plt.show()\n",
    "\n",
    "plot_coordinates([[(1,0.3734374348697397),(2,0.5104084168336677),(3,0.597135470941884),(4,0.6599393186372753),(5,0.7075025250501007)],\n",
    "[(1,0.25034492985971957),(2,0.36304072144288596),(3,0.4414117835671346),(4,0.503541563126253),(5,0.5549894989979964)]])"
   ]
  },
  {
   "cell_type": "markdown",
   "metadata": {},
   "source": [
    "Najčešća predviđen (za svaki state kao koji se state najviše predviđa)"
   ]
  },
  {
   "cell_type": "code",
   "execution_count": null,
   "metadata": {},
   "outputs": [],
   "source": [
    "import pandas as pd\n",
    "from tabulate import tabulate\n",
    "k=5\n",
    "data={\n",
    "    'State' : [],\n",
    "    'Guess 1' : [],\n",
    "    'Guess 2' : [],\n",
    "    'Guess 3' : [],\n",
    "    'Guess 4' : [],\n",
    "    'Guess 5' : [],\n",
    "}\n",
    "for i in range(50):\n",
    "    najc=[]\n",
    "    for j in range(k):\n",
    "        najc.append(-1)\n",
    "    for j in range(50):\n",
    "        p=-1\n",
    "        for b in range(k):\n",
    "            if(najc[b]==-1):\n",
    "                p=b\n",
    "                break\n",
    "            if(cf_matrix[i][j]>cf_matrix[i][najc[b]]):\n",
    "                p=b\n",
    "                break\n",
    "        if p==-1:\n",
    "            continue\n",
    "        for b in range(4,p,-1):\n",
    "            najc[b]=najc[b-1]\n",
    "        najc[p]=j\n",
    "    data['State'].append(states[i])\n",
    "    data['Guess 1'].append(states[najc[0]]+\" (\" + str(cf_matrix[i][najc[0]])+\")\")\n",
    "    data['Guess 2'].append(states[najc[1]]+\" (\" + str(cf_matrix[i][najc[1]])+\")\")\n",
    "    data['Guess 3'].append(states[najc[2]]+\" (\" + str(cf_matrix[i][najc[2]])+\")\")\n",
    "    data['Guess 4'].append(states[najc[3]]+\" (\" + str(cf_matrix[i][najc[3]])+\")\")\n",
    "    data['Guess 5'].append(states[najc[4]]+\" (\" + str(cf_matrix[i][najc[4]])+\")\")\n",
    "    print(\"\\n\")\n",
    "df = pd.DataFrame(data)\n",
    "df.to_excel('data.xlsx', index=False)"
   ]
  },
  {
   "cell_type": "markdown",
   "metadata": {},
   "source": [
    "Za svaki treshhold"
   ]
  },
  {
   "cell_type": "code",
   "execution_count": null,
   "metadata": {},
   "outputs": [],
   "source": [
    "napravi_mapu(get_miss(),True)"
   ]
  },
  {
   "cell_type": "code",
   "execution_count": null,
   "metadata": {},
   "outputs": [],
   "source": [
    "for thresh in range(1,6):\n",
    "    print(\"BROJ PUKUSAJA \",thresh)\n",
    "    pod=get_tacnih(thresh)\n",
    "    data=[]\n",
    "    for i in range(50):\n",
    "        data.append((short[states[i]],pod[i]))\n",
    "    suma=sum(pod)\n",
    "    print(\"TACNOST \",suma/50)\n",
    "    histogram(data,suma/50)\n",
    "    napravi_mapu(pod)\n"
   ]
  },
  {
   "cell_type": "code",
   "execution_count": null,
   "metadata": {},
   "outputs": [],
   "source": []
  }
 ],
 "metadata": {
  "kernelspec": {
   "display_name": "Python 3",
   "language": "python",
   "name": "python3"
  },
  "language_info": {
   "codemirror_mode": {
    "name": "ipython",
    "version": 3
   },
   "file_extension": ".py",
   "mimetype": "text/x-python",
   "name": "python",
   "nbconvert_exporter": "python",
   "pygments_lexer": "ipython3",
   "version": "3.10.4"
  },
  "orig_nbformat": 4
 },
 "nbformat": 4,
 "nbformat_minor": 2
}
