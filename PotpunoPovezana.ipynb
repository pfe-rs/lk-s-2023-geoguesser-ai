{
 "cells": [
  {
   "cell_type": "markdown",
   "metadata": {},
   "source": [
    "Ucitavamo dataset"
   ]
  },
  {
   "cell_type": "code",
   "execution_count": 1,
   "metadata": {},
   "outputs": [
    {
     "name": "stdout",
     "output_type": "stream",
     "text": [
      "12500\n",
      "(tensor([0.3007, 0.3762, 0.3307,  ..., 0.0000, 0.0000, 0.0787]), tensor(15.))\n",
      "tensor(0.3307)\n"
     ]
    }
   ],
   "source": [
    "import torch\n",
    "import numpy as np \n",
    "from torch.utils.data import TensorDataset\n",
    "\n",
    "ulaz= np.loadtxt('TrainDataset.txt')\n",
    "podaci=ulaz[:,1:]\n",
    "#print(podaci)\n",
    "b=np.max(podaci,axis=0)\n",
    "podaci=podaci/b\n",
    "#print(podaci)\n",
    "#print(np.max(podaci),np.min(podaci))\n",
    "obelezja=ulaz[:,:1]\n",
    "#print(obelezja)\n",
    "podaci=torch.Tensor(podaci)\n",
    "obelezja=torch.Tensor(obelezja)\n",
    "obelezja=obelezja.flatten()\n",
    "\n",
    "dataset=TensorDataset(podaci,obelezja)\n",
    "train_set,test_set = torch.utils.data.random_split(dataset,[0.9,0.1])\n",
    "\n",
    "print(len(test_set))\n",
    "print(test_set[0])\n",
    "print(test_set[0][0][2])"
   ]
  },
  {
   "cell_type": "code",
   "execution_count": 3,
   "metadata": {},
   "outputs": [],
   "source": [
    "if torch.cuda.is_available():\n",
    "    device=\"cuda\"\n",
    "else:\n",
    "    device=\"cpu\"\n",
    "    print(\"NE RADI CUDA!\")"
   ]
  },
  {
   "cell_type": "markdown",
   "metadata": {},
   "source": [
    "Inicijalizacija mreze"
   ]
  },
  {
   "cell_type": "code",
   "execution_count": 4,
   "metadata": {},
   "outputs": [],
   "source": [
    "import torch.nn as nn\n",
    "\n",
    "class Mreza (nn.Module):\n",
    "    def __init__ (self):\n",
    "        super().__init__()\n",
    "        self.act=nn.Sequential(\n",
    "            nn.Linear(1564,1000),\n",
    "            nn.BatchNorm1d(1000),\n",
    "            nn.ReLU(),\n",
    "            nn.Linear(1000,300),\n",
    "            nn.BatchNorm1d(300),\n",
    "            nn.ReLU(),\n",
    "            nn.Linear(300,120),\n",
    "            nn.BatchNorm1d(120),\n",
    "            nn.ReLU(),\n",
    "            nn.Linear(120,50),\n",
    "            nn.BatchNorm1d(50),\n",
    "            nn.ReLU()\n",
    "        )\n",
    "        self.act=self.act.to(device)\n",
    "    def forward (self, x):\n",
    "        return self.act(x)\n",
    "model = Mreza()\n",
    "model = model.to(device)"
   ]
  },
  {
   "cell_type": "markdown",
   "metadata": {},
   "source": [
    "Testiranje"
   ]
  },
  {
   "cell_type": "code",
   "execution_count": 5,
   "metadata": {},
   "outputs": [],
   "source": [
    "def totensor(y):\n",
    "    ret=np.zeros((len(y),50))\n",
    "   # print(y[0])\n",
    "   # print(y[0][0])\n",
    "   # print(y[0][0].item())\n",
    "    for i in range(0,len(y)):\n",
    "        ret[i][round(y[i].item())]=1\n",
    "    return torch.Tensor(ret).to(device)\n",
    "\n",
    "def test(model,sample):\n",
    "    #print(sample)\n",
    "    sample=sample.to(device)\n",
    "    rez=model(sample.reshape(1,1564))\n",
    "    _,b=torch.max(rez,dim=1)\n",
    "    return b\n"
   ]
  },
  {
   "cell_type": "markdown",
   "metadata": {},
   "source": [
    "Inicijalizacija parametara"
   ]
  },
  {
   "cell_type": "code",
   "execution_count": 6,
   "metadata": {},
   "outputs": [],
   "source": [
    "broj_epoha = 50\n",
    "batch_velicina=500\n",
    "loss_funk = nn.CrossEntropyLoss()\n",
    "optimizer = torch.optim.Adam(model.parameters(),lr=0.001)\n",
    "loader = torch.utils.data.DataLoader(dataset=train_set,batch_size=batch_velicina,shuffle=True,num_workers=0,drop_last=True,pin_memory=True)\n",
    "val_loader = torch.utils.data.DataLoader(dataset=test_set,batch_size=batch_velicina,shuffle=False,num_workers=0,drop_last=False,pin_memory=True)\n"
   ]
  },
  {
   "cell_type": "code",
   "execution_count": 7,
   "metadata": {},
   "outputs": [],
   "source": [
    "def get_accuracy(y_hat,y):\n",
    "   # print(y)\n",
    "    y_hat = y_hat.cpu().detach().numpy()\n",
    "    y=y.cpu().numpy()\n",
    "    y_hat=np.argmax(y_hat,axis=1)\n",
    "   # print(y_hat,y)\n",
    "    corrects=(y_hat==y).sum()\n",
    "   # print(corrects)\n",
    "    return corrects.item()\n",
    "\n",
    "def validation(model):\n",
    "    with torch.no_grad():\n",
    "        model.eval()\n",
    "        kol=0\n",
    "        total_loss=0\n",
    "        for batch_num, (x, y) in enumerate(val_loader):\n",
    "                x = x.to(device)\n",
    "                y = y.to(device)\n",
    "                #print(y)\n",
    "                y_hat = model(x)\n",
    "                loss=loss_funk(y_hat,totensor(y))\n",
    "                total_loss+=loss.detach().item()\n",
    "                kol+=get_accuracy(y_hat=y_hat, y=y)/len(y)\n",
    "                del y_hat\n",
    "        kol=kol*100/batch_num\n",
    "        total_loss/=batch_num\n",
    "    return total_loss,kol"
   ]
  },
  {
   "cell_type": "markdown",
   "metadata": {},
   "source": [
    "Treniranje"
   ]
  },
  {
   "cell_type": "code",
   "execution_count": 8,
   "metadata": {},
   "outputs": [
    {
     "name": "stdout",
     "output_type": "stream",
     "text": [
      "Epoch: 1\t100.00% complete. 6.88 seconds elapsed in epoch. Time until completion 0.00 seconds.\n",
      "Epoch: 1 | Train Loss: 3.4286 | Train Accuracy: 14.03 | Validation Loss: 3.3535 | Validation Accuracy: 18.11\n",
      "Epoch: 2\t100.00% complete. 4.62 seconds elapsed in epoch. Time until completion 0.00 seconds.\n",
      "Epoch: 2 | Train Loss: 3.0435 | Train Accuracy: 21.93 | Validation Loss: 3.1901 | Validation Accuracy: 21.71\n",
      "Epoch: 3\t100.00% complete. 4.60 seconds elapsed in epoch. Time until completion 0.00 seconds.\n",
      "Epoch: 3 | Train Loss: 2.8292 | Train Accuracy: 26.56 | Validation Loss: 3.1059 | Validation Accuracy: 23.01\n",
      "Epoch: 4\t100.00% complete. 4.51 seconds elapsed in epoch. Time until completion 0.00 seconds.\n",
      "Epoch: 4 | Train Loss: 2.6547 | Train Accuracy: 30.69 | Validation Loss: 3.0298 | Validation Accuracy: 25.24\n",
      "Epoch: 5\t100.00% complete. 4.55 seconds elapsed in epoch. Time until completion 0.00 seconds.\n",
      "Epoch: 5 | Train Loss: 2.4870 | Train Accuracy: 34.60 | Validation Loss: 3.0176 | Validation Accuracy: 25.53\n",
      "Epoch: 6\t100.00% complete. 4.53 seconds elapsed in epoch. Time until completion 0.00 seconds.\n",
      "Epoch: 6 | Train Loss: 2.3267 | Train Accuracy: 38.49 | Validation Loss: 2.9965 | Validation Accuracy: 27.16\n",
      "Epoch: 7\t100.00% complete. 4.59 seconds elapsed in epoch. Time until completion 0.00 seconds.\n",
      "Epoch: 7 | Train Loss: 2.1558 | Train Accuracy: 42.67 | Validation Loss: 2.9661 | Validation Accuracy: 27.10\n",
      "Epoch: 8\t100.00% complete. 4.67 seconds elapsed in epoch. Time until completion 0.00 seconds.\n",
      "Epoch: 8 | Train Loss: 1.9899 | Train Accuracy: 47.07 | Validation Loss: 3.0462 | Validation Accuracy: 26.70\n",
      "Epoch: 9\t100.00% complete. 4.48 seconds elapsed in epoch. Time until completion 0.00 seconds.\n",
      "Epoch: 9 | Train Loss: 1.8142 | Train Accuracy: 51.65 | Validation Loss: 3.1689 | Validation Accuracy: 26.09\n",
      "Epoch: 10\t100.00% complete. 4.59 seconds elapsed in epoch. Time until completion 0.00 seconds.\n",
      "Epoch: 10 | Train Loss: 1.6437 | Train Accuracy: 56.36 | Validation Loss: 3.1651 | Validation Accuracy: 26.75\n",
      "Epoch: 11\t100.00% complete. 4.56 seconds elapsed in epoch. Time until completion 0.00 seconds.\n",
      "Epoch: 11 | Train Loss: 1.4681 | Train Accuracy: 61.21 | Validation Loss: 3.2562 | Validation Accuracy: 26.49\n",
      "Epoch: 12\t100.00% complete. 4.49 seconds elapsed in epoch. Time until completion 0.00 seconds.\n",
      "Epoch: 12 | Train Loss: 1.3068 | Train Accuracy: 65.76 | Validation Loss: 3.3915 | Validation Accuracy: 26.26\n",
      "Epoch: 13\t100.00% complete. 4.65 seconds elapsed in epoch. Time until completion 0.00 seconds.\n",
      "Epoch: 13 | Train Loss: 1.1533 | Train Accuracy: 69.86 | Validation Loss: 3.4067 | Validation Accuracy: 26.32\n",
      "Epoch: 14\t100.00% complete. 4.57 seconds elapsed in epoch. Time until completion 0.00 seconds.\n",
      "Epoch: 14 | Train Loss: 1.0071 | Train Accuracy: 74.13 | Validation Loss: 3.5528 | Validation Accuracy: 25.38\n",
      "Epoch: 15\t100.00% complete. 4.54 seconds elapsed in epoch. Time until completion 0.00 seconds.\n",
      "Epoch: 15 | Train Loss: 0.8839 | Train Accuracy: 77.60 | Validation Loss: 3.6500 | Validation Accuracy: 25.34\n",
      "Epoch: 16\t100.00% complete. 4.57 seconds elapsed in epoch. Time until completion 0.00 seconds.\n",
      "Epoch: 16 | Train Loss: 0.7715 | Train Accuracy: 80.91 | Validation Loss: 3.7790 | Validation Accuracy: 24.79\n",
      "Epoch: 17\t100.00% complete. 4.74 seconds elapsed in epoch. Time until completion 0.00 seconds.\n",
      "Epoch: 17 | Train Loss: 0.6743 | Train Accuracy: 83.47 | Validation Loss: 3.8211 | Validation Accuracy: 25.44\n",
      "Epoch: 18\t100.00% complete. 4.74 seconds elapsed in epoch. Time until completion 0.00 seconds.\n",
      "Epoch: 18 | Train Loss: 0.5915 | Train Accuracy: 85.88 | Validation Loss: 3.9774 | Validation Accuracy: 24.57\n",
      "Epoch: 19\t100.00% complete. 4.70 seconds elapsed in epoch. Time until completion 0.00 seconds.\n",
      "Epoch: 19 | Train Loss: 0.5126 | Train Accuracy: 88.13 | Validation Loss: 4.0328 | Validation Accuracy: 24.22\n",
      "Epoch: 20\t100.00% complete. 4.72 seconds elapsed in epoch. Time until completion 0.00 seconds.\n",
      "Epoch: 20 | Train Loss: 0.4527 | Train Accuracy: 89.74 | Validation Loss: 4.1532 | Validation Accuracy: 24.97\n",
      "Epoch: 21\t100.00% complete. 4.77 seconds elapsed in epoch. Time until completion 0.00 seconds.\n",
      "Epoch: 21 | Train Loss: 0.4079 | Train Accuracy: 90.75 | Validation Loss: 4.2186 | Validation Accuracy: 24.54\n",
      "Epoch: 22\t100.00% complete. 4.54 seconds elapsed in epoch. Time until completion 0.00 seconds.\n",
      "Epoch: 22 | Train Loss: 0.3620 | Train Accuracy: 92.07 | Validation Loss: 4.2839 | Validation Accuracy: 24.76\n",
      "Epoch: 23\t100.00% complete. 4.90 seconds elapsed in epoch. Time until completion 0.00 seconds.\n",
      "Epoch: 23 | Train Loss: 0.3216 | Train Accuracy: 93.12 | Validation Loss: 4.3365 | Validation Accuracy: 24.75\n",
      "Epoch: 24\t100.00% complete. 4.69 seconds elapsed in epoch. Time until completion 0.00 seconds.\n",
      "Epoch: 24 | Train Loss: 0.2982 | Train Accuracy: 93.62 | Validation Loss: 4.5037 | Validation Accuracy: 24.17\n",
      "Epoch: 25\t100.00% complete. 4.59 seconds elapsed in epoch. Time until completion 0.00 seconds.\n",
      "Epoch: 25 | Train Loss: 0.2844 | Train Accuracy: 93.75 | Validation Loss: 4.5141 | Validation Accuracy: 24.12\n",
      "Epoch: 26\t100.00% complete. 4.67 seconds elapsed in epoch. Time until completion 0.00 seconds.\n",
      "Epoch: 26 | Train Loss: 0.2623 | Train Accuracy: 94.39 | Validation Loss: 4.6037 | Validation Accuracy: 24.43\n",
      "Epoch: 27\t100.00% complete. 4.71 seconds elapsed in epoch. Time until completion 0.00 seconds.\n",
      "Epoch: 27 | Train Loss: 0.2492 | Train Accuracy: 94.64 | Validation Loss: 4.6572 | Validation Accuracy: 24.12\n",
      "Epoch: 28\t100.00% complete. 4.53 seconds elapsed in epoch. Time until completion 0.00 seconds.\n",
      "Epoch: 28 | Train Loss: 0.2336 | Train Accuracy: 94.97 | Validation Loss: 4.6978 | Validation Accuracy: 24.23\n",
      "Epoch: 29\t100.00% complete. 4.54 seconds elapsed in epoch. Time until completion 0.00 seconds.\n",
      "Epoch: 29 | Train Loss: 0.2197 | Train Accuracy: 95.28 | Validation Loss: 4.8142 | Validation Accuracy: 24.05\n",
      "Epoch: 30\t100.00% complete. 4.55 seconds elapsed in epoch. Time until completion 0.00 seconds.\n",
      "Epoch: 30 | Train Loss: 0.2078 | Train Accuracy: 95.50 | Validation Loss: 4.8644 | Validation Accuracy: 23.98\n",
      "Epoch: 31\t100.00% complete. 4.64 seconds elapsed in epoch. Time until completion 0.00 seconds.\n",
      "Epoch: 31 | Train Loss: 0.1965 | Train Accuracy: 95.83 | Validation Loss: 4.9732 | Validation Accuracy: 23.19\n",
      "Epoch: 32\t100.00% complete. 4.66 seconds elapsed in epoch. Time until completion 0.00 seconds.\n",
      "Epoch: 32 | Train Loss: 0.1926 | Train Accuracy: 95.84 | Validation Loss: 4.9805 | Validation Accuracy: 23.90\n",
      "Epoch: 33\t100.00% complete. 4.55 seconds elapsed in epoch. Time until completion 0.00 seconds.\n",
      "Epoch: 33 | Train Loss: 0.1913 | Train Accuracy: 95.79 | Validation Loss: 4.9645 | Validation Accuracy: 24.12\n",
      "Epoch: 34\t100.00% complete. 4.71 seconds elapsed in epoch. Time until completion 0.00 seconds.\n",
      "Epoch: 34 | Train Loss: 0.1826 | Train Accuracy: 96.02 | Validation Loss: 5.0445 | Validation Accuracy: 23.88\n",
      "Epoch: 35\t100.00% complete. 4.75 seconds elapsed in epoch. Time until completion 0.00 seconds.\n",
      "Epoch: 35 | Train Loss: 0.1733 | Train Accuracy: 96.22 | Validation Loss: 5.1210 | Validation Accuracy: 24.02\n",
      "Epoch: 36\t100.00% complete. 4.60 seconds elapsed in epoch. Time until completion 0.00 seconds.\n",
      "Epoch: 36 | Train Loss: 0.1651 | Train Accuracy: 96.38 | Validation Loss: 5.2576 | Validation Accuracy: 22.83\n",
      "Epoch: 37\t100.00% complete. 4.59 seconds elapsed in epoch. Time until completion 0.00 seconds.\n",
      "Epoch: 37 | Train Loss: 0.1582 | Train Accuracy: 96.54 | Validation Loss: 5.1949 | Validation Accuracy: 23.97\n",
      "Epoch: 38\t100.00% complete. 4.54 seconds elapsed in epoch. Time until completion 0.00 seconds.\n",
      "Epoch: 38 | Train Loss: 0.1409 | Train Accuracy: 97.16 | Validation Loss: 5.1448 | Validation Accuracy: 24.59\n",
      "Epoch: 39\t32.44% complete. 1.51 seconds elapsed in epoch. Time until completion 3.15 seconds.\r"
     ]
    },
    {
     "ename": "KeyboardInterrupt",
     "evalue": "",
     "output_type": "error",
     "traceback": [
      "\u001b[1;31m---------------------------------------------------------------------------\u001b[0m",
      "\u001b[1;31mKeyboardInterrupt\u001b[0m                         Traceback (most recent call last)",
      "Cell \u001b[1;32mIn[8], line 18\u001b[0m\n\u001b[0;32m     15\u001b[0m \u001b[39m# print(y)\u001b[39;00m\n\u001b[0;32m     16\u001b[0m  \u001b[39m#print(y)\u001b[39;00m\n\u001b[0;32m     17\u001b[0m  y_hat \u001b[39m=\u001b[39m model(x)\n\u001b[1;32m---> 18\u001b[0m  loss \u001b[39m=\u001b[39m loss_funk(y_hat, totensor(y))\n\u001b[0;32m     19\u001b[0m  optimizer\u001b[39m.\u001b[39mzero_grad()\n\u001b[0;32m     20\u001b[0m  loss\u001b[39m.\u001b[39mbackward()\n",
      "Cell \u001b[1;32mIn[5], line 7\u001b[0m, in \u001b[0;36mtotensor\u001b[1;34m(y)\u001b[0m\n\u001b[0;32m      3\u001b[0m \u001b[39m# print(y[0])\u001b[39;00m\n\u001b[0;32m      4\u001b[0m \u001b[39m# print(y[0][0])\u001b[39;00m\n\u001b[0;32m      5\u001b[0m \u001b[39m# print(y[0][0].item())\u001b[39;00m\n\u001b[0;32m      6\u001b[0m  \u001b[39mfor\u001b[39;00m i \u001b[39min\u001b[39;00m \u001b[39mrange\u001b[39m(\u001b[39m0\u001b[39m,\u001b[39mlen\u001b[39m(y)):\n\u001b[1;32m----> 7\u001b[0m      ret[i][\u001b[39mround\u001b[39m(y[i]\u001b[39m.\u001b[39;49mitem())]\u001b[39m=\u001b[39m\u001b[39m1\u001b[39m\n\u001b[0;32m      8\u001b[0m  \u001b[39mreturn\u001b[39;00m torch\u001b[39m.\u001b[39mTensor(ret)\u001b[39m.\u001b[39mto(device)\n",
      "\u001b[1;31mKeyboardInterrupt\u001b[0m: "
     ]
    }
   ],
   "source": [
    "# MAKE SURE TO INITIALIZE PARAMETERS BEFORE STARTING TRAINING\n",
    "best_model=model\n",
    "best_loss=100000000\n",
    "\n",
    "\n",
    "import time\n",
    "for epoha in range(1,broj_epoha+1):\n",
    "    train_running_loss =0.0\n",
    "    train_acc=0.0\n",
    "    model = model.train() \n",
    "    start=time.time()\n",
    "    for batch_num, (x, y) in enumerate(loader):\n",
    "            x = x.to(device)\n",
    "            y = y.to(device)\n",
    "           # print(y)\n",
    "            #print(y)\n",
    "            y_hat = model(x)\n",
    "            loss = loss_funk(y_hat, totensor(y))\n",
    "            optimizer.zero_grad()\n",
    "            loss.backward()\n",
    "            optimizer.step()\n",
    "\n",
    "\n",
    "            train_running_loss += loss.detach().item()\n",
    "            train_acc += get_accuracy(y_hat=y_hat, y=y)/len(y)\n",
    "            del y_hat\n",
    "\n",
    "            print(f'Epoch: {epoha}\\t{100 * (batch_num + 1) / len(loader):.2f}% complete. {time.time() - start:.2f} seconds elapsed in epoch. Time until completion {(time.time()-start)/((batch_num + 1) / len(loader)) - time.time()+start:.2f} seconds.',\n",
    "                end='\\r')\n",
    "\n",
    "    print(f'',end='\\n')    \n",
    "    epoch_loss = train_running_loss / batch_num\n",
    "    epoch_acc = 100*train_acc / batch_num\n",
    "    val_loss,val_acc = validation(model)\n",
    "    if val_loss<best_loss:\n",
    "          best_loss=val_loss\n",
    "          best_model=model\n",
    "    print('Epoch: %d | Train Loss: %.4f | Train Accuracy: %.2f | Validation Loss: %.4f | Validation Accuracy: %.2f' \\\n",
    "          %(epoha, epoch_loss, epoch_acc,val_loss,val_acc))"
   ]
  },
  {
   "cell_type": "code",
   "execution_count": null,
   "metadata": {},
   "outputs": [],
   "source": [
    "def testt(model):\n",
    "        kol=0\n",
    "        for i in range(0,len(test_set)):\n",
    "            out=test(model,test_set[i][0].reshape(1,1564))\n",
    "            ans=test_set[i][1].item()\n",
    "            if round(ans)==out:\n",
    "                kol+=1\n",
    "        return kol\n",
    "print(testt(model))\n",
    "print(testt(model)/len(test_set)*100)"
   ]
  },
  {
   "cell_type": "code",
   "execution_count": null,
   "metadata": {},
   "outputs": [],
   "source": [
    "print(validation(model))"
   ]
  },
  {
   "cell_type": "code",
   "execution_count": null,
   "metadata": {},
   "outputs": [],
   "source": []
  }
 ],
 "metadata": {
  "kernelspec": {
   "display_name": "Python 3",
   "language": "python",
   "name": "python3"
  },
  "language_info": {
   "codemirror_mode": {
    "name": "ipython",
    "version": 3
   },
   "file_extension": ".py",
   "mimetype": "text/x-python",
   "name": "python",
   "nbconvert_exporter": "python",
   "pygments_lexer": "ipython3",
   "version": "3.11.4"
  },
  "orig_nbformat": 4
 },
 "nbformat": 4,
 "nbformat_minor": 2
}
